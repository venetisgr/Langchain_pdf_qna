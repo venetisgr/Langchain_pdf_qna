{
 "cells": [
  {
   "cell_type": "code",
   "execution_count": 1,
   "metadata": {},
   "outputs": [
    {
     "name": "stdout",
     "output_type": "stream",
     "text": [
      "['OPENAI_API_KEY', 'PINECONE_API_KEY', 'PINECONE_API_ENV', 'PROXYCURL_API_KEY', 'SERPAPI_API_KEY']\n"
     ]
    },
    {
     "name": "stderr",
     "output_type": "stream",
     "text": [
      "/Users/venetispallikaras/opt/anaconda3/envs/nlp_pip/lib/python3.11/site-packages/pinecone/index.py:4: TqdmExperimentalWarning: Using `tqdm.autonotebook.tqdm` in notebook mode. Use `tqdm.tqdm` instead to force console mode (e.g. in jupyter console)\n",
      "  from tqdm.autonotebook import tqdm\n"
     ]
    }
   ],
   "source": [
    "# import glob\n",
    "# import pathlib\n",
    "\n",
    "# from langchain.document_loaders import PyPDFDirectoryLoader\n",
    "# from langchain.document_loaders import PyPDFLoader \n",
    "# from langchain.embeddings import OpenAIEmbeddings \n",
    "# from langchain.vectorstores import Chroma \n",
    "# from langchain.chains import ConversationalRetrievalChain\n",
    "# from langchain.memory import ConversationBufferMemory\n",
    "# from langchain.llms import OpenAI\n",
    "\n",
    "# from langchain.document_loaders import UnstructuredPDFLoader\n",
    "# from langchain.indexes import VectorstoreIndexCreator\n",
    "\n",
    "# from langchain.document_loaders import PyPDFLoader\n",
    "# from langchain.document_loaders import DirectoryLoader\n",
    "# from langchain.text_splitter import RecursiveCharacterTextSplitter\n",
    "# import tiktoken\n",
    "# import pinecone\n",
    "\n",
    "from utils.utils import pdf_loader,pdf_2_chunks,pinecone_init,load_chunks_2_pinecone,delete_pinecone_index,pinecone_status,query_pinecone\n",
    "\n",
    "from key_storage import key_dict\n",
    "print(list(key_dict.keys()))\n",
    "\n",
    "%reload_ext autoreload\n",
    "%autoreload 2"
   ]
  },
  {
   "cell_type": "code",
   "execution_count": null,
   "metadata": {},
   "outputs": [],
   "source": []
  },
  {
   "cell_type": "code",
   "execution_count": 2,
   "metadata": {},
   "outputs": [],
   "source": [
    "# token_counts = [tiktoken_len(doc.page_content) for doc in documents]\n",
    "# print(f\"\"\"Min: {min(token_counts)}\n",
    "# Avg: {int(sum(token_counts) / len(token_counts))}\n",
    "# Max: {max(token_counts)}\"\"\")"
   ]
  },
  {
   "cell_type": "code",
   "execution_count": 3,
   "metadata": {},
   "outputs": [],
   "source": [
    "# import matplotlib.pyplot as plt\n",
    "# import seaborn as sns\n",
    "\n",
    "# # set style and color palette for the plot\n",
    "# sns.set_style(\"whitegrid\")\n",
    "# sns.set_palette(\"muted\")\n",
    "\n",
    "# # create histogram\n",
    "# plt.figure(figsize=(12, 6))\n",
    "# sns.histplot(token_counts, kde=False, bins=50)\n",
    "\n",
    "# # customize the plot info\n",
    "# plt.title(\"Token Counts Histogram\")\n",
    "# plt.xlabel(\"Token Count\")\n",
    "# plt.ylabel(\"Frequency\")\n",
    "\n",
    "# plt.show()\n"
   ]
  },
  {
   "cell_type": "code",
   "execution_count": 4,
   "metadata": {},
   "outputs": [
    {
     "data": {
      "text/plain": [
       "'Given the following extracted parts of a long document and a question, create a final answer with references (\"SOURCES\"). \\nIf you don\\'t know the answer, just say that you don\\'t know. Don\\'t try to make up an answer.\\nALWAYS return a \"SOURCES\" part in your answer.\\n\\nQUESTION: Which state/country\\'s law governs the interpretation of the contract?\\n=========\\nContent: This Agreement is governed by English law and the parties submit to the exclusive jurisdiction of the English courts in  relation to any dispute (contractual or non-contractual) concerning this Agreement save that either party may apply to any court for an  injunction or other relief to protect its Intellectual Property Rights.\\nSource: 28-pl\\nContent: No Waiver. Failure or delay in exercising any right or remedy under this Agreement shall not constitute a waiver of such (or any other)  right or remedy.\\n\\n11.7 Severability. The invalidity, illegality or unenforceability of any term (or part of a term) of this Agreement shall not affect the continuation  in force of the remainder of the term (if any) and this Agreement.\\n\\n11.8 No Agency. Except as expressly stated otherwise, nothing in this Agreement shall create an agency, partnership or joint venture of any  kind between the parties.\\n\\n11.9 No Third-Party Beneficiaries.\\nSource: 30-pl\\nContent: (b) if Google believes, in good faith, that the Distributor has violated or caused Google to violate any Anti-Bribery Laws (as  defined in Clause 8.5) or that such a violation is reasonably likely to occur,\\nSource: 4-pl\\n=========\\nFINAL ANSWER: This Agreement is governed by English law.\\nSOURCES: 28-pl\\n\\nQUESTION: What did the president say about Michael Jackson?\\n=========\\nContent: Madam Speaker, Madam Vice President, our First Lady and Second Gentleman. Members of Congress and the Cabinet. Justices of the Supreme Court. My fellow Americans.  \\n\\nLast year COVID-19 kept us apart. This year we are finally together again. \\n\\nTonight, we meet as Democrats Republicans and Independents. But most importantly as Americans. \\n\\nWith a duty to one another to the American people to the Constitution. \\n\\nAnd with an unwavering resolve that freedom will always triumph over tyranny. \\n\\nSix days ago, Russia’s Vladimir Putin sought to shake the foundations of the free world thinking he could make it bend to his menacing ways. But he badly miscalculated. \\n\\nHe thought he could roll into Ukraine and the world would roll over. Instead he met a wall of strength he never imagined. \\n\\nHe met the Ukrainian people. \\n\\nFrom President Zelenskyy to every Ukrainian, their fearlessness, their courage, their determination, inspires the world. \\n\\nGroups of citizens blocking tanks with their bodies. Everyone from students to retirees teachers turned soldiers defending their homeland.\\nSource: 0-pl\\nContent: And we won’t stop. \\n\\nWe have lost so much to COVID-19. Time with one another. And worst of all, so much loss of life. \\n\\nLet’s use this moment to reset. Let’s stop looking at COVID-19 as a partisan dividing line and see it for what it is: A God-awful disease.  \\n\\nLet’s stop seeing each other as enemies, and start seeing each other for who we really are: Fellow Americans.  \\n\\nWe can’t change how divided we’ve been. But we can change how we move forward—on COVID-19 and other issues we must face together. \\n\\nI recently visited the New York City Police Department days after the funerals of Officer Wilbert Mora and his partner, Officer Jason Rivera. \\n\\nThey were responding to a 9-1-1 call when a man shot and killed them with a stolen gun. \\n\\nOfficer Mora was 27 years old. \\n\\nOfficer Rivera was 22. \\n\\nBoth Dominican Americans who’d grown up on the same streets they later chose to patrol as police officers. \\n\\nI spoke with their families and told them that we are forever in debt for their sacrifice, and we will carry on their mission to restore the trust and safety every community deserves.\\nSource: 24-pl\\nContent: And a proud Ukrainian people, who have known 30 years  of independence, have repeatedly shown that they will not tolerate anyone who tries to take their country backwards.  \\n\\nTo all Americans, I will be honest with you, as I’ve always promised. A Russian dictator, invading a foreign country, has costs around the world. \\n\\nAnd I’m taking robust action to make sure the pain of our sanctions  is targeted at Russia’s economy. And I will use every tool at our disposal to protect American businesses and consumers. \\n\\nTonight, I can announce that the United States has worked with 30 other countries to release 60 Million barrels of oil from reserves around the world.  \\n\\nAmerica will lead that effort, releasing 30 Million barrels from our own Strategic Petroleum Reserve. And we stand ready to do more if necessary, unified with our allies.  \\n\\nThese steps will help blunt gas prices here at home. And I know the news about what’s happening can seem alarming. \\n\\nBut I want you to know that we are going to be okay.\\nSource: 5-pl\\nContent: More support for patients and families. \\n\\nTo get there, I call on Congress to fund ARPA-H, the Advanced Research Projects Agency for Health. \\n\\nIt’s based on DARPA—the Defense Department project that led to the Internet, GPS, and so much more.  \\n\\nARPA-H will have a singular purpose—to drive breakthroughs in cancer, Alzheimer’s, diabetes, and more. \\n\\nA unity agenda for the nation. \\n\\nWe can do this. \\n\\nMy fellow Americans—tonight , we have gathered in a sacred space—the citadel of our democracy. \\n\\nIn this Capitol, generation after generation, Americans have debated great questions amid great strife, and have done great things. \\n\\nWe have fought for freedom, expanded liberty, defeated totalitarianism and terror. \\n\\nAnd built the strongest, freest, and most prosperous nation the world has ever known. \\n\\nNow is the hour. \\n\\nOur moment of responsibility. \\n\\nOur test of resolve and conscience, of history itself. \\n\\nIt is in this moment that our character is formed. Our purpose is found. Our future is forged. \\n\\nWell I know this nation.\\nSource: 34-pl\\n=========\\nFINAL ANSWER: The president did not mention Michael Jackson.\\nSOURCES:\\n\\nQUESTION: {question}\\n=========\\n{summaries}\\n=========\\nFINAL ANSWER:'"
      ]
     },
     "execution_count": 4,
     "metadata": {},
     "output_type": "execute_result"
    }
   ],
   "source": [
    "\"\"\"Given the following extracted parts of a long document and a question, create a final answer with references (\"SOURCES\"). \n",
    "If you don't know the answer, just say that you don't know. Don't try to make up an answer.\n",
    "ALWAYS return a \"SOURCES\" part in your answer.\n",
    "\n",
    "QUESTION: Which state/country's law governs the interpretation of the contract?\n",
    "=========\n",
    "Content: This Agreement is governed by English law and the parties submit to the exclusive jurisdiction of the English courts in  relation to any dispute (contractual or non-contractual) concerning this Agreement save that either party may apply to any court for an  injunction or other relief to protect its Intellectual Property Rights.\n",
    "Source: 28-pl\n",
    "Content: No Waiver. Failure or delay in exercising any right or remedy under this Agreement shall not constitute a waiver of such (or any other)  right or remedy.\n",
    "\n",
    "11.7 Severability. The invalidity, illegality or unenforceability of any term (or part of a term) of this Agreement shall not affect the continuation  in force of the remainder of the term (if any) and this Agreement.\n",
    "\n",
    "11.8 No Agency. Except as expressly stated otherwise, nothing in this Agreement shall create an agency, partnership or joint venture of any  kind between the parties.\n",
    "\n",
    "11.9 No Third-Party Beneficiaries.\n",
    "Source: 30-pl\n",
    "Content: (b) if Google believes, in good faith, that the Distributor has violated or caused Google to violate any Anti-Bribery Laws (as  defined in Clause 8.5) or that such a violation is reasonably likely to occur,\n",
    "Source: 4-pl\n",
    "=========\n",
    "FINAL ANSWER: This Agreement is governed by English law.\n",
    "SOURCES: 28-pl\n",
    "\n",
    "QUESTION: What did the president say about Michael Jackson?\n",
    "=========\n",
    "Content: Madam Speaker, Madam Vice President, our First Lady and Second Gentleman. Members of Congress and the Cabinet. Justices of the Supreme Court. My fellow Americans.  \n",
    "\n",
    "Last year COVID-19 kept us apart. This year we are finally together again. \n",
    "\n",
    "Tonight, we meet as Democrats Republicans and Independents. But most importantly as Americans. \n",
    "\n",
    "With a duty to one another to the American people to the Constitution. \n",
    "\n",
    "And with an unwavering resolve that freedom will always triumph over tyranny. \n",
    "\n",
    "Six days ago, Russia’s Vladimir Putin sought to shake the foundations of the free world thinking he could make it bend to his menacing ways. But he badly miscalculated. \n",
    "\n",
    "He thought he could roll into Ukraine and the world would roll over. Instead he met a wall of strength he never imagined. \n",
    "\n",
    "He met the Ukrainian people. \n",
    "\n",
    "From President Zelenskyy to every Ukrainian, their fearlessness, their courage, their determination, inspires the world. \n",
    "\n",
    "Groups of citizens blocking tanks with their bodies. Everyone from students to retirees teachers turned soldiers defending their homeland.\n",
    "Source: 0-pl\n",
    "Content: And we won’t stop. \n",
    "\n",
    "We have lost so much to COVID-19. Time with one another. And worst of all, so much loss of life. \n",
    "\n",
    "Let’s use this moment to reset. Let’s stop looking at COVID-19 as a partisan dividing line and see it for what it is: A God-awful disease.  \n",
    "\n",
    "Let’s stop seeing each other as enemies, and start seeing each other for who we really are: Fellow Americans.  \n",
    "\n",
    "We can’t change how divided we’ve been. But we can change how we move forward—on COVID-19 and other issues we must face together. \n",
    "\n",
    "I recently visited the New York City Police Department days after the funerals of Officer Wilbert Mora and his partner, Officer Jason Rivera. \n",
    "\n",
    "They were responding to a 9-1-1 call when a man shot and killed them with a stolen gun. \n",
    "\n",
    "Officer Mora was 27 years old. \n",
    "\n",
    "Officer Rivera was 22. \n",
    "\n",
    "Both Dominican Americans who’d grown up on the same streets they later chose to patrol as police officers. \n",
    "\n",
    "I spoke with their families and told them that we are forever in debt for their sacrifice, and we will carry on their mission to restore the trust and safety every community deserves.\n",
    "Source: 24-pl\n",
    "Content: And a proud Ukrainian people, who have known 30 years  of independence, have repeatedly shown that they will not tolerate anyone who tries to take their country backwards.  \n",
    "\n",
    "To all Americans, I will be honest with you, as I’ve always promised. A Russian dictator, invading a foreign country, has costs around the world. \n",
    "\n",
    "And I’m taking robust action to make sure the pain of our sanctions  is targeted at Russia’s economy. And I will use every tool at our disposal to protect American businesses and consumers. \n",
    "\n",
    "Tonight, I can announce that the United States has worked with 30 other countries to release 60 Million barrels of oil from reserves around the world.  \n",
    "\n",
    "America will lead that effort, releasing 30 Million barrels from our own Strategic Petroleum Reserve. And we stand ready to do more if necessary, unified with our allies.  \n",
    "\n",
    "These steps will help blunt gas prices here at home. And I know the news about what’s happening can seem alarming. \n",
    "\n",
    "But I want you to know that we are going to be okay.\n",
    "Source: 5-pl\n",
    "Content: More support for patients and families. \n",
    "\n",
    "To get there, I call on Congress to fund ARPA-H, the Advanced Research Projects Agency for Health. \n",
    "\n",
    "It’s based on DARPA—the Defense Department project that led to the Internet, GPS, and so much more.  \n",
    "\n",
    "ARPA-H will have a singular purpose—to drive breakthroughs in cancer, Alzheimer’s, diabetes, and more. \n",
    "\n",
    "A unity agenda for the nation. \n",
    "\n",
    "We can do this. \n",
    "\n",
    "My fellow Americans—tonight , we have gathered in a sacred space—the citadel of our democracy. \n",
    "\n",
    "In this Capitol, generation after generation, Americans have debated great questions amid great strife, and have done great things. \n",
    "\n",
    "We have fought for freedom, expanded liberty, defeated totalitarianism and terror. \n",
    "\n",
    "And built the strongest, freest, and most prosperous nation the world has ever known. \n",
    "\n",
    "Now is the hour. \n",
    "\n",
    "Our moment of responsibility. \n",
    "\n",
    "Our test of resolve and conscience, of history itself. \n",
    "\n",
    "It is in this moment that our character is formed. Our purpose is found. Our future is forged. \n",
    "\n",
    "Well I know this nation.\n",
    "Source: 34-pl\n",
    "=========\n",
    "FINAL ANSWER: The president did not mention Michael Jackson.\n",
    "SOURCES:\n",
    "\n",
    "QUESTION: {question}\n",
    "=========\n",
    "{summaries}\n",
    "=========\n",
    "FINAL ANSWER:\"\"\""
   ]
  },
  {
   "cell_type": "code",
   "execution_count": 5,
   "metadata": {},
   "outputs": [],
   "source": [
    "# from langchain.prompts import PromptTemplate\n",
    "\n",
    "# template = \"\"\"Given the following extracted parts of a long document and a question, create a final answer with references (\"SOURCES\"). \n",
    "# If you don't know the answer, just say that you don't know. Don't try to make up an answer.\n",
    "# ALWAYS return a \"SOURCES\" part in your answer.\n",
    "\n",
    "# QUESTION: Which state/country's law governs the interpretation of the contract?\n",
    "# =========\n",
    "# Content: This Agreement is governed by English law and the parties submit to the exclusive jurisdiction of the English courts in  relation to any dispute (contractual or non-contractual) concerning this Agreement save that either party may apply to any court for an  injunction or other relief to protect its Intellectual Property Rights.\n",
    "# Source: 28-pl\n",
    "# Content: No Waiver. Failure or delay in exercising any right or remedy under this Agreement shall not constitute a waiver of such (or any other)  right or remedy.\\n\\n11.7 Severability. The invalidity, illegality or unenforceability of any term (or part of a term) of this Agreement shall not affect the continuation  in force of the remainder of the term (if any) and this Agreement.\\n\\n11.8 No Agency. Except as expressly stated otherwise, nothing in this Agreement shall create an agency, partnership or joint venture of any  kind between the parties.\\n\\n11.9 No Third-Party Beneficiaries.\n",
    "# Source: 30-pl\n",
    "# Content: (b) if Google believes, in good faith, that the Distributor has violated or caused Google to violate any Anti-Bribery Laws (as  defined in Clause 8.5) or that such a violation is reasonably likely to occur,\n",
    "# Source: 4-pl\n",
    "# =========\n",
    "# FINAL ANSWER: This Agreement is governed by English law.\n",
    "# SOURCES: 28-pl\n",
    "\n",
    "# QUESTION: What did the president say about Michael Jackson?\n",
    "# =========\n",
    "# Content: Madam Speaker, Madam Vice President, our First Lady and Second Gentleman. Members of Congress and the Cabinet. Justices of the Supreme Court. My fellow Americans.  \\n\\nLast year COVID-19 kept us apart. This year we are finally together again. \\n\\nTonight, we meet as Democrats Republicans and Independents. But most importantly as Americans. \\n\\nWith a duty to one another to the American people to the Constitution. \\n\\nAnd with an unwavering resolve that freedom will always triumph over tyranny. \\n\\nSix days ago, Russia’s Vladimir Putin sought to shake the foundations of the free world thinking he could make it bend to his menacing ways. But he badly miscalculated. \\n\\nHe thought he could roll into Ukraine and the world would roll over. Instead he met a wall of strength he never imagined. \\n\\nHe met the Ukrainian people. \\n\\nFrom President Zelenskyy to every Ukrainian, their fearlessness, their courage, their determination, inspires the world. \\n\\nGroups of citizens blocking tanks with their bodies. Everyone from students to retirees teachers turned soldiers defending their homeland.\n",
    "# Source: 0-pl\n",
    "# Content: And we won’t stop. \\n\\nWe have lost so much to COVID-19. Time with one another. And worst of all, so much loss of life. \\n\\nLet’s use this moment to reset. Let’s stop looking at COVID-19 as a partisan dividing line and see it for what it is: A God-awful disease.  \\n\\nLet’s stop seeing each other as enemies, and start seeing each other for who we really are: Fellow Americans.  \\n\\nWe can’t change how divided we’ve been. But we can change how we move forward—on COVID-19 and other issues we must face together. \\n\\nI recently visited the New York City Police Department days after the funerals of Officer Wilbert Mora and his partner, Officer Jason Rivera. \\n\\nThey were responding to a 9-1-1 call when a man shot and killed them with a stolen gun. \\n\\nOfficer Mora was 27 years old. \\n\\nOfficer Rivera was 22. \\n\\nBoth Dominican Americans who’d grown up on the same streets they later chose to patrol as police officers. \\n\\nI spoke with their families and told them that we are forever in debt for their sacrifice, and we will carry on their mission to restore the trust and safety every community deserves.\n",
    "# Source: 24-pl\n",
    "# Content: And a proud Ukrainian people, who have known 30 years  of independence, have repeatedly shown that they will not tolerate anyone who tries to take their country backwards.  \\n\\nTo all Americans, I will be honest with you, as I’ve always promised. A Russian dictator, invading a foreign country, has costs around the world. \\n\\nAnd I’m taking robust action to make sure the pain of our sanctions  is targeted at Russia’s economy. And I will use every tool at our disposal to protect American businesses and consumers. \\n\\nTonight, I can announce that the United States has worked with 30 other countries to release 60 Million barrels of oil from reserves around the world.  \\n\\nAmerica will lead that effort, releasing 30 Million barrels from our own Strategic Petroleum Reserve. And we stand ready to do more if necessary, unified with our allies.  \\n\\nThese steps will help blunt gas prices here at home. And I know the news about what’s happening can seem alarming. \\n\\nBut I want you to know that we are going to be okay.\n",
    "# Source: 5-pl\n",
    "# Content: More support for patients and families. \\n\\nTo get there, I call on Congress to fund ARPA-H, the Advanced Research Projects Agency for Health. \\n\\nIt’s based on DARPA—the Defense Department project that led to the Internet, GPS, and so much more.  \\n\\nARPA-H will have a singular purpose—to drive breakthroughs in cancer, Alzheimer’s, diabetes, and more. \\n\\nA unity agenda for the nation. \\n\\nWe can do this. \\n\\nMy fellow Americans—tonight , we have gathered in a sacred space—the citadel of our democracy. \\n\\nIn this Capitol, generation after generation, Americans have debated great questions amid great strife, and have done great things. \\n\\nWe have fought for freedom, expanded liberty, defeated totalitarianism and terror. \\n\\nAnd built the strongest, freest, and most prosperous nation the world has ever known. \\n\\nNow is the hour. \\n\\nOur moment of responsibility. \\n\\nOur test of resolve and conscience, of history itself. \\n\\nIt is in this moment that our character is formed. Our purpose is found. Our future is forged. \\n\\nWell I know this nation.\n",
    "# Source: 34-pl\n",
    "# =========\n",
    "# FINAL ANSWER: The president did not mention Michael Jackson.\n",
    "# SOURCES:\n",
    "\n",
    "# QUESTION: {question}\n",
    "# =========\n",
    "# {summaries}\n",
    "# =========\n",
    "# FINAL ANSWER:\"\"\"\n",
    "# PROMPT = PromptTemplate(template=template, input_variables=[\"summaries\", \"question\"])\n",
    "\n",
    "# EXAMPLE_PROMPT = PromptTemplate(\n",
    "#     template=\"Content: {page_content}\\nSource: {source}\",\n",
    "#     input_variables=[\"page_content\", \"source\"],\n",
    "# )"
   ]
  },
  {
   "cell_type": "code",
   "execution_count": null,
   "metadata": {},
   "outputs": [],
   "source": []
  },
  {
   "cell_type": "code",
   "execution_count": 6,
   "metadata": {},
   "outputs": [
    {
     "data": {
      "text/plain": [
       "'Write a comprehensive summary of this financial report. \\n\\nDivide it into,\\n1. Financial highlights\\n2. Analysis of Financial results\\n3. Trends\\n4. Risks\\n5. Conclusion\\n\\n{text}\\n\\nSUMMARY:'"
      ]
     },
     "execution_count": 6,
     "metadata": {},
     "output_type": "execute_result"
    }
   ],
   "source": [
    "\"\"\"Write a comprehensive summary of this financial report. \n",
    "\n",
    "Divide it into,\n",
    "1. Financial highlights\n",
    "2. Analysis of Financial results\n",
    "3. Trends\n",
    "4. Risks\n",
    "5. Conclusion\n",
    "\n",
    "{text}\n",
    "\n",
    "SUMMARY:\"\"\""
   ]
  },
  {
   "cell_type": "code",
   "execution_count": null,
   "metadata": {},
   "outputs": [],
   "source": []
  },
  {
   "cell_type": "code",
   "execution_count": null,
   "metadata": {},
   "outputs": [],
   "source": []
  },
  {
   "cell_type": "code",
   "execution_count": null,
   "metadata": {},
   "outputs": [],
   "source": [
    "\n"
   ]
  },
  {
   "cell_type": "code",
   "execution_count": null,
   "metadata": {},
   "outputs": [],
   "source": [
    "\n",
    "\n"
   ]
  },
  {
   "cell_type": "code",
   "execution_count": 7,
   "metadata": {},
   "outputs": [],
   "source": [
    "#tokens viz #todo\n",
    "#todotodo"
   ]
  },
  {
   "cell_type": "code",
   "execution_count": null,
   "metadata": {},
   "outputs": [],
   "source": []
  },
  {
   "cell_type": "code",
   "execution_count": null,
   "metadata": {},
   "outputs": [],
   "source": []
  },
  {
   "cell_type": "code",
   "execution_count": 8,
   "metadata": {},
   "outputs": [
    {
     "name": "stdout",
     "output_type": "stream",
     "text": [
      "No documents: 2\n"
     ]
    },
    {
     "data": {
      "text/plain": [
       "[Document(page_content='JPMORGAN CHASE BANK, NATIONAL ASSOCIATION (a wholly-owned subsidiary of JPMorgan Chase & Co.)\\n\\nCONSOLIDATED FINANCIAL STATEMENTS For the three years ended December 31, 2022\\n\\nJPMorgan Chase Bank, National Association/2022 Consolidated Financial Statements\\n\\n2\\n\\nConsolidated statements of income JPMorgan Chase Bank, National Association (a wholly-owned subsidiary of JPMorgan Chase & Co.)\\n\\nYear ended December 31, (in millions)\\n\\n2022\\n\\n2021\\n\\n2020\\n\\nRevenue\\n\\nInvestment banking fees\\n\\nPrincipal transactions\\n\\nLending- and deposit-related fees\\n\\nAsset management, administration and commissions\\n\\nInvestment securities gains/(losses)\\n\\nMortgage fees and related income\\n\\nCard income\\n\\nOther income\\n\\nNoninterest revenue\\n\\nInterest income\\n\\nInterest expense\\n\\nNet interest income\\n\\nTotal net revenue\\n\\nProvision for credit losses\\n\\nNoninterest expense\\n\\nCompensation expense\\n\\nOccupancy expense\\n\\nTechnology, communications and equipment expense\\n\\nProfessional and outside services\\n\\nMarketing\\n\\nOther expense\\n\\nTotal noninterest expense\\n\\nIncome before income tax expense\\n\\nIncome tax expense\\n\\nNet income\\n\\n$\\n\\n2,955\\n\\n$\\n\\n5,232\\n\\n$\\n\\n17,895\\n\\n7,095\\n\\n13,935\\n\\n(2,380)\\n\\n1,250\\n\\n4,421\\n\\n5,384\\n\\n50,555\\n\\n84,097\\n\\n15,675\\n\\n68,422\\n\\n118,977\\n\\n13,677\\n\\n7,031\\n\\n14,021\\n\\n(345)\\n\\n2,170\\n\\n5,102\\n\\n5,511\\n\\n52,399\\n\\n53,870\\n\\n2,064\\n\\n51,806\\n\\n104,205\\n\\n3,527\\n\\n14,784\\n\\n6,510\\n\\n12,406\\n\\n802\\n\\n3,092\\n\\n4,435\\n\\n5,931\\n\\n51,487\\n\\n58,900\\n\\n4,987\\n\\n53,913\\n\\n105,400\\n\\n6,347\\n\\n(9,296)\\n\\n17,483\\n\\n34,000\\n\\n4,469\\n\\n8,646\\n\\n6,983\\n\\n3,877\\n\\n10,761\\n\\n68,736\\n\\n43,894\\n\\n9,552\\n\\n31,212\\n\\n4,313\\n\\n9,304\\n\\n6,510\\n\\n2,936\\n\\n10,170\\n\\n64,445\\n\\n49,056\\n\\n11,001\\n\\n$\\n\\n34,342 $\\n\\n38,055 $\\n\\n28,725\\n\\n4,249\\n\\n9,890\\n\\n5,692\\n\\n2,338\\n\\n9,821\\n\\n60,715\\n\\n27,202\\n\\n6,170\\n\\n21,032\\n\\nThe Notes to Consolidated Financial Statements are an integral part of these statements.\\n\\nJPMorgan Chase Bank, National Association/2022 Consolidated Financial Statements\\n\\n3\\n\\nConsolidated statements of comprehensive income JPMorgan Chase Bank, National Association (a wholly-owned subsidiary of JPMorgan Chase & Co.)\\n\\nYear ended December 31, (in millions)\\n\\nNet income\\n\\nOther comprehensive income/(loss), after–tax\\n\\nUnrealized gains/(losses) on investment securities\\n\\nTranslation adjustments, net of hedges\\n\\nCash flow hedges\\n\\nDefined benefit pension and OPEB plans\\n\\nDVA on fair value option elected liabilities\\n\\nTotal other comprehensive income/(loss), after–tax\\n\\nComprehensive income\\n\\n2022\\n\\n2021\\n\\n$\\n\\n34,342 $\\n\\n38,055 $\\n\\n(11,751)\\n\\n(555)\\n\\n(5,359)\\n\\n(742)\\n\\n265\\n\\n(18,142)\\n\\n(5,516)\\n\\n(442)\\n\\n(2,679)\\n\\n688\\n\\n(291)\\n\\n(8,240)\\n\\n$\\n\\n16,200 $\\n\\n29,815 $\\n\\n2020\\n\\n21,032\\n\\n4,146\\n\\n242\\n\\n2,322\\n\\n(3)\\n\\n(45)\\n\\n6,662\\n\\n27,694\\n\\nThe Notes to Consolidated Financial Statements are an integral part of these statements.\\n\\n4\\n\\nJPMorgan Chase Bank, National Association/2022 Consolidated Financial Statements\\n\\nConsolidated balance sheets JPMorgan Chase Bank, National Association (a wholly-owned subsidiary of JPMorgan Chase & Co.)\\n\\nDecember 31, (in millions, except share data) Assets\\n\\nCash and due from banks\\n\\nDeposits with banks\\n\\nFederal funds sold and securities purchased under resale agreements (included $193,945 and $176,980 at fair value) Securities borrowed (included $22,454 and $32,112 at fair value) Trading assets (included assets pledged of $39,458 and $49,335(a)) Available-for-sale securities (amortized cost of $216,103 and $308,039, included assets pledged of $15,274 and $31,124(a)) Held-to-maturity securities\\n\\nInvestment securities, net of allowance for credit losses\\n\\nLoans (included $41,795 and $58,471 at fair value) Allowance for loan losses\\n\\nLoans, net of allowance for loan losses\\n\\nAccrued interest and accounts receivable\\n\\nPremises and equipment\\n\\nGoodwill, MSRs and other intangible assets Other assets (included $12,667 and $11,016 at fair value and assets pledged of $2,505 and $1,750) Total assets(b)\\n\\nLiabilities Deposits (included $28,742 and $11,479 at fair value) Federal funds purchased and securities loaned or sold under repurchase agreements (included $75,327 and $81,545 at fair value)\\n\\nShort-term borrowings (included $7,796 and $11,619 at fair value)\\n\\nTrading liabilities\\n\\nAccounts payable and other liabilities (included $7,760 and $7,366 at fair value)\\n\\nBeneficial interests issued by consolidated variable interest entities Long-term debt (included $27,145 and $35,633 at fair value) Total liabilities(b)\\n\\nCommitments and contingencies (refer to Notes 26, 27 and 28)\\n\\nStockholder’s equity\\n\\nPreferred stock ($1 par value; authorized 15,000,000 shares: issued 0 shares)\\n\\nCommon stock ($12 par value; authorized 200,000,000 shares; issued 168,971,750 shares)\\n\\nAdditional paid-in capital\\n\\nRetained earnings Accumulated other comprehensive income/(loss) Total stockholder’s equity Total liabilities and stockholder’s equity\\n\\n2022\\n\\n2021\\n\\n$\\n\\n27,258 $\\n\\n25,657\\n\\n538,715\\n\\n259,460 53,642 288,420\\n\\n205,790 425,305\\n\\n631,095\\n\\n713,660\\n\\n227,457 65,111 293,428\\n\\n308,318 363,707\\n\\n672,025\\n\\n1,132,985 (19,714)\\n\\n1,075,106 (16,378)\\n\\n1,113,271\\n\\n1,058,728\\n\\n89,373\\n\\n26,347\\n\\n48,600 125,761\\n\\n76,345\\n\\n25,757\\n\\n45,831 102,983\\n\\n$ 3,201,942\\n\\n$ 3,306,982\\n\\n$ 2,440,722\\n\\n$ 2,549,631\\n\\n85,902\\n\\n10,074\\n\\n116,629\\n\\n156,433\\n\\n13,424 75,138\\n\\n102,266\\n\\n13,423\\n\\n111,017\\n\\n133,034\\n\\n10,721 84,042\\n\\n2,898,322\\n\\n3,004,134\\n\\n—\\n\\n2,028\\n\\n118,293\\n\\n—\\n\\n2,028\\n\\n118,221\\n\\n201,263 (17,964) 303,620 $ 3,201,942\\n\\n182,421 178 302,848 $ 3,306,982\\n\\n(a) Prior-period amounts have been revised to conform with the current presentation. (b) The following table presents information on assets and liabilities related to variable interest entities (“VIEs”) that are consolidated by the Bank at December 31, 2022 and 2021. The assets of the consolidated VIEs are used to settle the liabilities of those entities. The holders of the beneficial interests generally do not have recourse to the general credit of the Bank. The assets and liabilities in the table below include third-party assets and liabilities of consolidated VIEs (including balances with related parties) and exclude intercompany balances that eliminate in consolidation. Refer to Note 15 for a further discussion.\\n\\nDecember 31, (in millions)\\n\\nAssets\\n\\nTrading assets Loans All other assets Total assets\\n\\nLiabilities\\n\\nBeneficial interests issued by consolidated VIEs All other liabilities Total liabilities\\n\\n2022\\n\\n2021\\n\\n$\\n\\n2,089 34,394 290 36,773 $\\n\\n$\\n\\n13,424 132 13,556 $\\n\\n1,990 33,001 207 35,198\\n\\n10,721 144 10,865\\n\\n$\\n\\n$\\n\\n$\\n\\n$\\n\\nThe Notes to Consolidated Financial Statements are an integral part of these statements.\\n\\nJPMorgan Chase Bank, National Association/2022 Consolidated Financial Statements\\n\\n5\\n\\nConsolidated statements of changes in stockholder’s equity JPMorgan Chase Bank, National Association (a wholly-owned subsidiary of JPMorgan Chase & Co.)\\n\\nYear ended December 31, (in millions)\\n\\nCommon stock\\n\\nBalance at January 1 and December 31\\n\\nAdditional paid-in capital\\n\\nBalance at January 1\\n\\nCash capital contribution from JPMorgan Chase & Co.\\n\\nOther\\n\\nBalance at December 31\\n\\nRetained earnings\\n\\nBalance at January 1\\n\\nCumulative effect of change in accounting principles\\n\\nNet income\\n\\nCash dividends paid to JPMorgan Chase & Co.\\n\\nBalance at December 31\\n\\nAccumulated other comprehensive income/(loss)\\n\\nBalance at January 1\\n\\nOther comprehensive income/(loss), after-tax\\n\\nBalance at December 31\\n\\nTotal stockholder’s equity\\n\\n2022\\n\\n2021\\n\\n2020\\n\\n$\\n\\n2,028\\n\\n$\\n\\n2,028\\n\\n$\\n\\n2,028\\n\\n118,221\\n\\n115,248\\n\\n110,297\\n\\n—\\n\\n72\\n\\n3,000\\n\\n(27)\\n\\n5,000\\n\\n(49)\\n\\n118,293\\n\\n118,221\\n\\n115,248\\n\\n182,421\\n\\n144,366\\n\\n132,016\\n\\n—\\n\\n—\\n\\n34,342\\n\\n38,055\\n\\n(15,500)\\n\\n—\\n\\n(2,682)\\n\\n21,032\\n\\n(6,000)\\n\\n201,263\\n\\n182,421\\n\\n144,366\\n\\n178\\n\\n(18,142)\\n\\n(17,964)\\n\\n8,418\\n\\n(8,240)\\n\\n178\\n\\n1,756\\n\\n6,662\\n\\n8,418\\n\\n$ 303,620 $ 302,848 $ 270,060\\n\\nEffective January 1, 2020, the Bank adopted the CECL accounting guidance. Refer to Note 1 for further information.\\n\\nThe Notes to Consolidated Financial Statements are an integral part of these statements.\\n\\n6\\n\\nJPMorgan Chase Bank, National Association/2022 Consolidated Financial Statements\\n\\nConsolidated statements of cash flows JPMorgan Chase Bank, National Association (a wholly-owned subsidiary of JPMorgan Chase & Co.)\\n\\nYear ended December 31, (in millions)\\n\\nOperating activities\\n\\nNet income\\n\\nAdjustments to reconcile net income to net cash provided by/(used in) operating activities:\\n\\nProvision for credit losses\\n\\nDepreciation and amortization\\n\\nDeferred tax (benefit)/expense\\n\\nOther\\n\\nOriginations and purchases of loans held-for-sale\\n\\nProceeds from sales, securitizations and paydowns of loans held-for-sale\\n\\nNet change in:\\n\\nTrading assets\\n\\nSecurities borrowed\\n\\nAccrued interest and accounts receivable\\n\\nOther assets\\n\\nTrading liabilities\\n\\nAccounts payable and other liabilities\\n\\nOther operating adjustments\\n\\nNet cash provided by/(used in) operating activities\\n\\nInvesting activities\\n\\nNet change in:\\n\\n2022\\n\\n2021\\n\\n2020\\n\\n$ 34,342\\n\\n$ 38,055\\n\\n$ 21,032\\n\\n6,347\\n\\n6,590\\n\\n(3,542)\\n\\n2,380\\n\\n(9,296)\\n\\n17,483\\n\\n7,535\\n\\n2,147\\n\\n345\\n\\n8,355\\n\\n(3,819)\\n\\n(802)\\n\\n(149,091)\\n\\n(347,864)\\n\\n(166,499)\\n\\n167,713\\n\\n336,404\\n\\n175,426\\n\\n14,114\\n\\n10,973\\n\\n25,806\\n\\n(102,464)\\n\\n(20,978)\\n\\n(5,427)\\n\\n(13,088)\\n\\n(4,722)\\n\\n(17,569)\\n\\n(29,954)\\n\\n21,442\\n\\n(26,435)\\n\\n7,404\\n\\n(38,612)\\n\\n62,987\\n\\n46,646\\n\\n12,529\\n\\n8\\n\\n284\\n\\n1,455\\n\\n1,163\\n\\n100,842\\n\\n23,075\\n\\n(35,114)\\n\\nFederal funds sold and securities purchased under resale agreements\\n\\n(32,211)\\n\\n116,694\\n\\n(132,774)\\n\\nHeld-to-maturity securities:\\n\\nProceeds from paydowns and maturities\\n\\nPurchases\\n\\nAvailable-for-sale securities:\\n\\nProceeds from paydowns and maturities\\n\\nProceeds from sales\\n\\nPurchases\\n\\nProceeds from sales and securitizations of loans held-for-investment\\n\\nOther changes in loans, net\\n\\nAll other investing activities, net\\n\\nNet cash (used in) investing activities\\n\\nFinancing activities\\n\\nNet change in:\\n\\nDeposits\\n\\nFederal funds purchased and securities loaned or sold under repurchase agreements\\n\\nShort-term borrowings\\n\\nBeneficial interests issued by consolidated VIEs\\n\\nProceeds from long-term borrowings\\n\\nPayments of long-term borrowings\\n\\nCash capital contribution from JPMorgan Chase & Co.\\n\\nDividends paid to JPMorgan Chase & Co.\\n\\nAll other financing activities, net\\n\\nNet cash provided by/(used in) financing activities\\n\\nEffect of exchange rate changes on cash and due from banks and deposits with banks\\n\\nNet increase/(decrease) in cash and due from banks and deposits with banks\\n\\nCash and due from banks and deposits with banks at the beginning of the period\\n\\nCash and due from banks and deposits with banks at the end of the period\\n\\nCash interest paid\\n\\nCash income taxes paid, net(a)\\n\\n48,626\\n\\n50,897\\n\\n21,360\\n\\n(33,676)\\n\\n(111,756)\\n\\n(12,400)\\n\\n39,048\\n\\n84,616\\n\\n49,505\\n\\n57,518\\n\\n162,642\\n\\n149,758\\n\\n(126,258)\\n\\n(248,784)\\n\\n(397,095)\\n\\n44,910\\n\\n35,843\\n\\n23,561\\n\\n(128,952)\\n\\n(91,019)\\n\\n(50,292)\\n\\n(8,017)\\n\\n(3,849)\\n\\n(2,609)\\n\\n(111,914)\\n\\n(39,827)\\n\\n(342,973)\\n\\n(111,772)\\n\\n274,351\\n\\n622,154\\n\\n(15,795)\\n\\n(33,459)\\n\\n49,262\\n\\n(2,122)\\n\\n1,886\\n\\n3,042\\n\\n(4,255)\\n\\n1,815\\n\\n1,329\\n\\n16,363\\n\\n29,783\\n\\n38,373\\n\\n(20,459)\\n\\n(29,389)\\n\\n(80,062)\\n\\n—\\n\\n3,000\\n\\n(15,500)\\n\\n576\\n\\n—\\n\\n(148)\\n\\n5,000\\n\\n(6,000)\\n\\n765\\n\\n(145,667)\\n\\n241,769\\n\\n632,636\\n\\n(16,605)\\n\\n(11,469)\\n\\n9,103\\n\\n(173,344)\\n\\n213,548\\n\\n263,652\\n\\n739,317\\n\\n525,769\\n\\n262,117\\n\\n$ 565,973\\n\\n$ 739,317\\n\\n$ 525,769\\n\\n$ 13,717\\n\\n$\\n\\n1,822\\n\\n$\\n\\n5,616\\n\\n9,586\\n\\n16,496\\n\\n9,848\\n\\n(a) Includes $12.5 billion, $13.3 billion and $7.4 billion paid to JPMorgan Chase & Co. in 2022, 2021 and 2020, respectively. Refer to Note 23 for discussion of income taxes.\\n\\nThe Notes to Consolidated Financial Statements are an integral part of these statements.\\n\\nJPMorgan Chase Bank, National Association/2022 Consolidated Financial Statements\\n\\n7\\n\\n134\\n\\nJPMorgan Chase Bank, National Association/2022 Consolidated Financial Statements', metadata={'source': 'files/JPMorgan_Chase_Bank_Annual_Consolidated_Financial_Statements_onlybalancesheet.pdf'}),\n",
       " Document(page_content='1Q23 Financial Results\\n\\nApril 14, 2023\\n\\n1Q23 Financial highlights\\n\\nROTCE1 23%\\n\\nCET1 capital ratios2 Std. 13.8% | Adv. 13.9% Total Loss-Absorbing Capacity2 $488B\\n\\nStd. RWA3 $1.7T Cash and marketable securities4 $1.4T Average loans $1.1T\\n\\nIncome statement\\n\\n⚫ 1Q23 net income of $12.6B and EPS of $4.10\\n\\n⚫ Managed revenue of $39.3B5\\n\\n– Included net investment securities losses of $868mm\\n\\n⚫ Expense of $20.1B and managed overhead ratio of 51%5\\n\\nBalance sheet\\n\\n⚫ Loans: average loans of $1.1T up 6% YoY and flat QoQ\\n\\n⚫ Deposits: average deposits of $2.3T down 8% YoY and down 3% QoQ\\n\\n⚫ CET1 capital of $227B2\\n\\n– Standardized CET1 capital ratio of 13.8%2; Advanced CET1 capital ratio of 13.9%2\\n\\nCapital distributed\\n\\n⚫ $1.9B of common stock net repurchases6\\n\\n⚫ Common dividend of $3.0B or $1.00 per share\\n\\n⚫ Net payout LTM of 33%7\\n\\nSIGNIFICANT ITEMS ($MM, EXCLUDING EPS)\\n\\n1 See note 3 on slide 10 2 Represents the estimated Basel III common equity Tier 1 (“CET1”) capital and ratio and Total Loss-Absorbing Capacity for the current period. See note 1 on slide 11 3 Standardized risk-weighted assets (“RWA”). Estimated for the current period. See note 1 on slide 11 4 Cash and marketable securities represents HQLA and unencumbered marketable securities. Estimated for the current period. See note 2 on slide 11 5 See note 1 on slide 10 6 Includes the net impact of employee issuances 7 Last twelve months (“LTM”). Net of stock issued to employees\\n\\n1\\n\\n1Q23 Financial results1\\n\\n$B, EXCEPT PER SHARE DATA\\n\\n1Q23 Tax rate Effective rate: 20.9% Managed rate: 25.6%1,6\\n\\nNote: Totals may not sum due to rounding 1 See note 1 on slide 10 2 Actual numbers for all periods, not over/(under) 3 See note 3 on slide 10 4 See note 2 on slide 10 5 See note 4 on slide 10 6 Reflects fully taxable-equivalent (“FTE”) adjustments of $987mm in 1Q23\\n\\n2\\n\\nFortress balance sheet\\n\\n$B, EXCEPT PER SHARE DATA\\n\\nSTANDARDIZED CET1 RATIO (%)1\\n\\n74 bps\\n\\n14 bps\\n\\n3 bps\\n\\n13.8%\\n\\n(29 bps)\\n\\n(9 bps)\\n\\n13.2%\\n\\nNet share repurchases: (12 bps)\\n\\n4Q22\\n\\nNet income5\\n\\nAOCI\\n\\n6\\n\\nCapital Distributions7\\n\\nRWA\\n\\nOther\\n\\n8\\n\\n1Q23\\n\\nSTANDARDIZED RISK-WEIGHTED ASSETS ($B)1\\n\\n1,654\\n\\n6\\n\\n1,650\\n\\n(6)\\n\\n(4)\\n\\n4Q22\\n\\nLoans\\n\\nMarket Risk\\n\\nCredit Risk ex. Loans\\n\\n1Q23\\n\\nNote: Totals may not sum due to rounding 1 Estimated for the current period. See note 1 on slide 11 2 Estimated for the current period. Represents the supplementary leverage ratio (“SLR”) 3 Estimated for the current period. Liquidity Coverage Ratio (“LCR”) represents the average LCR for the Firm and JPMorgan Chase Bank, N.A. (“Bank”). See note 2 on slide 11 4 See note 3 on slide 10 5 Reflects Net Income Applicable to Common Equity 6 Excludes AOCI on cash flow hedges and DVA related to structured notes 7 Includes net share repurchases and common dividends 8 Primarily CET1 capital deductions, including the impact of CECL. See note 1 on slide 11\\n\\n3\\n\\nConsumer & Community Banking1\\n\\nSELECTED INCOME STATEMENT DATA ($MM)\\n\\nFINANCIAL PERFORMANCE\\n\\nCCB\\n\\nCIB\\n\\nCB\\n\\nAWM\\n\\nCorp.\\n\\n⚫ Net income of $5.2B, up 80% YoY\\n\\n⚫ Revenue of $16.5B, up 35% YoY, driven by higher net interest income\\n\\n⚫ Expense of $8.1B, up 5% YoY, largely driven by higher compensation, including wage inflation and headcount growth, as well as investments in the business, largely offset by lower auto lease depreciation\\n\\n⚫ Credit costs of $1.4B\\n\\n⚫ NCOs of $1.1B, up $499mm YoY, predominantly driven by Card\\n\\nServices\\n\\n⚫ Reserve build of $300mm in Card Services and $50mm in Home\\n\\nLending\\n\\nKEY DRIVERS / STATISTICS ($B)3\\n\\nKEY DRIVERS / STATISTICS ($B) – DETAIL BY BUSINESS\\n\\n⚫ Average loans up 5% YoY and flat QoQ\\n\\n⚫ Average deposits down 4% YoY and 3% QoQ\\n\\n⚫ EOP deposits down 4% YoY and up 1% QoQ\\n\\n⚫ Active mobile customers up 9% YoY\\n\\n⚫ Debit & credit card sales volume up 10% YoY ⚫ Client investment assets down 1% YoY and up 7% QoQ\\n\\n1 See note 1 on slide 10 2 See note 3 on slide 11 For additional footnotes see slide 12\\n\\n4\\n\\nCorporate & Investment Bank1\\n\\nSELECTED INCOME STATEMENT DATA ($MM)\\n\\nFINANCIAL PERFORMANCE\\n\\nCCB\\n\\nCIB\\n\\nCB\\n\\nAWM\\n\\nCorp.\\n\\nKEY DRIVERS / STATISTICS ($B)3\\n\\n⚫ Net income of $4.4B, up 1% YoY; revenue of $13.6B, flat YoY\\n\\n⚫ Banking revenue\\n\\n⚫ IB revenue of $1.6B, down 24% YoY\\n\\n– IB fees down 19% YoY, predominantly driven by lower debt\\n\\nunderwriting fees\\n\\n⚫ Payments revenue of $2.4B, up 26% YoY\\n\\n– Excluding the net impact of equity investments, primarily a gain in the prior year, up 55%, predominantly driven by higher rates, partially offset by lower deposit balances\\n\\n⚫ Lending revenue of $267mm, down 17% YoY, predominantly driven by mark-to-market losses on hedges of retained loans, largely offset by higher net interest income on higher loan balances\\n\\n⚫ Markets & Securities Services revenue\\n\\n⚫ Markets revenue of $8.4B, down 4% YoY\\n\\n– Fixed Income Markets revenue of $5.7B, flat YoY, reflecting higher revenue in Rates and Credit and lower revenue in Currencies & Emerging Markets\\n\\n– Equity Markets revenue of $2.7B, down 12% YoY, against a\\n\\nstrong first quarter in the prior year\\n\\n⚫ Securities Services revenue of $1.1B, up 7% YoY, driven by higher rates, partially offset by lower deposit balances and market levels\\n\\n⚫ Expense of $7.5B, up 2% YoY, reflecting higher compensation,\\n\\nincluding headcount growth and wage inflation, largely offset by lower revenue-related compensation\\n\\n⚫ Credit costs of $58mm\\n\\n1 See note 1 on slide 10 2 See note 3 on slide 11 For additional footnotes see slide 12\\n\\n5\\n\\nCommercial Banking1\\n\\nSELECTED INCOME STATEMENT DATA ($MM)\\n\\nFINANCIAL PERFORMANCE\\n\\nCCB\\n\\nCIB\\n\\nCB\\n\\nAWM\\n\\nCorp.\\n\\n⚫ Net income of $1.3B, up 58% YoY\\n\\n⚫ Revenue of $3.5B, up 46% YoY, driven by higher deposit margins,\\n\\npartially offset by lower deposit-related fees ⚫ Payments revenue of $2.0B, up 98% YoY ⚫ Gross IB revenue of $881mm, up 21% YoY\\n\\n⚫ Expense of $1.3B, up 16% YoY, largely driven by higher\\n\\ncompensation, including headcount growth, as well as higher volume- related expense\\n\\n⚫ Credit costs of $417mm, reflecting a net reserve build\\n\\n⚫ Average loans of $238B, up 13% YoY and up 1% QoQ\\n\\n⚫ C&I7 up 18% YoY and up 1% QoQ ⚫ CRE7 up 8% YoY and up 1% QoQ\\n\\n⚫ Average deposits of $266B, down 16% YoY and 5% QoQ,\\n\\npredominantly driven by continued attrition in non-operating deposits as well as seasonally lower balances\\n\\nKEY DRIVERS / STATISTICS ($B)2\\n\\n1 See note 1 on slide 10 For additional footnotes see slide 12\\n\\n6\\n\\nAsset & Wealth Management1\\n\\nSELECTED INCOME STATEMENT DATA ($MM)\\n\\nFINANCIAL PERFORMANCE\\n\\nCCB\\n\\nCIB\\n\\nCB\\n\\nAWM\\n\\nCorp.\\n\\n⚫ Net income of $1.4B, up 36% YoY\\n\\n⚫ Revenue of $4.8B, up 11% YoY, driven by higher deposit margins on lower balances and a valuation gain of $339mm on the Firm’s initial investment in the Asset Management joint venture in China as a result of taking 100% ownership, partially offset by the impact of lower average market levels on management fees and lower performance fees\\n\\n⚫ Expense of $3.1B, up 8% YoY, predominantly driven by higher\\n\\ncompensation, including headcount growth, higher revenue-related compensation and the impact of acquisitions\\n\\n⚫ AUM of $3.0T was up 2% YoY and client assets of $4.3T were up\\n\\n6% YoY, driven by continued net inflows ⚫ For the quarter, AUM had long-term net inflows of $47B and\\n\\nliquidity net inflows of $93B\\n\\n⚫ Average loans of $211B, down 1% YoY and down 1% QoQ\\n\\n⚫ Average deposits of $224B, down 22% YoY and down 5% QoQ\\n\\nKEY DRIVERS / STATISTICS ($B)2\\n\\n1 See note 1 on slide 10 2 Actual numbers for all periods, not over/(under)\\n\\n7\\n\\nCorporate1\\n\\nSELECTED INCOME STATEMENT DATA ($MM)\\n\\nFINANCIAL PERFORMANCE\\n\\nCCB\\n\\nCIB\\n\\nCB\\n\\nAWM\\n\\nCorp.\\n\\n⚫ Revenue was $985mm, up $1.9B YoY\\n\\n⚫ Net interest income was $1.7B, compared with a loss of $536mm\\n\\nin the prior year, due to the impact of higher rates\\n\\n⚫ Noninterest revenue was a loss of $755mm, compared with a loss\\n\\nof $345mm in the prior year, and included net investment securities losses of $868mm\\n\\n⚫ Expense: Noninterest expense of $160mm, down $24mm YoY\\n\\n⚫ Credit costs of $370mm, reflecting a net reserve build, driven by\\n\\nsingle name exposures\\n\\n1 See note 1 on slide 10\\n\\n8\\n\\nOutlook1\\n\\nFIRMWIDE\\n\\nExpect FY2023 net interest income and net interest income excluding Markets of ~$81B, market dependent\\n\\nSIGNIFICANT SOURCES OF UNCERTAINTY\\n\\n⚫ Deposit reprice (magnitude and timing)\\n\\n⚫ Consumer behavior and competitive dynamics\\n\\n⚫ Hard vs. soft landing\\n\\n⚫ Impacts both rates and loan growth\\n\\n⚫ Loan growth, including card revolve\\n\\n⚫ Securities reinvestment strategy\\n\\n⚫ Impact of policy choices\\n\\n⚫ Pace of quantitative tightening ⚫ Path of Fed Funds rate ⚫ Size and terms of RRP\\n\\nNII EX. MARKETS\\n\\n$21B\\n\\n~$60B\\n\\nRun-rate:\\n\\n$84B\\n\\n~$80B\\n\\nmid-70s ($B)\\n\\n1Q23\\n\\n2Q23 – 4Q23\\n\\nMedium-term\\n\\nExpect FY2023 adjusted expense of ~$81B, market dependent\\n\\nExpect FY2023 Card Services NCO rate of ~2.60%\\n\\n1\\n\\n2\\n\\n3\\n\\n1 See notes 1, 2 and 4 on slide 10\\n\\n9\\n\\nNotes on non-GAAP financial measures\\n\\n1.\\n\\n2.\\n\\n3.\\n\\n4.\\n\\n5.\\n\\nIn addition to analyzing the Firm’s results on a reported basis, management reviews Firmwide results, including the overhead ratio, on a “managed” basis; these Firmwide managed basis results are non-GAAP financial measures. The Firm also reviews the results of the lines of business on a managed basis. The Firm’s definition of managed basis starts, in each case, with the reported U.S. GAAP results and includes certain reclassifications to present total net revenue for the Firm and each of the reportable business segments on a fully taxable-equivalent basis. Accordingly, revenue from investments that receive tax credits and tax-exempt securities is presented in the managed results on a basis comparable to taxable investments and securities. These financial measures allow management to assess the comparability of revenue from year-to-year arising from both taxable and tax-exempt sources. The corresponding income tax impact related to tax-exempt items is recorded within income tax expense. These adjustments have no impact on net income as reported by the Firm as a whole or by the lines of business. For a reconciliation of the Firm’s results from a reported to managed basis, refer to page 7 of the Earnings Release Financial Supplement\\n\\nIn addition to reviewing net interest income (“NII”) and noninterest revenue (“NIR”) on a managed basis, management also reviews these metrics excluding CIB Markets (“Markets”, which is composed of Fixed Income Markets and Equity Markets). Markets revenue consists of principal transactions, fees, commissions and other income, as well as net interest income. These metrics, which exclude Markets, are non-GAAP financial measures. Management reviews these metrics to assess the performance of the Firm’s lending, investing (including asset-liability management) and deposit-raising activities, apart from any volatility associated with Markets activities. In addition, management also assesses Markets business performance on a total revenue basis as offsets may occur across revenue lines. For example, securities that generate net interest income may be risk-managed by derivatives that are reflected at fair value in principal transactions revenue. Management believes these measures provide investors and analysts with alternative measures to analyze the revenue trends of the Firm. For a reconciliation of NII and NIR from reported to excluding Markets, refer to page 29 of the Earnings Release Financial Supplement. For additional information on Markets revenue, refer to page 70 of the Firm’s 2022 Form 10-K\\n\\nTangible common equity (“TCE”), return on tangible common equity (“ROTCE”) and tangible book value per share (“TBVPS”), are each non-GAAP financial measures. TCE represents the Firm’s common stockholders’ equity (i.e., total stockholders’ equity less preferred stock) less goodwill and identifiable intangible assets (other than mortgage servicing rights), net of related deferred tax liabilities. For a reconciliation from common stockholders’ equity to TCE, refer to page 10 of the Earnings Release Financial Supplement. ROTCE measures the Firm’s net income applicable to common equity as a percentage of average TCE. TBVPS represents the Firm’s TCE at period-end divided by common shares at period-end. Book value per share was $94.34, $90.29 and $86.16 at March 31, 2023, December 31, 2022 and March 31, 2022, respectively. TCE, ROTCE and TBVPS are utilized by the Firm, as well as investors and analysts, in assessing the Firm’s use of equity\\n\\nAdjusted expense and adjusted overhead ratio are each non-GAAP financial measures. Adjusted expense represents noninterest expense excluding Firmwide legal expense of $176mm, $27mm and $119mm for the three months ended March 31, 2023, December 31, 2022 and March 31, 2022, respectively. The adjusted overhead ratio measures the Firm’s adjusted expense as a percentage of managed net revenue. Management believes this information helps investors understand the effect of these items on reported results and provides an alternate presentation of the Firm’s performance\\n\\nCorporate & Investment Bank (“CIB”) calculates the ratio of the allowance for loan losses to end-of-period loans (“ALL/EOP”) excluding the impact of consolidated Firm-administered multi-seller conduits and trade finance loans, to provide a more meaningful assessment of CIB’s allowance coverage ratio\\n\\n10\\n\\nAdditional notes\\n\\n1.\\n\\n2.\\n\\n3.\\n\\nReflects the Current Expected Credit Losses (\"CECL\") capital transition provisions. Beginning January 1, 2022, the $2.9B CECL capital benefit is being phased out at 25% per year over a three-year period. As of March 31, 2023, CET1 capital and Total Loss-Absorbing Capacity reflected the remaining $1.4B CECL benefit; as of December 31, 2022 and March 31, 2022, CET1 capital reflected a $2.2B benefit. Refer to Capital Risk Management on pages 86-96 of the Firm’s 2022 Form 10-K for additional information\\n\\nTotal excess high-quality liquid assets (“HQLA”) represent the average eligible unencumbered liquid assets that are in excess of what is required to meet the estimated Firm and Bank total net cash outflows over a prospective 30 calendar-day period of significant stress under the LCR rule. HQLA and unencumbered marketable securities, includes the Firm’s average eligible HQLA, other end-of-period HQLA-eligible securities which are included as part of the excess liquidity at the Bank that are not transferable to non-bank affiliates and thus excluded from the Firm’s LCR under the LCR rule, and other end-of-period unencumbered marketable securities, such as equity and debt securities. Does not include borrowing capacity at Federal Home Loan Banks and the discount window at the Federal Reserve Bank. Refer to Liquidity Risk Management on pages 97-104 of the Firm’s 2022 Form 10-K for additional information\\n\\nIn the first quarter of 2023, the allocations of revenue and expense to CCB associated with a Merchant Services revenue sharing agreement were discontinued and are now retained in Payments in CIB. Prior-period amounts have been revised to conform with the current presentation\\n\\n11\\n\\nAdditional notes on slides 4-6\\n\\nSlide 4 – Consumer & Community Banking\\n\\n3.\\n\\n4.\\n\\n5.\\n\\n6.\\n\\n7.\\n\\nActual numbers for all periods, not over/(under)\\n\\nUsers of all mobile platforms who have logged in within the past 90 days\\n\\nExcludes Commercial Card\\n\\nIncludes the impact of loans originated under the PPP. For further information, refer to page 13 of the Earnings Release Financial Supplement\\n\\nFirmwide mortgage origination volume was $6.8B, $8.5B and $30.2B for the three months ended March 31, 2023, December 31, 2022 and March 31, 2022, respectively\\n\\nSlide 5 – Corporate & Investment Bank\\n\\n3.\\n\\n4.\\n\\n5.\\n\\n6.\\n\\nActual numbers for all periods, not over/(under)\\n\\nClient deposits and other third-party liabilities pertain to the Payments and Securities Services businesses\\n\\nRepresents total merchant processing volume across CIB, CCB and CB\\n\\nLoans held-for-sale and loans at fair value were excluded when calculating the loan loss coverage ratio and net charge-off/(recovery) rate. ALL/EOP loans as reported was 1.31%, 1.22%, and 1.01% at March 31, 2023, December 31, 2022 and March 31, 2022, respectively. See note 5 on slide 10\\n\\nSlide 6 – Commercial Banking\\n\\n2.\\n\\n3.\\n\\n4.\\n\\n5.\\n\\n6.\\n\\n7.\\n\\nActual numbers for all periods, not over/(under)\\n\\nIn the fourth quarter of 2022, certain revenue from CIB Markets products was reclassified from investment banking to payments. Prior-period amounts have been revised to conform with the current presentation\\n\\nIncludes gross revenues earned by the Firm, that are subject to a revenue sharing arrangement with the CIB, for products sold to CB clients through the Investment Banking, Markets or Payments businesses. This includes revenues related to fixed income and equity markets products. Refer to page 61 of the Firm’s 2022 Form 10- K for discussion of revenue sharing\\n\\nIncludes the impact of loans originated under the PPP. For further information, refer to page 20 of the Earnings Release Financial Supplement\\n\\nLoans held-for-sale and loans at fair value were excluded when calculating the net charge-off/(recovery) rate and loan loss coverage ratio\\n\\nCommercial and Industrial (“C&I”) and Commercial Real Estate (“CRE”) groupings for CB are generally based on client segments and do not align with regulatory definitions\\n\\n12\\n\\nForward-looking statements\\n\\nThis presentation contains forward-looking statements within the meaning of the Private Securities Litigation Reform Act of 1995. These statements are based on the current beliefs and expectations of JPMorgan Chase & Co.’s management and are subject to significant risks and uncertainties. Actual results may differ from those set forth in the forward-looking statements. Factors that could cause JPMorgan Chase & Co.’s actual results to differ materially from those described in the forward-looking statements can be found in JPMorgan Chase & Co.’s Annual Report on Form 10-K for the year ended December 31, 2022, which has been filed with the Securities and Exchange Commission and is available on JPMorgan Chase & Co.’s website (https://jpmorganchaseco.gcs- web.com/financial-information/sec-filings), and on the Securities and Exchange Commission’s website (www.sec.gov). JPMorgan Chase & Co. does not undertake to update any forward-looking statements.\\n\\n13', metadata={'source': 'files/JPM_FinancialResult.pdf'})]"
      ]
     },
     "execution_count": 8,
     "metadata": {},
     "output_type": "execute_result"
    }
   ],
   "source": [
    "documents = pdf_loader(path=\"files//\",loader=\"unstructured\") #todo try a different file loader one page per document?\n",
    "documents "
   ]
  },
  {
   "cell_type": "code",
   "execution_count": 9,
   "metadata": {},
   "outputs": [
    {
     "data": {
      "text/plain": [
       "2"
      ]
     },
     "execution_count": 9,
     "metadata": {},
     "output_type": "execute_result"
    }
   ],
   "source": [
    "len(documents)"
   ]
  },
  {
   "cell_type": "code",
   "execution_count": 10,
   "metadata": {},
   "outputs": [
    {
     "name": "stdout",
     "output_type": "stream",
     "text": [
      "20\n"
     ]
    },
    {
     "data": {
      "text/plain": [
       "[Document(page_content='JPMORGAN CHASE BANK, NATIONAL ASSOCIATION (a wholly-owned subsidiary of JPMorgan Chase & Co.)\\n\\nCONSOLIDATED FINANCIAL STATEMENTS For the three years ended December 31, 2022\\n\\nJPMorgan Chase Bank, National Association/2022 Consolidated Financial Statements\\n\\n2\\n\\nConsolidated statements of income JPMorgan Chase Bank, National Association (a wholly-owned subsidiary of JPMorgan Chase & Co.)\\n\\nYear ended December 31, (in millions)\\n\\n2022\\n\\n2021\\n\\n2020\\n\\nRevenue\\n\\nInvestment banking fees\\n\\nPrincipal transactions\\n\\nLending- and deposit-related fees\\n\\nAsset management, administration and commissions\\n\\nInvestment securities gains/(losses)\\n\\nMortgage fees and related income\\n\\nCard income\\n\\nOther income\\n\\nNoninterest revenue\\n\\nInterest income\\n\\nInterest expense\\n\\nNet interest income\\n\\nTotal net revenue\\n\\nProvision for credit losses\\n\\nNoninterest expense\\n\\nCompensation expense\\n\\nOccupancy expense\\n\\nTechnology, communications and equipment expense\\n\\nProfessional and outside services\\n\\nMarketing\\n\\nOther expense\\n\\nTotal noninterest expense\\n\\nIncome before income tax expense\\n\\nIncome tax expense\\n\\nNet income\\n\\n$\\n\\n2,955\\n\\n$\\n\\n5,232\\n\\n$\\n\\n17,895\\n\\n7,095\\n\\n13,935\\n\\n(2,380)\\n\\n1,250\\n\\n4,421\\n\\n5,384\\n\\n50,555\\n\\n84,097\\n\\n15,675\\n\\n68,422\\n\\n118,977\\n\\n13,677\\n\\n7,031\\n\\n14,021\\n\\n(345)\\n\\n2,170\\n\\n5,102\\n\\n5,511\\n\\n52,399\\n\\n53,870\\n\\n2,064\\n\\n51,806\\n\\n104,205\\n\\n3,527\\n\\n14,784\\n\\n6,510\\n\\n12,406\\n\\n802\\n\\n3,092\\n\\n4,435\\n\\n5,931\\n\\n51,487\\n\\n58,900\\n\\n4,987\\n\\n53,913\\n\\n105,400\\n\\n6,347\\n\\n(9,296)\\n\\n17,483\\n\\n34,000\\n\\n4,469\\n\\n8,646\\n\\n6,983\\n\\n3,877\\n\\n10,761\\n\\n68,736\\n\\n43,894\\n\\n9,552\\n\\n31,212\\n\\n4,313\\n\\n9,304\\n\\n6,510\\n\\n2,936\\n\\n10,170\\n\\n64,445\\n\\n49,056\\n\\n11,001\\n\\n$\\n\\n34,342 $\\n\\n38,055 $\\n\\n28,725\\n\\n4,249\\n\\n9,890\\n\\n5,692\\n\\n2,338', metadata={'source': 'files/JPMorgan_Chase_Bank_Annual_Consolidated_Financial_Statements_onlybalancesheet.pdf'}),\n",
       " Document(page_content='2,936\\n\\n10,170\\n\\n64,445\\n\\n49,056\\n\\n11,001\\n\\n$\\n\\n34,342 $\\n\\n38,055 $\\n\\n28,725\\n\\n4,249\\n\\n9,890\\n\\n5,692\\n\\n2,338\\n\\n9,821\\n\\n60,715\\n\\n27,202\\n\\n6,170\\n\\n21,032\\n\\nThe Notes to Consolidated Financial Statements are an integral part of these statements.\\n\\nJPMorgan Chase Bank, National Association/2022 Consolidated Financial Statements\\n\\n3\\n\\nConsolidated statements of comprehensive income JPMorgan Chase Bank, National Association (a wholly-owned subsidiary of JPMorgan Chase & Co.)\\n\\nYear ended December 31, (in millions)\\n\\nNet income\\n\\nOther comprehensive income/(loss), after–tax\\n\\nUnrealized gains/(losses) on investment securities\\n\\nTranslation adjustments, net of hedges\\n\\nCash flow hedges\\n\\nDefined benefit pension and OPEB plans\\n\\nDVA on fair value option elected liabilities\\n\\nTotal other comprehensive income/(loss), after–tax\\n\\nComprehensive income\\n\\n2022\\n\\n2021\\n\\n$\\n\\n34,342 $\\n\\n38,055 $\\n\\n(11,751)\\n\\n(555)\\n\\n(5,359)\\n\\n(742)\\n\\n265\\n\\n(18,142)\\n\\n(5,516)\\n\\n(442)\\n\\n(2,679)\\n\\n688\\n\\n(291)\\n\\n(8,240)\\n\\n$\\n\\n16,200 $\\n\\n29,815 $\\n\\n2020\\n\\n21,032\\n\\n4,146\\n\\n242\\n\\n2,322\\n\\n(3)\\n\\n(45)\\n\\n6,662\\n\\n27,694\\n\\nThe Notes to Consolidated Financial Statements are an integral part of these statements.\\n\\n4\\n\\nJPMorgan Chase Bank, National Association/2022 Consolidated Financial Statements\\n\\nConsolidated balance sheets JPMorgan Chase Bank, National Association (a wholly-owned subsidiary of JPMorgan Chase & Co.)\\n\\nDecember 31, (in millions, except share data) Assets\\n\\nCash and due from banks\\n\\nDeposits with banks', metadata={'source': 'files/JPMorgan_Chase_Bank_Annual_Consolidated_Financial_Statements_onlybalancesheet.pdf'}),\n",
       " Document(page_content='December 31, (in millions, except share data) Assets\\n\\nCash and due from banks\\n\\nDeposits with banks\\n\\nFederal funds sold and securities purchased under resale agreements (included $193,945 and $176,980 at fair value) Securities borrowed (included $22,454 and $32,112 at fair value) Trading assets (included assets pledged of $39,458 and $49,335(a)) Available-for-sale securities (amortized cost of $216,103 and $308,039, included assets pledged of $15,274 and $31,124(a)) Held-to-maturity securities\\n\\nInvestment securities, net of allowance for credit losses\\n\\nLoans (included $41,795 and $58,471 at fair value) Allowance for loan losses\\n\\nLoans, net of allowance for loan losses\\n\\nAccrued interest and accounts receivable\\n\\nPremises and equipment\\n\\nGoodwill, MSRs and other intangible assets Other assets (included $12,667 and $11,016 at fair value and assets pledged of $2,505 and $1,750) Total assets(b)\\n\\nLiabilities Deposits (included $28,742 and $11,479 at fair value) Federal funds purchased and securities loaned or sold under repurchase agreements (included $75,327 and $81,545 at fair value)\\n\\nShort-term borrowings (included $7,796 and $11,619 at fair value)\\n\\nTrading liabilities\\n\\nAccounts payable and other liabilities (included $7,760 and $7,366 at fair value)\\n\\nBeneficial interests issued by consolidated variable interest entities Long-term debt (included $27,145 and $35,633 at fair value) Total liabilities(b)\\n\\nCommitments and contingencies (refer to Notes 26, 27 and 28)\\n\\nStockholder’s equity\\n\\nPreferred stock ($1 par value; authorized 15,000,000 shares: issued 0 shares)\\n\\nCommon stock ($12 par value; authorized 200,000,000 shares; issued 168,971,750 shares)\\n\\nAdditional paid-in capital\\n\\nRetained earnings Accumulated other comprehensive income/(loss) Total stockholder’s equity Total liabilities and stockholder’s equity\\n\\n2022\\n\\n2021\\n\\n$\\n\\n27,258 $\\n\\n25,657\\n\\n538,715\\n\\n259,460 53,642 288,420\\n\\n205,790 425,305\\n\\n631,095\\n\\n713,660', metadata={'source': 'files/JPMorgan_Chase_Bank_Annual_Consolidated_Financial_Statements_onlybalancesheet.pdf'}),\n",
       " Document(page_content='2022\\n\\n2021\\n\\n$\\n\\n27,258 $\\n\\n25,657\\n\\n538,715\\n\\n259,460 53,642 288,420\\n\\n205,790 425,305\\n\\n631,095\\n\\n713,660\\n\\n227,457 65,111 293,428\\n\\n308,318 363,707\\n\\n672,025\\n\\n1,132,985 (19,714)\\n\\n1,075,106 (16,378)\\n\\n1,113,271\\n\\n1,058,728\\n\\n89,373\\n\\n26,347\\n\\n48,600 125,761\\n\\n76,345\\n\\n25,757\\n\\n45,831 102,983\\n\\n$ 3,201,942\\n\\n$ 3,306,982\\n\\n$ 2,440,722\\n\\n$ 2,549,631\\n\\n85,902\\n\\n10,074\\n\\n116,629\\n\\n156,433\\n\\n13,424 75,138\\n\\n102,266\\n\\n13,423\\n\\n111,017\\n\\n133,034\\n\\n10,721 84,042\\n\\n2,898,322\\n\\n3,004,134\\n\\n—\\n\\n2,028\\n\\n118,293\\n\\n—\\n\\n2,028\\n\\n118,221\\n\\n201,263 (17,964) 303,620 $ 3,201,942\\n\\n182,421 178 302,848 $ 3,306,982\\n\\n(a) Prior-period amounts have been revised to conform with the current presentation. (b) The following table presents information on assets and liabilities related to variable interest entities (“VIEs”) that are consolidated by the Bank at December 31, 2022 and 2021. The assets of the consolidated VIEs are used to settle the liabilities of those entities. The holders of the beneficial interests generally do not have recourse to the general credit of the Bank. The assets and liabilities in the table below include third-party assets and liabilities of consolidated VIEs (including balances with related parties) and exclude intercompany balances that eliminate in consolidation. Refer to Note 15 for a further discussion.\\n\\nDecember 31, (in millions)\\n\\nAssets\\n\\nTrading assets Loans All other assets Total assets\\n\\nLiabilities\\n\\nBeneficial interests issued by consolidated VIEs All other liabilities Total liabilities\\n\\n2022\\n\\n2021\\n\\n$\\n\\n2,089 34,394 290 36,773 $\\n\\n$\\n\\n13,424 132 13,556 $', metadata={'source': 'files/JPMorgan_Chase_Bank_Annual_Consolidated_Financial_Statements_onlybalancesheet.pdf'}),\n",
       " Document(page_content='Beneficial interests issued by consolidated VIEs All other liabilities Total liabilities\\n\\n2022\\n\\n2021\\n\\n$\\n\\n2,089 34,394 290 36,773 $\\n\\n$\\n\\n13,424 132 13,556 $\\n\\n1,990 33,001 207 35,198\\n\\n10,721 144 10,865\\n\\n$\\n\\n$\\n\\n$\\n\\n$\\n\\nThe Notes to Consolidated Financial Statements are an integral part of these statements.\\n\\nJPMorgan Chase Bank, National Association/2022 Consolidated Financial Statements\\n\\n5\\n\\nConsolidated statements of changes in stockholder’s equity JPMorgan Chase Bank, National Association (a wholly-owned subsidiary of JPMorgan Chase & Co.)\\n\\nYear ended December 31, (in millions)\\n\\nCommon stock\\n\\nBalance at January 1 and December 31\\n\\nAdditional paid-in capital\\n\\nBalance at January 1\\n\\nCash capital contribution from JPMorgan Chase & Co.\\n\\nOther\\n\\nBalance at December 31\\n\\nRetained earnings\\n\\nBalance at January 1\\n\\nCumulative effect of change in accounting principles\\n\\nNet income\\n\\nCash dividends paid to JPMorgan Chase & Co.\\n\\nBalance at December 31\\n\\nAccumulated other comprehensive income/(loss)\\n\\nBalance at January 1\\n\\nOther comprehensive income/(loss), after-tax\\n\\nBalance at December 31\\n\\nTotal stockholder’s equity\\n\\n2022\\n\\n2021\\n\\n2020\\n\\n$\\n\\n2,028\\n\\n$\\n\\n2,028\\n\\n$\\n\\n2,028\\n\\n118,221\\n\\n115,248\\n\\n110,297\\n\\n—\\n\\n72\\n\\n3,000\\n\\n(27)\\n\\n5,000\\n\\n(49)\\n\\n118,293\\n\\n118,221\\n\\n115,248\\n\\n182,421\\n\\n144,366\\n\\n132,016\\n\\n—\\n\\n—\\n\\n34,342\\n\\n38,055\\n\\n(15,500)\\n\\n—\\n\\n(2,682)\\n\\n21,032\\n\\n(6,000)\\n\\n201,263\\n\\n182,421\\n\\n144,366\\n\\n178\\n\\n(18,142)\\n\\n(17,964)\\n\\n8,418\\n\\n(8,240)\\n\\n178\\n\\n1,756\\n\\n6,662\\n\\n8,418\\n\\n$ 303,620 $ 302,848 $ 270,060\\n\\nEffective January 1, 2020, the Bank adopted the CECL accounting guidance. Refer to Note 1 for further information.\\n\\nThe Notes to Consolidated Financial Statements are an integral part of these statements.\\n\\n6', metadata={'source': 'files/JPMorgan_Chase_Bank_Annual_Consolidated_Financial_Statements_onlybalancesheet.pdf'}),\n",
       " Document(page_content='Effective January 1, 2020, the Bank adopted the CECL accounting guidance. Refer to Note 1 for further information.\\n\\nThe Notes to Consolidated Financial Statements are an integral part of these statements.\\n\\n6\\n\\nJPMorgan Chase Bank, National Association/2022 Consolidated Financial Statements\\n\\nConsolidated statements of cash flows JPMorgan Chase Bank, National Association (a wholly-owned subsidiary of JPMorgan Chase & Co.)\\n\\nYear ended December 31, (in millions)\\n\\nOperating activities\\n\\nNet income\\n\\nAdjustments to reconcile net income to net cash provided by/(used in) operating activities:\\n\\nProvision for credit losses\\n\\nDepreciation and amortization\\n\\nDeferred tax (benefit)/expense\\n\\nOther\\n\\nOriginations and purchases of loans held-for-sale\\n\\nProceeds from sales, securitizations and paydowns of loans held-for-sale\\n\\nNet change in:\\n\\nTrading assets\\n\\nSecurities borrowed\\n\\nAccrued interest and accounts receivable\\n\\nOther assets\\n\\nTrading liabilities\\n\\nAccounts payable and other liabilities\\n\\nOther operating adjustments\\n\\nNet cash provided by/(used in) operating activities\\n\\nInvesting activities\\n\\nNet change in:\\n\\n2022\\n\\n2021\\n\\n2020\\n\\n$ 34,342\\n\\n$ 38,055\\n\\n$ 21,032\\n\\n6,347\\n\\n6,590\\n\\n(3,542)\\n\\n2,380\\n\\n(9,296)\\n\\n17,483\\n\\n7,535\\n\\n2,147\\n\\n345\\n\\n8,355\\n\\n(3,819)\\n\\n(802)\\n\\n(149,091)\\n\\n(347,864)\\n\\n(166,499)\\n\\n167,713\\n\\n336,404\\n\\n175,426\\n\\n14,114\\n\\n10,973\\n\\n25,806\\n\\n(102,464)\\n\\n(20,978)\\n\\n(5,427)\\n\\n(13,088)\\n\\n(4,722)\\n\\n(17,569)\\n\\n(29,954)\\n\\n21,442\\n\\n(26,435)\\n\\n7,404\\n\\n(38,612)\\n\\n62,987\\n\\n46,646\\n\\n12,529\\n\\n8\\n\\n284\\n\\n1,455\\n\\n1,163\\n\\n100,842\\n\\n23,075\\n\\n(35,114)\\n\\nFederal funds sold and securities purchased under resale agreements\\n\\n(32,211)\\n\\n116,694\\n\\n(132,774)\\n\\nHeld-to-maturity securities:\\n\\nProceeds from paydowns and maturities\\n\\nPurchases\\n\\nAvailable-for-sale securities:', metadata={'source': 'files/JPMorgan_Chase_Bank_Annual_Consolidated_Financial_Statements_onlybalancesheet.pdf'}),\n",
       " Document(page_content='(32,211)\\n\\n116,694\\n\\n(132,774)\\n\\nHeld-to-maturity securities:\\n\\nProceeds from paydowns and maturities\\n\\nPurchases\\n\\nAvailable-for-sale securities:\\n\\nProceeds from paydowns and maturities\\n\\nProceeds from sales\\n\\nPurchases\\n\\nProceeds from sales and securitizations of loans held-for-investment\\n\\nOther changes in loans, net\\n\\nAll other investing activities, net\\n\\nNet cash (used in) investing activities\\n\\nFinancing activities\\n\\nNet change in:\\n\\nDeposits\\n\\nFederal funds purchased and securities loaned or sold under repurchase agreements\\n\\nShort-term borrowings\\n\\nBeneficial interests issued by consolidated VIEs\\n\\nProceeds from long-term borrowings\\n\\nPayments of long-term borrowings\\n\\nCash capital contribution from JPMorgan Chase & Co.\\n\\nDividends paid to JPMorgan Chase & Co.\\n\\nAll other financing activities, net\\n\\nNet cash provided by/(used in) financing activities\\n\\nEffect of exchange rate changes on cash and due from banks and deposits with banks\\n\\nNet increase/(decrease) in cash and due from banks and deposits with banks\\n\\nCash and due from banks and deposits with banks at the beginning of the period\\n\\nCash and due from banks and deposits with banks at the end of the period\\n\\nCash interest paid\\n\\nCash income taxes paid, net(a)\\n\\n48,626\\n\\n50,897\\n\\n21,360\\n\\n(33,676)\\n\\n(111,756)\\n\\n(12,400)\\n\\n39,048\\n\\n84,616\\n\\n49,505\\n\\n57,518\\n\\n162,642\\n\\n149,758\\n\\n(126,258)\\n\\n(248,784)\\n\\n(397,095)\\n\\n44,910\\n\\n35,843\\n\\n23,561\\n\\n(128,952)\\n\\n(91,019)\\n\\n(50,292)\\n\\n(8,017)\\n\\n(3,849)\\n\\n(2,609)\\n\\n(111,914)\\n\\n(39,827)\\n\\n(342,973)\\n\\n(111,772)\\n\\n274,351\\n\\n622,154\\n\\n(15,795)\\n\\n(33,459)\\n\\n49,262\\n\\n(2,122)\\n\\n1,886\\n\\n3,042\\n\\n(4,255)\\n\\n1,815\\n\\n1,329\\n\\n16,363\\n\\n29,783\\n\\n38,373\\n\\n(20,459)\\n\\n(29,389)\\n\\n(80,062)\\n\\n—\\n\\n3,000', metadata={'source': 'files/JPMorgan_Chase_Bank_Annual_Consolidated_Financial_Statements_onlybalancesheet.pdf'}),\n",
       " Document(page_content='(4,255)\\n\\n1,815\\n\\n1,329\\n\\n16,363\\n\\n29,783\\n\\n38,373\\n\\n(20,459)\\n\\n(29,389)\\n\\n(80,062)\\n\\n—\\n\\n3,000\\n\\n(15,500)\\n\\n576\\n\\n—\\n\\n(148)\\n\\n5,000\\n\\n(6,000)\\n\\n765\\n\\n(145,667)\\n\\n241,769\\n\\n632,636\\n\\n(16,605)\\n\\n(11,469)\\n\\n9,103\\n\\n(173,344)\\n\\n213,548\\n\\n263,652\\n\\n739,317\\n\\n525,769\\n\\n262,117\\n\\n$ 565,973\\n\\n$ 739,317\\n\\n$ 525,769\\n\\n$ 13,717\\n\\n$\\n\\n1,822\\n\\n$\\n\\n5,616\\n\\n9,586\\n\\n16,496\\n\\n9,848\\n\\n(a) Includes $12.5 billion, $13.3 billion and $7.4 billion paid to JPMorgan Chase & Co. in 2022, 2021 and 2020, respectively. Refer to Note 23 for discussion of income taxes.\\n\\nThe Notes to Consolidated Financial Statements are an integral part of these statements.\\n\\nJPMorgan Chase Bank, National Association/2022 Consolidated Financial Statements\\n\\n7\\n\\n134\\n\\nJPMorgan Chase Bank, National Association/2022 Consolidated Financial Statements', metadata={'source': 'files/JPMorgan_Chase_Bank_Annual_Consolidated_Financial_Statements_onlybalancesheet.pdf'}),\n",
       " Document(page_content='1Q23 Financial Results\\n\\nApril 14, 2023\\n\\n1Q23 Financial highlights\\n\\nROTCE1 23%\\n\\nCET1 capital ratios2 Std. 13.8% | Adv. 13.9% Total Loss-Absorbing Capacity2 $488B\\n\\nStd. RWA3 $1.7T Cash and marketable securities4 $1.4T Average loans $1.1T\\n\\nIncome statement\\n\\n⚫ 1Q23 net income of $12.6B and EPS of $4.10\\n\\n⚫ Managed revenue of $39.3B5\\n\\n– Included net investment securities losses of $868mm\\n\\n⚫ Expense of $20.1B and managed overhead ratio of 51%5\\n\\nBalance sheet\\n\\n⚫ Loans: average loans of $1.1T up 6% YoY and flat QoQ\\n\\n⚫ Deposits: average deposits of $2.3T down 8% YoY and down 3% QoQ\\n\\n⚫ CET1 capital of $227B2\\n\\n– Standardized CET1 capital ratio of 13.8%2; Advanced CET1 capital ratio of 13.9%2\\n\\nCapital distributed\\n\\n⚫ $1.9B of common stock net repurchases6\\n\\n⚫ Common dividend of $3.0B or $1.00 per share\\n\\n⚫ Net payout LTM of 33%7\\n\\nSIGNIFICANT ITEMS ($MM, EXCLUDING EPS)\\n\\n1 See note 3 on slide 10 2 Represents the estimated Basel III common equity Tier 1 (“CET1”) capital and ratio and Total Loss-Absorbing Capacity for the current period. See note 1 on slide 11 3 Standardized risk-weighted assets (“RWA”). Estimated for the current period. See note 1 on slide 11 4 Cash and marketable securities represents HQLA and unencumbered marketable securities. Estimated for the current period. See note 2 on slide 11 5 See note 1 on slide 10 6 Includes the net impact of employee issuances 7 Last twelve months (“LTM”). Net of stock issued to employees\\n\\n1\\n\\n1Q23 Financial results1\\n\\n$B, EXCEPT PER SHARE DATA\\n\\n1Q23 Tax rate Effective rate: 20.9% Managed rate: 25.6%1,6', metadata={'source': 'files/JPM_FinancialResult.pdf'}),\n",
       " Document(page_content='1\\n\\n1Q23 Financial results1\\n\\n$B, EXCEPT PER SHARE DATA\\n\\n1Q23 Tax rate Effective rate: 20.9% Managed rate: 25.6%1,6\\n\\nNote: Totals may not sum due to rounding 1 See note 1 on slide 10 2 Actual numbers for all periods, not over/(under) 3 See note 3 on slide 10 4 See note 2 on slide 10 5 See note 4 on slide 10 6 Reflects fully taxable-equivalent (“FTE”) adjustments of $987mm in 1Q23\\n\\n2\\n\\nFortress balance sheet\\n\\n$B, EXCEPT PER SHARE DATA\\n\\nSTANDARDIZED CET1 RATIO (%)1\\n\\n74 bps\\n\\n14 bps\\n\\n3 bps\\n\\n13.8%\\n\\n(29 bps)\\n\\n(9 bps)\\n\\n13.2%\\n\\nNet share repurchases: (12 bps)\\n\\n4Q22\\n\\nNet income5\\n\\nAOCI\\n\\n6\\n\\nCapital Distributions7\\n\\nRWA\\n\\nOther\\n\\n8\\n\\n1Q23\\n\\nSTANDARDIZED RISK-WEIGHTED ASSETS ($B)1\\n\\n1,654\\n\\n6\\n\\n1,650\\n\\n(6)\\n\\n(4)\\n\\n4Q22\\n\\nLoans\\n\\nMarket Risk\\n\\nCredit Risk ex. Loans\\n\\n1Q23\\n\\nNote: Totals may not sum due to rounding 1 Estimated for the current period. See note 1 on slide 11 2 Estimated for the current period. Represents the supplementary leverage ratio (“SLR”) 3 Estimated for the current period. Liquidity Coverage Ratio (“LCR”) represents the average LCR for the Firm and JPMorgan Chase Bank, N.A. (“Bank”). See note 2 on slide 11 4 See note 3 on slide 10 5 Reflects Net Income Applicable to Common Equity 6 Excludes AOCI on cash flow hedges and DVA related to structured notes 7 Includes net share repurchases and common dividends 8 Primarily CET1 capital deductions, including the impact of CECL. See note 1 on slide 11\\n\\n3\\n\\nConsumer & Community Banking1\\n\\nSELECTED INCOME STATEMENT DATA ($MM)\\n\\nFINANCIAL PERFORMANCE\\n\\nCCB\\n\\nCIB\\n\\nCB\\n\\nAWM\\n\\nCorp.\\n\\n⚫ Net income of $5.2B, up 80% YoY', metadata={'source': 'files/JPM_FinancialResult.pdf'}),\n",
       " Document(page_content='SELECTED INCOME STATEMENT DATA ($MM)\\n\\nFINANCIAL PERFORMANCE\\n\\nCCB\\n\\nCIB\\n\\nCB\\n\\nAWM\\n\\nCorp.\\n\\n⚫ Net income of $5.2B, up 80% YoY\\n\\n⚫ Revenue of $16.5B, up 35% YoY, driven by higher net interest income\\n\\n⚫ Expense of $8.1B, up 5% YoY, largely driven by higher compensation, including wage inflation and headcount growth, as well as investments in the business, largely offset by lower auto lease depreciation\\n\\n⚫ Credit costs of $1.4B\\n\\n⚫ NCOs of $1.1B, up $499mm YoY, predominantly driven by Card\\n\\nServices\\n\\n⚫ Reserve build of $300mm in Card Services and $50mm in Home\\n\\nLending\\n\\nKEY DRIVERS / STATISTICS ($B)3\\n\\nKEY DRIVERS / STATISTICS ($B) – DETAIL BY BUSINESS\\n\\n⚫ Average loans up 5% YoY and flat QoQ\\n\\n⚫ Average deposits down 4% YoY and 3% QoQ\\n\\n⚫ EOP deposits down 4% YoY and up 1% QoQ\\n\\n⚫ Active mobile customers up 9% YoY\\n\\n⚫ Debit & credit card sales volume up 10% YoY ⚫ Client investment assets down 1% YoY and up 7% QoQ\\n\\n1 See note 1 on slide 10 2 See note 3 on slide 11 For additional footnotes see slide 12\\n\\n4\\n\\nCorporate & Investment Bank1\\n\\nSELECTED INCOME STATEMENT DATA ($MM)\\n\\nFINANCIAL PERFORMANCE\\n\\nCCB\\n\\nCIB\\n\\nCB\\n\\nAWM\\n\\nCorp.\\n\\nKEY DRIVERS / STATISTICS ($B)3\\n\\n⚫ Net income of $4.4B, up 1% YoY; revenue of $13.6B, flat YoY\\n\\n⚫ Banking revenue\\n\\n⚫ IB revenue of $1.6B, down 24% YoY\\n\\n– IB fees down 19% YoY, predominantly driven by lower debt\\n\\nunderwriting fees\\n\\n⚫ Payments revenue of $2.4B, up 26% YoY', metadata={'source': 'files/JPM_FinancialResult.pdf'}),\n",
       " Document(page_content='– IB fees down 19% YoY, predominantly driven by lower debt\\n\\nunderwriting fees\\n\\n⚫ Payments revenue of $2.4B, up 26% YoY\\n\\n– Excluding the net impact of equity investments, primarily a gain in the prior year, up 55%, predominantly driven by higher rates, partially offset by lower deposit balances\\n\\n⚫ Lending revenue of $267mm, down 17% YoY, predominantly driven by mark-to-market losses on hedges of retained loans, largely offset by higher net interest income on higher loan balances\\n\\n⚫ Markets & Securities Services revenue\\n\\n⚫ Markets revenue of $8.4B, down 4% YoY\\n\\n– Fixed Income Markets revenue of $5.7B, flat YoY, reflecting higher revenue in Rates and Credit and lower revenue in Currencies & Emerging Markets\\n\\n– Equity Markets revenue of $2.7B, down 12% YoY, against a\\n\\nstrong first quarter in the prior year\\n\\n⚫ Securities Services revenue of $1.1B, up 7% YoY, driven by higher rates, partially offset by lower deposit balances and market levels\\n\\n⚫ Expense of $7.5B, up 2% YoY, reflecting higher compensation,\\n\\nincluding headcount growth and wage inflation, largely offset by lower revenue-related compensation\\n\\n⚫ Credit costs of $58mm\\n\\n1 See note 1 on slide 10 2 See note 3 on slide 11 For additional footnotes see slide 12\\n\\n5\\n\\nCommercial Banking1\\n\\nSELECTED INCOME STATEMENT DATA ($MM)\\n\\nFINANCIAL PERFORMANCE\\n\\nCCB\\n\\nCIB\\n\\nCB\\n\\nAWM\\n\\nCorp.\\n\\n⚫ Net income of $1.3B, up 58% YoY\\n\\n⚫ Revenue of $3.5B, up 46% YoY, driven by higher deposit margins,\\n\\npartially offset by lower deposit-related fees ⚫ Payments revenue of $2.0B, up 98% YoY ⚫ Gross IB revenue of $881mm, up 21% YoY\\n\\n⚫ Expense of $1.3B, up 16% YoY, largely driven by higher\\n\\ncompensation, including headcount growth, as well as higher volume- related expense\\n\\n⚫ Credit costs of $417mm, reflecting a net reserve build', metadata={'source': 'files/JPM_FinancialResult.pdf'}),\n",
       " Document(page_content='compensation, including headcount growth, as well as higher volume- related expense\\n\\n⚫ Credit costs of $417mm, reflecting a net reserve build\\n\\n⚫ Average loans of $238B, up 13% YoY and up 1% QoQ\\n\\n⚫ C&I7 up 18% YoY and up 1% QoQ ⚫ CRE7 up 8% YoY and up 1% QoQ\\n\\n⚫ Average deposits of $266B, down 16% YoY and 5% QoQ,\\n\\npredominantly driven by continued attrition in non-operating deposits as well as seasonally lower balances\\n\\nKEY DRIVERS / STATISTICS ($B)2\\n\\n1 See note 1 on slide 10 For additional footnotes see slide 12\\n\\n6\\n\\nAsset & Wealth Management1\\n\\nSELECTED INCOME STATEMENT DATA ($MM)\\n\\nFINANCIAL PERFORMANCE\\n\\nCCB\\n\\nCIB\\n\\nCB\\n\\nAWM\\n\\nCorp.\\n\\n⚫ Net income of $1.4B, up 36% YoY\\n\\n⚫ Revenue of $4.8B, up 11% YoY, driven by higher deposit margins on lower balances and a valuation gain of $339mm on the Firm’s initial investment in the Asset Management joint venture in China as a result of taking 100% ownership, partially offset by the impact of lower average market levels on management fees and lower performance fees\\n\\n⚫ Expense of $3.1B, up 8% YoY, predominantly driven by higher\\n\\ncompensation, including headcount growth, higher revenue-related compensation and the impact of acquisitions\\n\\n⚫ AUM of $3.0T was up 2% YoY and client assets of $4.3T were up\\n\\n6% YoY, driven by continued net inflows ⚫ For the quarter, AUM had long-term net inflows of $47B and\\n\\nliquidity net inflows of $93B\\n\\n⚫ Average loans of $211B, down 1% YoY and down 1% QoQ\\n\\n⚫ Average deposits of $224B, down 22% YoY and down 5% QoQ\\n\\nKEY DRIVERS / STATISTICS ($B)2\\n\\n1 See note 1 on slide 10 2 Actual numbers for all periods, not over/(under)\\n\\n7\\n\\nCorporate1', metadata={'source': 'files/JPM_FinancialResult.pdf'}),\n",
       " Document(page_content='KEY DRIVERS / STATISTICS ($B)2\\n\\n1 See note 1 on slide 10 2 Actual numbers for all periods, not over/(under)\\n\\n7\\n\\nCorporate1\\n\\nSELECTED INCOME STATEMENT DATA ($MM)\\n\\nFINANCIAL PERFORMANCE\\n\\nCCB\\n\\nCIB\\n\\nCB\\n\\nAWM\\n\\nCorp.\\n\\n⚫ Revenue was $985mm, up $1.9B YoY\\n\\n⚫ Net interest income was $1.7B, compared with a loss of $536mm\\n\\nin the prior year, due to the impact of higher rates\\n\\n⚫ Noninterest revenue was a loss of $755mm, compared with a loss\\n\\nof $345mm in the prior year, and included net investment securities losses of $868mm\\n\\n⚫ Expense: Noninterest expense of $160mm, down $24mm YoY\\n\\n⚫ Credit costs of $370mm, reflecting a net reserve build, driven by\\n\\nsingle name exposures\\n\\n1 See note 1 on slide 10\\n\\n8\\n\\nOutlook1\\n\\nFIRMWIDE\\n\\nExpect FY2023 net interest income and net interest income excluding Markets of ~$81B, market dependent\\n\\nSIGNIFICANT SOURCES OF UNCERTAINTY\\n\\n⚫ Deposit reprice (magnitude and timing)\\n\\n⚫ Consumer behavior and competitive dynamics\\n\\n⚫ Hard vs. soft landing\\n\\n⚫ Impacts both rates and loan growth\\n\\n⚫ Loan growth, including card revolve\\n\\n⚫ Securities reinvestment strategy\\n\\n⚫ Impact of policy choices\\n\\n⚫ Pace of quantitative tightening ⚫ Path of Fed Funds rate ⚫ Size and terms of RRP\\n\\nNII EX. MARKETS\\n\\n$21B\\n\\n~$60B\\n\\nRun-rate:\\n\\n$84B\\n\\n~$80B\\n\\nmid-70s ($B)\\n\\n1Q23\\n\\n2Q23 – 4Q23\\n\\nMedium-term\\n\\nExpect FY2023 adjusted expense of ~$81B, market dependent\\n\\nExpect FY2023 Card Services NCO rate of ~2.60%\\n\\n1\\n\\n2\\n\\n3\\n\\n1 See notes 1, 2 and 4 on slide 10\\n\\n9\\n\\nNotes on non-GAAP financial measures\\n\\n1.\\n\\n2.\\n\\n3.\\n\\n4.\\n\\n5.', metadata={'source': 'files/JPM_FinancialResult.pdf'}),\n",
       " Document(page_content='1\\n\\n2\\n\\n3\\n\\n1 See notes 1, 2 and 4 on slide 10\\n\\n9\\n\\nNotes on non-GAAP financial measures\\n\\n1.\\n\\n2.\\n\\n3.\\n\\n4.\\n\\n5.\\n\\nIn addition to analyzing the Firm’s results on a reported basis, management reviews Firmwide results, including the overhead ratio, on a “managed” basis; these Firmwide managed basis results are non-GAAP financial measures. The Firm also reviews the results of the lines of business on a managed basis. The Firm’s definition of managed basis starts, in each case, with the reported U.S. GAAP results and includes certain reclassifications to present total net revenue for the Firm and each of the reportable business segments on a fully taxable-equivalent basis. Accordingly, revenue from investments that receive tax credits and tax-exempt securities is presented in the managed results on a basis comparable to taxable investments and securities. These financial measures allow management to assess the comparability of revenue from year-to-year arising from both taxable and tax-exempt sources. The corresponding income tax impact related to tax-exempt items is recorded within income tax expense. These adjustments have no impact on net income as reported by the Firm as a whole or by the lines of business. For a reconciliation of the Firm’s results from a reported to managed basis, refer to page 7 of the Earnings Release Financial Supplement', metadata={'source': 'files/JPM_FinancialResult.pdf'}),\n",
       " Document(page_content='In addition to reviewing net interest income (“NII”) and noninterest revenue (“NIR”) on a managed basis, management also reviews these metrics excluding CIB Markets (“Markets”, which is composed of Fixed Income Markets and Equity Markets). Markets revenue consists of principal transactions, fees, commissions and other income, as well as net interest income. These metrics, which exclude Markets, are non-GAAP financial measures. Management reviews these metrics to assess the performance of the Firm’s lending, investing (including asset-liability management) and deposit-raising activities, apart from any volatility associated with Markets activities. In addition, management also assesses Markets business performance on a total revenue basis as offsets may occur across revenue lines. For example, securities that generate net interest income may be risk-managed by derivatives that are reflected at fair value in principal transactions revenue. Management believes these measures provide investors and analysts with alternative measures to analyze the revenue trends of the Firm. For a reconciliation of NII and NIR from reported to excluding Markets, refer to page 29 of the Earnings Release Financial Supplement. For additional information on Markets revenue, refer to page 70 of the Firm’s 2022 Form 10-K\\n\\nTangible common equity (“TCE”), return on tangible common equity (“ROTCE”) and tangible book value per share (“TBVPS”), are each non-GAAP financial measures. TCE represents the Firm’s common stockholders’ equity (i.e., total stockholders’ equity less preferred stock) less goodwill and identifiable intangible assets (other than mortgage servicing rights), net of related deferred tax liabilities. For a reconciliation from common stockholders’ equity to TCE, refer to page 10 of the Earnings Release Financial Supplement. ROTCE measures the Firm’s net income applicable to common equity as a percentage of average TCE. TBVPS represents the Firm’s TCE at period-end divided by common shares at period-end. Book value per share was $94.34, $90.29 and $86.16 at March 31, 2023, December 31, 2022 and March 31, 2022, respectively. TCE, ROTCE and TBVPS are utilized by the Firm, as well as investors and analysts, in assessing the Firm’s use of equity', metadata={'source': 'files/JPM_FinancialResult.pdf'}),\n",
       " Document(page_content='Adjusted expense and adjusted overhead ratio are each non-GAAP financial measures. Adjusted expense represents noninterest expense excluding Firmwide legal expense of $176mm, $27mm and $119mm for the three months ended March 31, 2023, December 31, 2022 and March 31, 2022, respectively. The adjusted overhead ratio measures the Firm’s adjusted expense as a percentage of managed net revenue. Management believes this information helps investors understand the effect of these items on reported results and provides an alternate presentation of the Firm’s performance\\n\\nCorporate & Investment Bank (“CIB”) calculates the ratio of the allowance for loan losses to end-of-period loans (“ALL/EOP”) excluding the impact of consolidated Firm-administered multi-seller conduits and trade finance loans, to provide a more meaningful assessment of CIB’s allowance coverage ratio\\n\\n10\\n\\nAdditional notes\\n\\n1.\\n\\n2.\\n\\n3.\\n\\nReflects the Current Expected Credit Losses (\"CECL\") capital transition provisions. Beginning January 1, 2022, the $2.9B CECL capital benefit is being phased out at 25% per year over a three-year period. As of March 31, 2023, CET1 capital and Total Loss-Absorbing Capacity reflected the remaining $1.4B CECL benefit; as of December 31, 2022 and March 31, 2022, CET1 capital reflected a $2.2B benefit. Refer to Capital Risk Management on pages 86-96 of the Firm’s 2022 Form 10-K for additional information', metadata={'source': 'files/JPM_FinancialResult.pdf'}),\n",
       " Document(page_content='Total excess high-quality liquid assets (“HQLA”) represent the average eligible unencumbered liquid assets that are in excess of what is required to meet the estimated Firm and Bank total net cash outflows over a prospective 30 calendar-day period of significant stress under the LCR rule. HQLA and unencumbered marketable securities, includes the Firm’s average eligible HQLA, other end-of-period HQLA-eligible securities which are included as part of the excess liquidity at the Bank that are not transferable to non-bank affiliates and thus excluded from the Firm’s LCR under the LCR rule, and other end-of-period unencumbered marketable securities, such as equity and debt securities. Does not include borrowing capacity at Federal Home Loan Banks and the discount window at the Federal Reserve Bank. Refer to Liquidity Risk Management on pages 97-104 of the Firm’s 2022 Form 10-K for additional information\\n\\nIn the first quarter of 2023, the allocations of revenue and expense to CCB associated with a Merchant Services revenue sharing agreement were discontinued and are now retained in Payments in CIB. Prior-period amounts have been revised to conform with the current presentation\\n\\n11\\n\\nAdditional notes on slides 4-6\\n\\nSlide 4 – Consumer & Community Banking\\n\\n3.\\n\\n4.\\n\\n5.\\n\\n6.\\n\\n7.\\n\\nActual numbers for all periods, not over/(under)\\n\\nUsers of all mobile platforms who have logged in within the past 90 days\\n\\nExcludes Commercial Card\\n\\nIncludes the impact of loans originated under the PPP. For further information, refer to page 13 of the Earnings Release Financial Supplement\\n\\nFirmwide mortgage origination volume was $6.8B, $8.5B and $30.2B for the three months ended March 31, 2023, December 31, 2022 and March 31, 2022, respectively\\n\\nSlide 5 – Corporate & Investment Bank\\n\\n3.\\n\\n4.\\n\\n5.\\n\\n6.\\n\\nActual numbers for all periods, not over/(under)\\n\\nClient deposits and other third-party liabilities pertain to the Payments and Securities Services businesses\\n\\nRepresents total merchant processing volume across CIB, CCB and CB', metadata={'source': 'files/JPM_FinancialResult.pdf'}),\n",
       " Document(page_content='5.\\n\\n6.\\n\\nActual numbers for all periods, not over/(under)\\n\\nClient deposits and other third-party liabilities pertain to the Payments and Securities Services businesses\\n\\nRepresents total merchant processing volume across CIB, CCB and CB\\n\\nLoans held-for-sale and loans at fair value were excluded when calculating the loan loss coverage ratio and net charge-off/(recovery) rate. ALL/EOP loans as reported was 1.31%, 1.22%, and 1.01% at March 31, 2023, December 31, 2022 and March 31, 2022, respectively. See note 5 on slide 10\\n\\nSlide 6 – Commercial Banking\\n\\n2.\\n\\n3.\\n\\n4.\\n\\n5.\\n\\n6.\\n\\n7.\\n\\nActual numbers for all periods, not over/(under)\\n\\nIn the fourth quarter of 2022, certain revenue from CIB Markets products was reclassified from investment banking to payments. Prior-period amounts have been revised to conform with the current presentation\\n\\nIncludes gross revenues earned by the Firm, that are subject to a revenue sharing arrangement with the CIB, for products sold to CB clients through the Investment Banking, Markets or Payments businesses. This includes revenues related to fixed income and equity markets products. Refer to page 61 of the Firm’s 2022 Form 10- K for discussion of revenue sharing\\n\\nIncludes the impact of loans originated under the PPP. For further information, refer to page 20 of the Earnings Release Financial Supplement\\n\\nLoans held-for-sale and loans at fair value were excluded when calculating the net charge-off/(recovery) rate and loan loss coverage ratio\\n\\nCommercial and Industrial (“C&I”) and Commercial Real Estate (“CRE”) groupings for CB are generally based on client segments and do not align with regulatory definitions\\n\\n12\\n\\nForward-looking statements', metadata={'source': 'files/JPM_FinancialResult.pdf'}),\n",
       " Document(page_content='Commercial and Industrial (“C&I”) and Commercial Real Estate (“CRE”) groupings for CB are generally based on client segments and do not align with regulatory definitions\\n\\n12\\n\\nForward-looking statements\\n\\nThis presentation contains forward-looking statements within the meaning of the Private Securities Litigation Reform Act of 1995. These statements are based on the current beliefs and expectations of JPMorgan Chase & Co.’s management and are subject to significant risks and uncertainties. Actual results may differ from those set forth in the forward-looking statements. Factors that could cause JPMorgan Chase & Co.’s actual results to differ materially from those described in the forward-looking statements can be found in JPMorgan Chase & Co.’s Annual Report on Form 10-K for the year ended December 31, 2022, which has been filed with the Securities and Exchange Commission and is available on JPMorgan Chase & Co.’s website (https://jpmorganchaseco.gcs- web.com/financial-information/sec-filings), and on the Securities and Exchange Commission’s website (www.sec.gov). JPMorgan Chase & Co. does not undertake to update any forward-looking statements.\\n\\n13', metadata={'source': 'files/JPM_FinancialResult.pdf'})]"
      ]
     },
     "execution_count": 10,
     "metadata": {},
     "output_type": "execute_result"
    }
   ],
   "source": [
    "chunks = pdf_2_chunks(documents,chunk_size=512,chunk_overlap=51)\n",
    "print(len(chunks))\n",
    "chunks"
   ]
  },
  {
   "cell_type": "code",
   "execution_count": null,
   "metadata": {},
   "outputs": [],
   "source": []
  },
  {
   "cell_type": "code",
   "execution_count": 75,
   "metadata": {},
   "outputs": [
    {
     "name": "stdout",
     "output_type": "stream",
     "text": [
      "No documents: 22\n"
     ]
    },
    {
     "data": {
      "text/plain": [
       "[Document(page_content='              JPMORGAN CHASE BANK, NATIONAL ASSOCIATION (a wholly-owned subsidiary of JPMorgan Chase & Co.)            CONSOLIDATED FINANCIAL STATEMENTS For the three years ended December 31, 2022  ', metadata={'source': 'files/JPMorgan_Chase_Bank_Annual_Consolidated_Financial_Statements_onlybalancesheet.pdf', 'page': 0}),\n",
       " Document(page_content='JPMorgan Chase Bank, National Association/2022 Consolidated Financial Statements 2  ', metadata={'source': 'files/JPMorgan_Chase_Bank_Annual_Consolidated_Financial_Statements_onlybalancesheet.pdf', 'page': 1}),\n",
       " Document(page_content='JPMorgan Chase Bank, National Association/2022 Consolidated Financial Statements 3  Consolidated statements of income  JPMorgan Chase Bank, National Association (a wholly-owned subsidiary of JPMorgan Chase & Co.) Year ended December 31, (in millions) 2022 2021 2020 Revenue    Investment banking fees $ 2,955 $ 5,232 $ 3,527 Principal transactions 17,895 13,677 14,784 Lending- and deposit-related fees 7,095 7,031 6,510 Asset management, administration and commissions 13,935 14,021 12,406 Investment securities gains/(losses) (2,380) (345) 802 Mortgage fees and related income 1,250 2,170 3,092 Card income 4,421 5,102 4,435 Other income 5,384 5,511 5,931 Noninterest revenue 50,555 52,399 51,487 Interest income 84,097 53,870 58,900 Interest expense 15,675 2,064 4,987 Net interest income 68,422 51,806 53,913 Total net revenue 118,977 104,205 105,400 Provision for credit losses 6,347 (9,296) 17,483 Noninterest expense    Compensation expense 34,000 31,212 28,725 Occupancy expense 4,469 4,313 4,249 Technology, communications and equipment expense 8,646 9,304 9,890 Professional and outside services 6,983 6,510 5,692 Marketing 3,877 2,936 2,338 Other expense 10,761 10,170 9,821 Total noninterest expense 68,736 64,445 60,715 Income before income tax expense 43,894 49,056 27,202 Income tax expense 9,552 11,001 6,170 Net income $ 34,342 $ 38,055 $ 21,032   The Notes to Consolidated Financial Statements are an integral part of these statements. ', metadata={'source': 'files/JPMorgan_Chase_Bank_Annual_Consolidated_Financial_Statements_onlybalancesheet.pdf', 'page': 2}),\n",
       " Document(page_content='4 JPMorgan Chase Bank, National Association/2022 Consolidated Financial Statements  Consolidated statements of comprehensive income  JPMorgan Chase Bank, National Association (a wholly-owned subsidiary of JPMorgan Chase & Co.) Year ended December 31, (in millions) 2022 2021 2020 Net income $ 34,342 $ 38,055 $ 21,032 Other comprehensive income/(loss), after–tax    Unrealized gains/(losses) on investment securities (11,751) (5,516) 4,146 Translation adjustments, net of hedges (555) (442) 242 Cash flow hedges (5,359) (2,679) 2,322 Defined benefit pension and OPEB plans (742) 688 (3) DVA on fair value option elected liabilities 265 (291) (45) Total other comprehensive income/(loss), after–tax (18,142) (8,240) 6,662 Comprehensive income $ 16,200 $ 29,815 $ 27,694   The Notes to Consolidated Financial Statements are an integral part of these statements. ', metadata={'source': 'files/JPMorgan_Chase_Bank_Annual_Consolidated_Financial_Statements_onlybalancesheet.pdf', 'page': 3}),\n",
       " Document(page_content='JPMorgan Chase Bank, National Association/2022 Consolidated Financial Statements 5  Consolidated balance sheets  JPMorgan Chase Bank, National Association (a wholly-owned subsidiary of JPMorgan Chase & Co.) December 31, (in millions, except share data) 2022 2021 Assets   Cash and due from banks $ 27,258 $ 25,657 Deposits with banks 538,715 713,660 Federal funds sold and securities purchased under resale agreements (included $193,945 and $176,980 at fair value) 259,460 227,457 Securities borrowed (included $22,454 and $32,112 at fair value) 53,642 65,111 Trading assets (included assets pledged of $39,458 and $49,335(a)) 288,420 293,428 Available-for-sale securities (amortized cost of $216,103 and $308,039, included assets pledged of $15,274 and $31,124(a))  205,790  308,318 Held-to-maturity securities 425,305 363,707 Investment securities, net of allowance for credit losses 631,095 672,025 Loans (included $41,795 and $58,471 at fair value) 1,132,985 1,075,106 Allowance for loan losses (19,714) (16,378) Loans, net of allowance for loan losses 1,113,271 1,058,728 Accrued interest and accounts receivable 89,373 76,345 Premises and equipment 26,347 25,757 Goodwill, MSRs and other intangible assets 48,600 45,831 Other assets (included $12,667 and $11,016 at fair value and assets pledged of $2,505 and $1,750) 125,761 102,983 Total assets(b) $  3,201,942 $  3,306,982 Liabilities   Deposits (included $28,742 and $11,479 at fair value) $  2,440,722 $  2,549,631 Federal funds purchased and securities loaned or sold under repurchase agreements (included $75,327 and $81,545 at   fair value) 85,902 102,266 Short-term borrowings (included $7,796 and $11,619 at fair value) 10,074 13,423 Trading liabilities 116,629 111,017 Accounts payable and other liabilities (included $7,760 and $7,366 at fair value) 156,433 133,034 Beneficial interests issued by consolidated variable interest entities 13,424 10,721 Long-term debt (included $27,145 and $35,633 at fair value) 75,138 84,042 Total liabilities(b) 2,898,322 3,004,134 Commitments and contingencies (refer to Notes 26, 27 and 28)   Stockholder’s equity   Preferred stock ($1 par value; authorized 15,000,000 shares: issued 0 shares) — — Common stock ($12 par value; authorized 200,000,000 shares; issued 168,971,750 shares) 2,028 2,028 Additional paid-in capital 118,293 118,221 Retained earnings 201,263 182,421 Accumulated other comprehensive income/(loss) (17,964) 178 Total stockholder’s equity 303,620 302,848 Total liabilities and stockholder’s equity $  3,201,942 $  3,306,982 (a) Prior-period amounts have been revised to conform with the current presentation. (b) The following table presents information on assets and liabilities related to variable interest entities (“VIEs”) that are consolidated by the Bank at December 31, 2022 and 2021. The assets of the consolidated VIEs are used to settle the liabilities of those entities. The holders of the beneficial interests generally do not have recourse to the general credit of the Bank. The assets and liabilities in the table below include third-party assets and liabilities of consolidated VIEs (including balances with related parties) and exclude intercompany balances that eliminate in consolidation. Refer to Note 15 for a further discussion.  December 31, (in millions) 2022 2021 Assets Trading assets  $ 2,089  $ 1,990 Loans 34,394 33,001 All other assets 290 207 Total assets $ 36,773 $ 35,198 Liabilities Beneficial interests issued by consolidated VIEs  $ 13,424  $ 10,721 All other liabilities 132 144 Total liabilities $ 13,556 $ 10,865   The Notes to Consolidated Financial Statements are an integral part of these statements. ', metadata={'source': 'files/JPMorgan_Chase_Bank_Annual_Consolidated_Financial_Statements_onlybalancesheet.pdf', 'page': 4}),\n",
       " Document(page_content='6 JPMorgan Chase Bank, National Association/2022 Consolidated Financial Statements  Consolidated statements of changes in stockholder’s equity JPMorgan Chase Bank, National Association (a wholly-owned subsidiary of JPMorgan Chase & Co.)  Year ended December 31, (in millions) 2022 2021 2020 Common stock Balance at January 1 and December 31  $ 2,028  $ 2,028  $ 2,028 Additional paid-in capital Balance at January 1  118,221  115,248  110,297 Cash capital contribution from JPMorgan Chase & Co. — 3,000 5,000 Other 72 (27) (49) Balance at December 31 118,293 118,221 115,248 Retained earnings Balance at January 1  182,421  144,366  132,016 Cumulative effect of change in accounting principles — — (2,682) Net income 34,342 38,055 21,032 Cash dividends paid to JPMorgan Chase & Co. (15,500) — (6,000) Balance at December 31 201,263 182,421 144,366 Accumulated other comprehensive income/(loss) Balance at January 1  178  8,418  1,756 Other comprehensive income/(loss), after-tax (18,142) (8,240) 6,662 Balance at December 31 (17,964) 178 8,418 Total stockholder’s equity $ 303,620 $ 302,848 $ 270,060 Effective January 1, 2020, the Bank adopted the CECL accounting guidance. Refer to Note 1 for further information.   The Notes to Consolidated Financial Statements are an integral part of these statements. ', metadata={'source': 'files/JPMorgan_Chase_Bank_Annual_Consolidated_Financial_Statements_onlybalancesheet.pdf', 'page': 5}),\n",
       " Document(page_content='JPMorgan Chase Bank, National Association/2022 Consolidated Financial Statements 7  Consolidated statements of cash flows  JPMorgan Chase Bank, National Association (a wholly-owned subsidiary of JPMorgan Chase & Co.) Year ended December 31, (in millions) 2022 2021 2020 Operating activities    Net income $  34,342 $  38,055 $  21,032 Adjustments to reconcile net income to net cash provided by/(used in) operating activities:    Provision for credit losses 6,347 (9,296) 17,483 Depreciation and amortization 6,590 7,535 8,355 Deferred tax (benefit)/expense (3,542) 2,147 (3,819) Other 2,380 345 (802) Originations and purchases of loans held-for-sale (149,091) (347,864) (166,499) Proceeds from sales, securitizations and paydowns of loans held-for-sale 167,713 336,404 175,426 Net change in:    Trading assets 14,114 25,806 (102,464) Securities borrowed 10,973 (20,978) (5,427) Accrued interest and accounts receivable (13,088) (4,722) (17,569) Other assets (29,954) 21,442 (26,435) Trading liabilities 7,404 (38,612) 62,987 Accounts payable and other liabilities 46,646 12,529 1,455 Other operating adjustments 8 284 1,163 Net cash provided by/(used in) operating activities 100,842 23,075 (35,114) Investing activities    Net change in:    Federal funds sold and securities purchased under resale agreements (32,211) 116,694 (132,774) Held-to-maturity securities:    Proceeds from paydowns and maturities 48,626 50,897 21,360 Purchases (33,676) (111,756) (12,400) Available-for-sale securities:    Proceeds from paydowns and maturities 39,048 49,505 57,518 Proceeds from sales 84,616 162,642 149,758 Purchases (126,258) (248,784) (397,095) Proceeds from sales and securitizations of loans held-for-investment 44,910 35,843 23,561 Other changes in loans, net (128,952) (91,019) (50,292) All other investing activities, net (8,017) (3,849) (2,609) Net cash (used in) investing activities (111,914) (39,827) (342,973) Financing activities    Net change in:    Deposits (111,772) 274,351 622,154 Federal funds purchased and securities loaned or sold under repurchase agreements (15,795) (33,459) 49,262 Short-term borrowings (2,122) 1,886 1,815 Beneficial interests issued by consolidated VIEs 3,042 (4,255) 1,329 Proceeds from long-term borrowings 16,363 29,783 38,373 Payments of long-term borrowings (20,459) (29,389) (80,062) Cash capital contribution from JPMorgan Chase & Co. — 3,000 5,000 Dividends paid to JPMorgan Chase & Co. (15,500) — (6,000) All other financing activities, net 576 (148) 765 Net cash provided by/(used in) financing activities (145,667) 241,769 632,636 Effect of exchange rate changes on cash and due from banks and deposits with banks (16,605) (11,469) 9,103 Net increase/(decrease) in cash and due from banks and deposits with banks (173,344) 213,548 263,652 Cash and due from banks and deposits with banks at the beginning of the period 739,317 525,769 262,117 Cash and due from banks and deposits with banks at the end of the period $ 565,973 $ 739,317 $ 525,769 Cash interest paid $  13,717 $ 1,822 $ 5,616 Cash income taxes paid, net(a) 9,586 16,496 9,848 (a) Includes $12.5 billion, $13.3 billion and $7.4 billion paid to JPMorgan Chase & Co. in 2022, 2021 and 2020, respectively. Refer to Note 23 for discussion of income taxes.   The Notes to Consolidated Financial Statements are an integral part of these statements. ', metadata={'source': 'files/JPMorgan_Chase_Bank_Annual_Consolidated_Financial_Statements_onlybalancesheet.pdf', 'page': 6}),\n",
       " Document(page_content='134 JPMorgan Chase Bank, National Association/2022 Consolidated Financial Statements   ', metadata={'source': 'files/JPMorgan_Chase_Bank_Annual_Consolidated_Financial_Statements_onlybalancesheet.pdf', 'page': 7}),\n",
       " Document(page_content='1Q23 Financial Results\\nApril 14, 2023\\n', metadata={'source': 'files/JPM_FinancialResult.pdf', 'page': 0}),\n",
       " Document(page_content='1Q23 Financial highlights\\n1See note 3 on slide 10\\n2Represents the estimated Basel III common equity Tier 1 (“CET1”) capital and ratio and Total Loss -Absorbing Capacity for the cu rrent period. See note 1 on slide 11\\n3Standardized risk -weighted assets (“RWA”). Estimated for the current period. See note 1 on slide 11\\n4Cash and marketable securities represents HQLA and unencumbered marketable securities. Estimated for the current period. See note 2 on slide 11\\n5See note 1 on slide 10\\n6Includes the net impact of employee issuances\\n7 Last twelve months (“LTM”). Net of stock issued to employeesSIGNIFICANT ITEMS ($MM, EXCLUDING EPS)\\n Pretax  Net income EPS\\nNet investment securities losses in Corporate ($868) ($660) ($0.22)Balance sheet⚫Loans: average loans of $1.1T up 6% YoY and flat QoQ\\n⚫Deposits: average deposits of $2.3T down 8% YoY and down 3% QoQ\\n⚫CET1 capital of $227B2\\n–Standardized CET1 capital ratio of 13.8%2; Advanced CET1 capital ratio of 13.9%2\\nCapital distributed⚫Common dividend of $3.0B or $1.00 per share\\n⚫$1.9B of common stock net repurchases6\\n⚫Net payout LTM of 33%7Income statement⚫1Q23 net income of $12.6B and EPS of $4.10\\n⚫Managed revenue of $39.3B5\\n–Included net investment securities losses of $868mm\\n⚫Expense of $20.1B and managed overhead ratio of 51%5ROTCE1\\n23%CET1 capital ratios2\\nStd. 13.8% | Adv. 13.9%\\nTotal Loss -Absorbing Capacity2$488BStd. RWA3$1.7T\\nCash and marketable securities4$1.4T\\nAverage loans  $1.1T\\n1', metadata={'source': 'files/JPM_FinancialResult.pdf', 'page': 1}),\n",
       " Document(page_content='1Q23  4Q22  1Q22  \\nNet interest income $20.8 $0.5 $6.9 \\nNoninterest revenue 18.5 3.3 0.9 \\nManaged revenue139.3 3.8 7.7 \\nExpense 20.1 1.1 0.9 \\nCredit costs 2.3 (0.0) 0.8 \\nNet income $12.6 $1.6 $4.3 \\nNet income applicable to common stockholders $12.2 $1.6 $4.3 \\nEPS – diluted $4.10 $0.53 $1.47 \\nROE218% 16% 13%\\nROTCE2,323 20 16 \\nOverhead ratio – managed1,251 53 61 \\nMemo:\\nNII excluding Markets4$20.9 $0.9 $9.2 \\nNIR excluding Markets410.0 0.1 (1.1) \\nMarkets revenue 8.4 2.7 (0.4) \\nManaged revenue139.3 3.8 7.7 \\nAdjusted expense5$19.9 $0.9 $0.9 \\nAdjusted overhead ratio1,2,551% 53% 60%$ O/(U)\\n1Q23 ROE  O/H ratio  \\nCCB 40% 49%\\nCIB 16% 55%\\nCB 18% 37%\\nAWM 34% 65%1Q23 Financial results1\\n1Q23 Tax rate\\nEffective rate: 20.9%\\nManaged rate: 25.6%1,6\\nNote: Totals may not sum due to rounding\\n1See note 1 on slide 10\\n2 Actual numbers for all periods, not over/(under)\\n3See note 3 on slide 10\\n4See note 2 on slide 10\\n5See note 4 on slide 10\\n6Reflects fully taxable -equivalent (“FTE”) adjustments of $987mm in 1Q23\\n$B 1Q23  4Q22  1Q22  \\nNet charge-offs $1.1 $0.9 $0.6 \\nReserve build/(release) 1.1 1.4 0.9 \\nCredit costs $2.3 $2.3 $1.5 $B, EXCEPT PER SHARE DATA\\n2', metadata={'source': 'files/JPM_FinancialResult.pdf', 'page': 2}),\n",
       " Document(page_content=' 1Q23   4Q22   1Q22  \\nRisk-based capital metrics1\\nCET1 capital $227 $219 $208 \\nCET1 capital ratio – Standardized 13.8% 13.2% 11.9%\\nCET1 capital ratio – Advanced 13.9 13.6 12.7 \\nBasel III Standardized RWA $1,650 $1,654 $1,751\\nLeverage-based capital metric2\\nFirm SLR 5.9% 5.6% 5.2%\\nLiquidity metrics3\\nFirm LCR 114% 112% 110%\\nBank LCR 140 151 181 \\nTotal excess HQLA $368 $437 $625 \\nHQLA and unencumbered marketable securities 1,431 1,427 1,662 \\nBalance sheet metrics\\nTotal assets (EOP) $3,744 $3,666 $3,955 \\nDeposits (average) 2,320 2,380 2,516 \\nTangible book value per share476.69 73.12 69.58 Fortress balance sheet\\nNote: Totals may not sum due to rounding\\n1Estimated for the current period. See note 1 on slide 11\\n2Estimated for the current period. Represents the supplementary leverage ratio (“SLR”)\\n3Estimated for the current period. Liquidity Coverage Ratio (“LCR”) represents the average LCR for the Firm and JPMorgan Chase Bank, N.A. (“Bank”). See note 2 on slide 11\\n4See note 3 on slide 10\\n5Reflects Net Income Applicable to Common Equity\\n6Excludes AOCI on cash flow hedges and DVA related to structured notes\\n7Includes net share repurchases and common dividends\\n8Primarily CET1 capital deductions, including the impact of CECL . See note 1 on slide 11$B, EXCEPT PER SHARE DATA STANDARDIZED CET1 RATIO (%)1\\nSTANDARDIZED RISK -WEIGHTED ASSETS ($B)1\\n4Q22 Loans Credit Risk \\nex. LoansMarket Risk 1Q23\\n(4)1,6541,650\\n(6)6AOCI Other6 84Q22 RWA 1Q23 Capital\\nDistributions7Net \\nincome5\\n13.8%\\n13.2%\\nNet share \\nrepurchases: (12 bps)74 bps14 bps\\n(29 bps)3 bps\\n(9 bps)\\n3', metadata={'source': 'files/JPM_FinancialResult.pdf', 'page': 3}),\n",
       " Document(page_content='Consumer & Community Banking1\\nKEY DRIVERS / STATISTICS ($B) –DETAIL BY BUSINESSFINANCIAL PERFORMANCE SELECTED INCOME STATEMENT DATA ($MM)\\nKEY DRIVERS / STATISTICS ($B)3⚫Net income of $5.2B, up 80% YoY\\n⚫Revenue of $16.5B, up 35% YoY, driven by higher net interest income\\n⚫Expense of $8.1B, up 5% YoY, largely driven by higher compensation, \\nincluding wage inflation and headcount growth, as well as investments \\nin the business, largely offset by lower auto lease depreciation\\n⚫Credit costs of $1.4B\\n⚫NCOs of $1.1B, up $499mm YoY, predominantly driven by Card \\nServices\\n⚫Reserve build of $300mm in Card Services and $50mm in Home \\nLending\\n1See note 1 on slide 10\\n2See note 3 on slide 11\\nFor additional footnotes see slide 12CCB CIB CB AWM Corp.\\n$ O/(U)\\n1Q23  4Q22  1Q22  \\nRevenue $16,456 $663 $4,274 \\nBanking & Wealth Management210,041 459 4,026 \\nHome Lending 720 136 (449)  \\nCard Services & Auto 5,695 68 697 \\nExpense28,065 153 410 \\nCredit costs 1,402 (443)  724 \\nNet charge-offs (NCOs) 1,052 207 499 \\nChange in allowance 350 (650)  225 \\nNet income $5,243 $687 $2,335 \\n1Q23  4Q22  1Q22  \\nBanking & Wealth Management\\nBusiness Banking average loans6$19.9 $20.5 $24.8 \\nBusiness Banking loan originations 1.0 1.1 1.0 \\nClient investment assets (EOP) 690.8 647.1 696.3 \\nDeposit margin 2.78% 2.48% 1.22%\\nHome Lending\\nAverage loans $172.1 $174.5 $176.5 \\nLoan originations75.7 6.7 24.7 \\nThird-party mortgage loans serviced (EOP) 575.9 584.3 575.4 \\nNet charge-off/(recovery) rate (0.04)% (0.08)% (0.17)%\\nCard Services & Auto\\nCard Services average loans $180.5 $177.0 $149.4 \\nAuto average loans and leased assets 80.3 80.0 85.7 \\nAuto loan and lease originations 9.2 7.5 8.4 \\nCard Services net charge-off rate 2.07% 1.62% 1.37%\\nCard Services net revenue rate 10.38 10.06 9.87\\nCard Services sales volume5$266.2 $284.8 $236.4 \\n1Q23  4Q22  1Q22  \\nEquity $52.0 $50.0 $50.0 \\nROE 40% 35% 23%\\nOverhead ratio 49 50 63 \\nAverage loans $449.8 $448.5 $428.9 \\nAverage deposits 1,113.0 1,142.5 1,153.5 \\nActive mobile customers (mm)450.9 49.7 46.5 \\nDebit & credit card sales volume5$387.3 $411.1 $351.5 \\n⚫Average loans up 5% YoY and flat QoQ\\n⚫Average deposits down 4% YoY and 3% QoQ\\n⚫EOP deposits down 4% YoY and up 1% QoQ\\n⚫Active mobile customers up 9% YoY\\n⚫Debit & credit card sales volume up 10% YoY\\n⚫Client investment assets down 1% YoY and up 7% QoQ\\n4', metadata={'source': 'files/JPM_FinancialResult.pdf', 'page': 4}),\n",
       " Document(page_content='1Q23  4Q22  1Q22  \\nEquity $108.0 $103.0 $103.0 \\nROE216% 12% 16%\\nOverhead ratio 55 61 54 \\nComp/revenue 30 29 30 \\nIB fees ($mm) $1,654 $1,467 $2,050 \\nAverage loans 228.1 225.8 212.4 \\nAverage client deposits4633.7 649.7 709.1 \\nMerchant processing volume5558.8 583.2 490.2 \\nAssets under custody ($T) 29.7 28.6 31.6 \\nALL/EOP loans ex-conduits and trade61.81% 1.67% 1.31%\\nNet charge-off/(recovery) rate60.11 0.02 0.05 \\nAverage VaR ($mm) $45 $60 $64 \\n$ O/(U)\\n1Q23  4Q22  1Q22  \\nRevenue $13,600 $3,002 $24 \\nInvestment Banking revenue 1,560 171 (497)  \\nPayments22,396 276 495 \\nLending 267 (56)  (54)  \\nTotal Banking 4,223 391 (56)\\nFixed Income Markets 5,699 1,960 1 \\nEquity Markets 2,683 752 (372)  \\nSecurities Services 1,148 (11)  80 \\nCredit Adjustments & Other (153)  (90)  371 \\nTotal Markets & Securities Services 9,377 2,611 80 \\nExpense27,483 988 120 \\nCredit costs 58 (83)  (387)  \\nNet income $4,421 $1,107 $49 Corporate & Investment Bank1\\nKEY DRIVERS / STATISTICS ($B)3⚫Net income of $4.4B, up 1% YoY; revenue of $13.6B, flat YoY\\n⚫Banking revenue\\n⚫IB revenue of $ 1.6B, down 24% YoY\\n–IB fees down 19% YoY, predominantly driven by lower debt \\nunderwriting fees \\n⚫Payments revenue of $2.4B, up 26% YoY\\n–Excluding the net impact of equity investments, primarily a gain \\nin the prior year, up 55%, predominantly driven by higher rates, \\npartially offset by lower deposit balances\\n⚫Lending revenue of $ 267mm , down 17% YoY, predominantly \\ndriven by mark -to-market losses on hedges of retained loans, \\nlargely offset by higher net interest income on higher loan balances\\n⚫Markets & Securities Services revenue\\n⚫Markets revenue of $ 8.4B, down 4% YoY\\n–Fixed Income Markets revenue of $ 5.7B, flat YoY, reflecting \\nhigher revenue in Rates and Credit and lower revenue in \\nCurrencies & Emerging Markets \\n–Equity Markets revenue of $ 2.7B, down 12% YoY, against a \\nstrong first quarter in the prior year\\n⚫Securities Services revenue of $ 1.1B, up 7% YoY, driven by higher \\nrates, partially offset by lower deposit balances and market levels\\n⚫Expense of $7.5B, up 2% YoY, reflecting higher compensation, \\nincluding headcount growth and wage inflation, largely offset by lower \\nrevenue -related compensation\\n⚫Credit costs of $58mm\\n1See note 1 on slide 10\\n2See note 3 on slide 11\\nFor additional footnotes see slide 12SELECTED INCOME STATEMENT DATA ($MM) FINANCIAL PERFORMANCECCB CIB CB AWM Corp.\\n5', metadata={'source': 'files/JPM_FinancialResult.pdf', 'page': 5}),\n",
       " Document(page_content='$ O/(U)\\n1Q23  4Q22  1Q22  \\nRevenue $3,511 $107 $1,113 \\nMiddle Market Banking 1,681 62 701 \\nCorporate Client Banking 1,176 67 346 \\nCommercial Real Estate Banking 642 (24) 61 \\nOther 12 2 5 \\nExpense 1,308 54 179 \\nCredit costs 417 133 260 \\nNet income $1,347 ($76) $497 Commercial Banking1\\nKEY DRIVERS / STATISTICS ($B)2⚫Net income of $1.3B, up 58% YoY\\n⚫Revenue of $3.5B, up 46% YoY, driven by higher deposit margins, \\npartially offset by lower deposit -related fees\\n⚫Payments revenue of $2.0B, up 98% YoY\\n⚫Gross IB revenue of $881mm, up 21% YoY\\n⚫Expense of $1.3B, up 16% YoY, largely driven by higher \\ncompensation, including headcount growth, as well as higher volume -\\nrelated expense\\n⚫Credit costs of $417mm, reflecting a net reserve build\\n⚫Average loans of $238B, up 13% YoY and up 1% QoQ\\n⚫C&I7up 18% YoY and up 1% QoQ \\n⚫CRE7up 8% YoY and up 1% QoQ\\n⚫Average deposits of $266B, down 16% YoY and 5% QoQ, \\npredominantly driven by continued attrition in non -operating deposits \\nas well as seasonally lower balances\\n1See note 1 on slide 10\\nFor additional footnotes see slide 12FINANCIAL PERFORMANCE\\n1Q23  4Q22  1Q22  \\nEquity $28.5 $25.0 $25.0 \\nROE 18% 22% 13%\\nOverhead ratio 37 37 47 \\nPayments revenue ($mm)3$2,028 $1,989 $1,022 \\nGross IB revenue ($mm)4$881 $700 $729 \\nAverage loans5238.0 235.3 210.7 \\nAverage client deposits 266.0 278.9 316.9 \\nAllowance for loan losses 3.6 3.3 2.4 \\nNonaccrual loans 0.9 0.8 0.8 \\nNet charge-off/(recovery) rate60.06% 0.06% 0.01%\\nALL/loans61.49 1.42 1.11 SELECTED INCOME STATEMENT DATA ($MM)CCB CIB CB AWM Corp.\\n6', metadata={'source': 'files/JPM_FinancialResult.pdf', 'page': 6}),\n",
       " Document(page_content='Asset & Wealth Management1\\nKEY DRIVERS / STATISTICS ($B)2⚫Net income of $1.4B, up 36% YoY \\n⚫Revenue of $4.8B, up 11% YoY, driven by higher deposit margins \\non lower balances and a valuation gain of $339mm on the Firm’s \\ninitial investment in the Asset Management joint venture in China as \\na result of taking 100% ownership, partially offset by the impact of \\nlower average market levels on management fees and lower \\nperformance fees\\n⚫Expense of $3.1B, up 8% YoY, predominantly driven by higher \\ncompensation, including headcount growth, higher revenue -related \\ncompensation and the impact of acquisitions\\n⚫AUM of $3.0T was up 2% YoY and client assets of $4.3T were up \\n6% YoY, driven by continued net inflows\\n⚫For the quarter, AUM had long -term net inflows of $47B and \\nliquidity net inflows of $93B\\n⚫Average loans of $211B, down 1% YoY and down 1% QoQ\\n⚫Average deposits of $224B, down 22% YoY and down 5% QoQ\\n1See note 1 on slide 10\\n2Actual numbers for all periods, not over/(under)SELECTED INCOME STATEMENT DATA ($MM) FINANCIAL PERFORMANCE\\n1Q23  4Q22  1Q22  \\nRevenue $4,784 $196 $469 \\nAsset Management 2,434 276 120 \\nGlobal Private Bank 2,350 (80) 349 \\nExpense 3,091 69 231 \\nCredit costs 28 (4) (126)\\nNet income $1,367 $233 $359 $ O/(U)\\n1Q23  4Q22  1Q22  \\nEquity $16.0 $17.0 $17.0 \\nROE 34% 26% 23%\\nPretax margin 35 33 30 \\nAssets under management (\"AUM\") $3,006 $2,766 $2,960 \\nClient assets 4,347 4,048 4,116 \\nAverage loans 211.5 214.2 214.6 \\nAverage deposits 224.4 237.0 287.8 CCB CIB CB AWM Corp.\\n7', metadata={'source': 'files/JPM_FinancialResult.pdf', 'page': 7}),\n",
       " Document(page_content='Corporate1\\nFINANCIAL PERFORMANCE SELECTED INCOME STATEMENT DATA ($MM)\\n⚫Revenue was $ 985mm, up $1.9B YoY\\n⚫Net interest income was $ 1.7B, compared with a loss of $536mm \\nin the prior year, due to the impact of higher rates\\n⚫Noninterest revenue was a loss of $ 755mm , compared with a loss \\nof $345mm in the prior year, and included net investment \\nsecurities losses of $868mm\\n⚫Expense :Noninterest expense of $ 160mm , down $24mm YoY\\n⚫Credit costs of $370mm, reflecting a net reserve build, driven by \\nsingle name exposures\\n1See note 1 on slide 10\\n1Q23  4Q22  1Q22  \\nRevenue $985 ($198) $1,866 \\nNet interest income 1,740 442 2,276 \\nNoninterest revenue (755) (640) (410)\\nExpense 160 (179) (24)\\nCredit costs 370 384 341 \\nNet income/(loss) $244 ($337) $1,100 $ O/(U)CCB CIB CB AWM Corp.\\n8', metadata={'source': 'files/JPM_FinancialResult.pdf', 'page': 8}),\n",
       " Document(page_content='Expect FY2023 net interest income and net interest income excluding Markets of ~$81B , market dependentOutlook1\\n1See notes 1, 2 and 4 on slide 101\\nExpect FY2023 adjusted expense of ~$81B , market dependent 2\\nExpect FY2023 Card Services NCO rate of ~2.60% 3FIRMWIDE\\n$21B\\n1Q23NII EX. MARKETS SIGNIFICANT SOURCES OF UNCERTAINTY\\n~$80B\\n2Q23 –4Q23 Medium -term~$60B\\n$84B Run-rate:⚫Deposit reprice (magnitude and timing)\\n⚫Consumer behavior and competitive dynamics\\n⚫Hard vs. soft landing\\n⚫Impacts both rates and loan growth\\n⚫Loan growth , including card revolve\\n⚫Securities reinvestment strategy\\n⚫Impact of policy choices \\n⚫Pace of quantitative tightening\\n⚫Path of Fed Funds rate\\n⚫Size and terms of RRP mid-70s ($B)\\n9', metadata={'source': 'files/JPM_FinancialResult.pdf', 'page': 9}),\n",
       " Document(page_content='Notes on non -GAAP financial measures\\n1. In addition to analyzing the Firm’s results on a reported basis, management reviews Firmwide results, including the overhead ratio, on a “managed” basis; these \\nFirmwide managed basis results are non -GAAP financial measures. The Firm also reviews the results of the lines of business on a managed basis. The Firm’s \\ndefinition of managed basis starts, in each case, with the reported U.S. GAAP results and includes certain reclassifications to present total net revenue for the Firm and \\neach of the reportable business segments on a fully taxable -equivalent basis. Accordingly, revenue from investments that receive tax credits and tax -exempt securities \\nis presented in the managed results on a basis comparable to taxable investments and securities. These financial measures all ow management to assess the \\ncomparability of revenue from year -to-year arising from both taxable and tax -exempt sources. The corresponding income tax impact related to tax -exempt items is \\nrecorded within income tax expense. These adjustments have no impact on net income as reported by the Firm as a whole or by t he lines of business. For a \\nreconciliation of the Firm’s results from a reported to managed basis, refer to page 7 of the Earnings Release Financial Supp lement\\n2. In addition to reviewing net interest income (“NII”) and noninterest revenue (“NIR”) on a managed basis, management also revi ewsthese metrics excluding CIB \\nMarkets (“Markets”, which is composed of Fixed Income Markets and Equity Markets). Markets revenue consists of principal tran sactions, fees, commissions and other \\nincome, as well as net interest income. These metrics, which exclude Markets, are non -GAAP financial measures. Management review s these metrics to assess the \\nperformance of the Firm’s lending, investing (including asset -liability management) and deposit -raising activities, apart from a ny volatility associated with Markets \\nactivities. In addition, management also assesses Markets business performance on a total revenue basis as offsets may occur across revenue lines. For example, \\nsecurities that generate net interest income may be risk -managed by derivatives that are reflected at fair value in principal tr ansactions revenue. Management believes \\nthese measures provide investors and analysts with alternative measures to analyze the revenue trends of the Firm. For a reco nciliation of NII and NIR from reported \\nto excluding Markets, refer to page 29 of the Earnings Release Financial Supplement. For additional information on Markets re venue, refer to page 70 of the Firm’s \\n2022 Form 10 -K\\n3. Tangible common equity (“TCE”), return on tangible common equity (“ROTCE”) and tangible book value per share (“TBVPS”), are e achnon-GAAP financial measures. \\nTCE represents the Firm’s common stockholders’ equity (i.e., total stockholders’ equity less preferred stock) less goodwill a nd identifiable intangible assets (other than \\nmortgage servicing rights), net of related deferred tax liabilities. For a reconciliation from common stockholders’ equity to TCE, refer to page 10 of the Earnings \\nRelease Financial Supplement. ROTCE measures the Firm’s net income applicable to common equity as a percentage of average TCE . TBVPS represents the Firm’s \\nTCE at period -end divided by common shares at period -end. Book value per share was $94.34, $90.29 and $86.16 at March 31, 2023, December 31, 2022 and March \\n31, 2022, respectively. TCE, ROTCE and TBVPS are utilized by the Firm, as well as investors and analysts, in assessing the Fi rm’s use of equity\\n4. Adjusted expense and adjusted overhead ratio are each non -GAAP financial measures. Adjusted expense represents noninterest expen se excluding Firmwide legal \\nexpense of $176mm, $27mm and $119mm for the three months ended March 31, 2023, December 31, 2022 and March 31, 2022, respecti vely. The adjusted overhead \\nratio measures the Firm’s adjusted expense as a percentage of managed net revenue. Management believes this information helps investors understand the effect of \\nthese items on reported results and provides an alternate presentation of the Firm’s performance\\n5. Corporate & Investment Bank (“CIB”) calculates the ratio of the allowance for loan losses to end -of-period loans (“ALL/EOP”) exc luding the impact of consolidated \\nFirm-administered multi -seller conduits and trade finance loans, to provide a more meaningful assessment of CIB’s allowance cove rage ratio\\n10', metadata={'source': 'files/JPM_FinancialResult.pdf', 'page': 10}),\n",
       " Document(page_content='Additional notes\\n1. Reflects the Current Expected Credit Losses (\"CECL\") capital transition provisions. Beginning January 1, 2022, the $2.9B CECL capital benefit is being phased out at \\n25% per year over a three -year period. As of March 31, 2023, CET1 capital and Total Loss -Absorbing Capacity reflected the remain ing $1.4B CECL benefit; as of \\nDecember 31, 2022 and March 31, 2022, CET1 capital reflected a $2.2B benefit. Refer to Capital Risk Management on pages 86 -96 of the Firm’s 2022 Form 10 -K for \\nadditional information\\n2. Total excess high -quality liquid assets (“HQLA”) represent the average eligible unencumbered liquid assets that are in excess of what is required to meet the estimated \\nFirm and Bank total net cash outflows over a prospective 30 calendar -day period of significant stress under the LCR rule. HQLA a nd unencumbered marketable \\nsecurities, includes the Firm’s average eligible HQLA, other end -of-period HQLA -eligible securities which are included as part o f the excess liquidity at the Bank that \\nare not transferable to non -bank affiliates and thus excluded from the Firm’s LCR under the LCR rule, and other end -of-period un encumbered marketable securities, \\nsuch as equity and debt securities. Does not include borrowing capacity at Federal Home Loan Banks and the discount window at the Federal Reserve Bank. Refer to \\nLiquidity Risk Management on pages 97 -104 of the Firm’s 2022 Form 10 -K for additional information\\n3. In the first quarter of 2023, the allocations of revenue and expense to CCB associated with a Merchant Services revenue shari ng agreement were discontinued and are \\nnow retained in Payments in CIB. Prior -period amounts have been revised to conform with the current presentation\\n11', metadata={'source': 'files/JPM_FinancialResult.pdf', 'page': 11}),\n",
       " Document(page_content='Additional notes on slides 4 -6\\nSlide 4 –Consumer & Community Banking\\n3. Actual numbers for all periods, not over/(under)\\n4. Users of all mobile platforms who have logged in within the past 90 days\\n5. Excludes Commercial Card\\n6. Includes the impact of loans originated under the PPP. For further information, refer to page 13 of the Earnings Release Fina ncial Supplement\\n7. Firmwide mortgage origination volume was $6.8B, $8.5B and $30.2B for the three months ended March 31, 2023, December 31, 2022 and March 31, 2022, \\nrespectively\\nSlide 5 –Corporate & Investment Bank\\n3. Actual numbers for all periods, not over/(under)\\n4. Client deposits and other third -party liabilities pertain to the Payments and Securities Services businesses \\n5. Represents total merchant processing volume across CIB, CCB and CB\\n6. Loans held -for-sale and loans at fair value were excluded when calculating the loan loss coverage ratio and net charge -off/(reco very) rate. ALL/EOP loans as reported \\nwas 1.31%, 1.22%, and 1.01% at March 31, 2023, December 31, 2022 and March 31, 2022, respectively. See note 5 on slide 10\\nSlide 6 –Commercial Banking\\n2. Actual numbers for all periods, not over/(under)\\n3. In the fourth quarter of 2022, certain revenue from CIB Markets products was reclassified from investment banking to payments . Prior-period amounts have been \\nrevised to conform with the current presentation\\n4. Includes gross revenues earned by the Firm, that are subject to a revenue sharing arrangement with the CIB, for products sold toCB clients through the Investment \\nBanking, Markets or Payments businesses. This includes revenues related to fixed income and equity markets products. Refer to page 61 of the Firm’s 2022 Form 10 -\\nK for discussion of revenue sharing\\n5. Includes the impact of loans originated under the PPP. For further information, refer to page 20 of the Earnings Release Fina ncial Supplement\\n6. Loans held -for-sale and loans at fair value were excluded when calculating the net charge -off/(recovery) rate and loan loss cove rage ratio \\n7. Commercial and Industrial (“C&I”) and Commercial Real Estate (“CRE”) groupings for CB are generally based on client segments anddo not align with regulatory \\ndefinitions\\n12', metadata={'source': 'files/JPM_FinancialResult.pdf', 'page': 12}),\n",
       " Document(page_content='Forward -looking statements\\nThis presentation contains forward -looking statements within the meaning of the Private Securities Litigation \\nReform Act of 1995. These statements are based on the current beliefs and expectations of JPMorgan Chase & \\nCo.’s management and are subject to significant risks and uncertainties. Actual results may differ from those set \\nforth in the forward -looking statements. Factors that could cause JPMorgan Chase & Co.’s actual results to differ \\nmaterially from those described in the forward -looking statements can be found in JPMorgan Chase & Co.’s \\nAnnual Report on Form 10 -K for the year ended December 31, 2022, which has been filed with the Securities and \\nExchange Commission and is available on JPMorgan Chase & Co.’s website (https://jpmorganchaseco.gcs -\\nweb.com/financial -information/sec -filings), and on the Securities and Exchange Commission’s website \\n(www.sec.gov). JPMorgan Chase & Co. does not undertake to update any forward -looking statements.\\n13', metadata={'source': 'files/JPM_FinancialResult.pdf', 'page': 13})]"
      ]
     },
     "execution_count": 75,
     "metadata": {},
     "output_type": "execute_result"
    }
   ],
   "source": [
    "documents = pdf_loader(path=\"files//\",loader=\"pypdf\") #todo try a different file loader one page per document?\n",
    "documents #one document per page"
   ]
  },
  {
   "cell_type": "code",
   "execution_count": 76,
   "metadata": {},
   "outputs": [
    {
     "name": "stdout",
     "output_type": "stream",
     "text": [
      "39\n"
     ]
    },
    {
     "data": {
      "text/plain": [
       "[Document(page_content='JPMORGAN CHASE BANK, NATIONAL ASSOCIATION (a wholly-owned subsidiary of JPMorgan Chase & Co.)            CONSOLIDATED FINANCIAL STATEMENTS For the three years ended December 31, 2022', metadata={'source': 'files/JPMorgan_Chase_Bank_Annual_Consolidated_Financial_Statements_onlybalancesheet.pdf', 'page': 0}),\n",
       " Document(page_content='JPMorgan Chase Bank, National Association/2022 Consolidated Financial Statements 2', metadata={'source': 'files/JPMorgan_Chase_Bank_Annual_Consolidated_Financial_Statements_onlybalancesheet.pdf', 'page': 1}),\n",
       " Document(page_content='JPMorgan Chase Bank, National Association/2022 Consolidated Financial Statements 3  Consolidated statements of income  JPMorgan Chase Bank, National Association (a wholly-owned subsidiary of JPMorgan Chase & Co.) Year ended December 31, (in millions) 2022 2021 2020 Revenue    Investment banking fees $ 2,955 $ 5,232 $ 3,527 Principal transactions 17,895 13,677 14,784 Lending- and deposit-related fees 7,095 7,031 6,510 Asset management, administration and commissions 13,935 14,021 12,406 Investment securities gains/(losses) (2,380) (345) 802 Mortgage fees and related income 1,250 2,170 3,092 Card income 4,421 5,102 4,435 Other income 5,384 5,511 5,931 Noninterest revenue 50,555 52,399 51,487 Interest income 84,097 53,870 58,900 Interest expense 15,675 2,064 4,987 Net interest income 68,422 51,806 53,913 Total net revenue 118,977 104,205 105,400 Provision for credit losses 6,347 (9,296) 17,483 Noninterest expense    Compensation expense 34,000 31,212 28,725 Occupancy expense 4,469 4,313 4,249 Technology, communications and equipment expense 8,646 9,304 9,890 Professional and outside services 6,983 6,510 5,692 Marketing 3,877 2,936 2,338 Other expense 10,761 10,170 9,821 Total noninterest expense', metadata={'source': 'files/JPMorgan_Chase_Bank_Annual_Consolidated_Financial_Statements_onlybalancesheet.pdf', 'page': 2}),\n",
       " Document(page_content='services 6,983 6,510 5,692 Marketing 3,877 2,936 2,338 Other expense 10,761 10,170 9,821 Total noninterest expense 68,736 64,445 60,715 Income before income tax expense 43,894 49,056 27,202 Income tax expense 9,552 11,001 6,170 Net income $ 34,342 $ 38,055 $ 21,032   The Notes to Consolidated Financial Statements are an integral part of these statements.', metadata={'source': 'files/JPMorgan_Chase_Bank_Annual_Consolidated_Financial_Statements_onlybalancesheet.pdf', 'page': 2}),\n",
       " Document(page_content='4 JPMorgan Chase Bank, National Association/2022 Consolidated Financial Statements  Consolidated statements of comprehensive income  JPMorgan Chase Bank, National Association (a wholly-owned subsidiary of JPMorgan Chase & Co.) Year ended December 31, (in millions) 2022 2021 2020 Net income $ 34,342 $ 38,055 $ 21,032 Other comprehensive income/(loss), after–tax    Unrealized gains/(losses) on investment securities (11,751) (5,516) 4,146 Translation adjustments, net of hedges (555) (442) 242 Cash flow hedges (5,359) (2,679) 2,322 Defined benefit pension and OPEB plans (742) 688 (3) DVA on fair value option elected liabilities 265 (291) (45) Total other comprehensive income/(loss), after–tax (18,142) (8,240) 6,662 Comprehensive income $ 16,200 $ 29,815 $ 27,694   The Notes to Consolidated Financial Statements are an integral part of these statements.', metadata={'source': 'files/JPMorgan_Chase_Bank_Annual_Consolidated_Financial_Statements_onlybalancesheet.pdf', 'page': 3}),\n",
       " Document(page_content='JPMorgan Chase Bank, National Association/2022 Consolidated Financial Statements 5  Consolidated balance sheets  JPMorgan Chase Bank, National Association (a wholly-owned subsidiary of JPMorgan Chase & Co.) December 31, (in millions, except share data) 2022 2021 Assets   Cash and due from banks $ 27,258 $ 25,657 Deposits with banks 538,715 713,660 Federal funds sold and securities purchased under resale agreements (included $193,945 and $176,980 at fair value) 259,460 227,457 Securities borrowed (included $22,454 and $32,112 at fair value) 53,642 65,111 Trading assets (included assets pledged of $39,458 and $49,335(a)) 288,420 293,428 Available-for-sale securities (amortized cost of $216,103 and $308,039, included assets pledged of $15,274 and $31,124(a))  205,790  308,318 Held-to-maturity securities 425,305 363,707 Investment securities, net of allowance for credit losses 631,095 672,025 Loans (included $41,795 and $58,471 at fair value) 1,132,985 1,075,106 Allowance for loan losses (19,714) (16,378) Loans, net of allowance for loan losses 1,113,271 1,058,728 Accrued interest and accounts receivable 89,373 76,345 Premises and equipment 26,347 25,757 Goodwill, MSRs and other intangible', metadata={'source': 'files/JPMorgan_Chase_Bank_Annual_Consolidated_Financial_Statements_onlybalancesheet.pdf', 'page': 4}),\n",
       " Document(page_content='Accrued interest and accounts receivable 89,373 76,345 Premises and equipment 26,347 25,757 Goodwill, MSRs and other intangible assets 48,600 45,831 Other assets (included $12,667 and $11,016 at fair value and assets pledged of $2,505 and $1,750) 125,761 102,983 Total assets(b) $  3,201,942 $  3,306,982 Liabilities   Deposits (included $28,742 and $11,479 at fair value) $  2,440,722 $  2,549,631 Federal funds purchased and securities loaned or sold under repurchase agreements (included $75,327 and $81,545 at   fair value) 85,902 102,266 Short-term borrowings (included $7,796 and $11,619 at fair value) 10,074 13,423 Trading liabilities 116,629 111,017 Accounts payable and other liabilities (included $7,760 and $7,366 at fair value) 156,433 133,034 Beneficial interests issued by consolidated variable interest entities 13,424 10,721 Long-term debt (included $27,145 and $35,633 at fair value) 75,138 84,042 Total liabilities(b) 2,898,322 3,004,134 Commitments and contingencies (refer to Notes 26, 27 and 28)   Stockholder’s equity   Preferred stock ($1 par value; authorized 15,000,000 shares: issued 0 shares) — — Common stock ($12 par value; authorized 200,000,000', metadata={'source': 'files/JPMorgan_Chase_Bank_Annual_Consolidated_Financial_Statements_onlybalancesheet.pdf', 'page': 4}),\n",
       " Document(page_content='stock ($1 par value; authorized 15,000,000 shares: issued 0 shares) — — Common stock ($12 par value; authorized 200,000,000 shares; issued 168,971,750 shares) 2,028 2,028 Additional paid-in capital 118,293 118,221 Retained earnings 201,263 182,421 Accumulated other comprehensive income/(loss) (17,964) 178 Total stockholder’s equity 303,620 302,848 Total liabilities and stockholder’s equity $  3,201,942 $  3,306,982 (a) Prior-period amounts have been revised to conform with the current presentation. (b) The following table presents information on assets and liabilities related to variable interest entities (“VIEs”) that are consolidated by the Bank at December 31, 2022 and 2021. The assets of the consolidated VIEs are used to settle the liabilities of those entities. The holders of the beneficial interests generally do not have recourse to the general credit of the Bank. The assets and liabilities in the table below include third-party assets and liabilities of consolidated VIEs (including balances with related parties) and exclude intercompany balances that eliminate in consolidation. Refer to Note 15 for a further discussion.  December 31, (in millions) 2022 2021 Assets Trading assets  $ 2,089  $ 1,990 Loans 34,394 33,001 All other assets 290 207 Total assets $ 36,773', metadata={'source': 'files/JPMorgan_Chase_Bank_Annual_Consolidated_Financial_Statements_onlybalancesheet.pdf', 'page': 4}),\n",
       " Document(page_content='Assets Trading assets  $ 2,089  $ 1,990 Loans 34,394 33,001 All other assets 290 207 Total assets $ 36,773 $ 35,198 Liabilities Beneficial interests issued by consolidated VIEs  $ 13,424  $ 10,721 All other liabilities 132 144 Total liabilities $ 13,556 $ 10,865   The Notes to Consolidated Financial Statements are an integral part of these statements.', metadata={'source': 'files/JPMorgan_Chase_Bank_Annual_Consolidated_Financial_Statements_onlybalancesheet.pdf', 'page': 4}),\n",
       " Document(page_content='6 JPMorgan Chase Bank, National Association/2022 Consolidated Financial Statements  Consolidated statements of changes in stockholder’s equity JPMorgan Chase Bank, National Association (a wholly-owned subsidiary of JPMorgan Chase & Co.)  Year ended December 31, (in millions) 2022 2021 2020 Common stock Balance at January 1 and December 31  $ 2,028  $ 2,028  $ 2,028 Additional paid-in capital Balance at January 1  118,221  115,248  110,297 Cash capital contribution from JPMorgan Chase & Co. — 3,000 5,000 Other 72 (27) (49) Balance at December 31 118,293 118,221 115,248 Retained earnings Balance at January 1  182,421  144,366  132,016 Cumulative effect of change in accounting principles — — (2,682) Net income 34,342 38,055 21,032 Cash dividends paid to JPMorgan Chase & Co. (15,500) — (6,000) Balance at December 31 201,263 182,421 144,366 Accumulated other comprehensive income/(loss) Balance at January 1  178  8,418  1,756 Other comprehensive income/(loss), after-tax (18,142) (8,240) 6,662 Balance at December 31 (17,964) 178 8,418 Total stockholder’s equity $ 303,620 $ 302,848 $ 270,060 Effective January 1, 2020, the Bank adopted the CECL accounting guidance.', metadata={'source': 'files/JPMorgan_Chase_Bank_Annual_Consolidated_Financial_Statements_onlybalancesheet.pdf', 'page': 5}),\n",
       " Document(page_content='equity $ 303,620 $ 302,848 $ 270,060 Effective January 1, 2020, the Bank adopted the CECL accounting guidance. Refer to Note 1 for further information.   The Notes to Consolidated Financial Statements are an integral part of these statements.', metadata={'source': 'files/JPMorgan_Chase_Bank_Annual_Consolidated_Financial_Statements_onlybalancesheet.pdf', 'page': 5}),\n",
       " Document(page_content='JPMorgan Chase Bank, National Association/2022 Consolidated Financial Statements 7  Consolidated statements of cash flows  JPMorgan Chase Bank, National Association (a wholly-owned subsidiary of JPMorgan Chase & Co.) Year ended December 31, (in millions) 2022 2021 2020 Operating activities    Net income $  34,342 $  38,055 $  21,032 Adjustments to reconcile net income to net cash provided by/(used in) operating activities:    Provision for credit losses 6,347 (9,296) 17,483 Depreciation and amortization 6,590 7,535 8,355 Deferred tax (benefit)/expense (3,542) 2,147 (3,819) Other 2,380 345 (802) Originations and purchases of loans held-for-sale (149,091) (347,864) (166,499) Proceeds from sales, securitizations and paydowns of loans held-for-sale 167,713 336,404 175,426 Net change in:    Trading assets 14,114 25,806 (102,464) Securities borrowed 10,973 (20,978) (5,427) Accrued interest and accounts receivable (13,088) (4,722) (17,569) Other assets (29,954) 21,442 (26,435) Trading liabilities 7,404 (38,612) 62,987 Accounts payable and other liabilities 46,646 12,529 1,455 Other operating adjustments 8 284 1,163 Net cash provided by/(used in) operating activities 100,842', metadata={'source': 'files/JPMorgan_Chase_Bank_Annual_Consolidated_Financial_Statements_onlybalancesheet.pdf', 'page': 6}),\n",
       " Document(page_content='46,646 12,529 1,455 Other operating adjustments 8 284 1,163 Net cash provided by/(used in) operating activities 100,842 23,075 (35,114) Investing activities    Net change in:    Federal funds sold and securities purchased under resale agreements (32,211) 116,694 (132,774) Held-to-maturity securities:    Proceeds from paydowns and maturities 48,626 50,897 21,360 Purchases (33,676) (111,756) (12,400) Available-for-sale securities:    Proceeds from paydowns and maturities 39,048 49,505 57,518 Proceeds from sales 84,616 162,642 149,758 Purchases (126,258) (248,784) (397,095) Proceeds from sales and securitizations of loans held-for-investment 44,910 35,843 23,561 Other changes in loans, net (128,952) (91,019) (50,292) All other investing activities, net (8,017) (3,849) (2,609) Net cash (used in) investing activities (111,914) (39,827) (342,973) Financing activities    Net change in:    Deposits (111,772) 274,351 622,154 Federal funds purchased and securities loaned or sold under repurchase agreements (15,795) (33,459) 49,262 Short-term borrowings (2,122) 1,886 1,815 Beneficial interests issued by consolidated VIEs 3,042 (4,255)', metadata={'source': 'files/JPMorgan_Chase_Bank_Annual_Consolidated_Financial_Statements_onlybalancesheet.pdf', 'page': 6}),\n",
       " Document(page_content='49,262 Short-term borrowings (2,122) 1,886 1,815 Beneficial interests issued by consolidated VIEs 3,042 (4,255) 1,329 Proceeds from long-term borrowings 16,363 29,783 38,373 Payments of long-term borrowings (20,459) (29,389) (80,062) Cash capital contribution from JPMorgan Chase & Co. — 3,000 5,000 Dividends paid to JPMorgan Chase & Co. (15,500) — (6,000) All other financing activities, net 576 (148) 765 Net cash provided by/(used in) financing activities (145,667) 241,769 632,636 Effect of exchange rate changes on cash and due from banks and deposits with banks (16,605) (11,469) 9,103 Net increase/(decrease) in cash and due from banks and deposits with banks (173,344) 213,548 263,652 Cash and due from banks and deposits with banks at the beginning of the period 739,317 525,769 262,117 Cash and due from banks and deposits with banks at the end of the period $ 565,973 $ 739,317 $ 525,769 Cash interest paid $  13,717 $ 1,822 $ 5,616 Cash income taxes paid, net(a) 9,586 16,496 9,848 (a) Includes $12.5 billion, $13.3 billion and $7.4 billion paid to JPMorgan Chase & Co. in', metadata={'source': 'files/JPMorgan_Chase_Bank_Annual_Consolidated_Financial_Statements_onlybalancesheet.pdf', 'page': 6}),\n",
       " Document(page_content='(a) Includes $12.5 billion, $13.3 billion and $7.4 billion paid to JPMorgan Chase & Co. in 2022, 2021 and 2020, respectively. Refer to Note 23 for discussion of income taxes.   The Notes to Consolidated Financial Statements are an integral part of these statements.', metadata={'source': 'files/JPMorgan_Chase_Bank_Annual_Consolidated_Financial_Statements_onlybalancesheet.pdf', 'page': 6}),\n",
       " Document(page_content='134 JPMorgan Chase Bank, National Association/2022 Consolidated Financial Statements', metadata={'source': 'files/JPMorgan_Chase_Bank_Annual_Consolidated_Financial_Statements_onlybalancesheet.pdf', 'page': 7}),\n",
       " Document(page_content='1Q23 Financial Results\\nApril 14, 2023', metadata={'source': 'files/JPM_FinancialResult.pdf', 'page': 0}),\n",
       " Document(page_content='1Q23 Financial highlights\\n1See note 3 on slide 10\\n2Represents the estimated Basel III common equity Tier 1 (“CET1”) capital and ratio and Total Loss -Absorbing Capacity for the cu rrent period. See note 1 on slide 11\\n3Standardized risk -weighted assets (“RWA”). Estimated for the current period. See note 1 on slide 11\\n4Cash and marketable securities represents HQLA and unencumbered marketable securities. Estimated for the current period. See note 2 on slide 11\\n5See note 1 on slide 10\\n6Includes the net impact of employee issuances\\n7 Last twelve months (“LTM”). Net of stock issued to employeesSIGNIFICANT ITEMS ($MM, EXCLUDING EPS)\\n Pretax  Net income EPS\\nNet investment securities losses in Corporate ($868) ($660) ($0.22)Balance sheet⚫Loans: average loans of $1.1T up 6% YoY and flat QoQ\\n⚫Deposits: average deposits of $2.3T down 8% YoY and down 3% QoQ\\n⚫CET1 capital of $227B2\\n–Standardized CET1 capital ratio of 13.8%2; Advanced CET1 capital ratio of 13.9%2\\nCapital distributed⚫Common dividend of $3.0B or $1.00 per share\\n⚫$1.9B of common stock net repurchases6\\n⚫Net payout LTM of 33%7Income statement⚫1Q23 net income of $12.6B and EPS of $4.10\\n⚫Managed revenue of $39.3B5\\n–Included net investment securities losses of $868mm\\n⚫Expense of $20.1B and managed overhead ratio of 51%5ROTCE1\\n23%CET1 capital ratios2\\nStd. 13.8% | Adv. 13.9%\\nTotal Loss -Absorbing Capacity2$488BStd. RWA3$1.7T\\nCash and marketable securities4$1.4T\\nAverage loans  $1.1T\\n1', metadata={'source': 'files/JPM_FinancialResult.pdf', 'page': 1}),\n",
       " Document(page_content='1Q23  4Q22  1Q22  \\nNet interest income $20.8 $0.5 $6.9 \\nNoninterest revenue 18.5 3.3 0.9 \\nManaged revenue139.3 3.8 7.7 \\nExpense 20.1 1.1 0.9 \\nCredit costs 2.3 (0.0) 0.8 \\nNet income $12.6 $1.6 $4.3 \\nNet income applicable to common stockholders $12.2 $1.6 $4.3 \\nEPS – diluted $4.10 $0.53 $1.47 \\nROE218% 16% 13%\\nROTCE2,323 20 16 \\nOverhead ratio – managed1,251 53 61 \\nMemo:\\nNII excluding Markets4$20.9 $0.9 $9.2 \\nNIR excluding Markets410.0 0.1 (1.1) \\nMarkets revenue 8.4 2.7 (0.4) \\nManaged revenue139.3 3.8 7.7 \\nAdjusted expense5$19.9 $0.9 $0.9 \\nAdjusted overhead ratio1,2,551% 53% 60%$ O/(U)\\n1Q23 ROE  O/H ratio  \\nCCB 40% 49%\\nCIB 16% 55%\\nCB 18% 37%\\nAWM 34% 65%1Q23 Financial results1\\n1Q23 Tax rate\\nEffective rate: 20.9%\\nManaged rate: 25.6%1,6\\nNote: Totals may not sum due to rounding\\n1See note 1 on slide 10\\n2 Actual numbers for all periods, not over/(under)\\n3See note 3 on slide 10\\n4See note 2 on slide 10\\n5See note 4 on slide 10\\n6Reflects fully taxable -equivalent (“FTE”) adjustments of $987mm in 1Q23\\n$B 1Q23  4Q22  1Q22  \\nNet charge-offs $1.1 $0.9 $0.6', metadata={'source': 'files/JPM_FinancialResult.pdf', 'page': 2}),\n",
       " Document(page_content='$B 1Q23  4Q22  1Q22  \\nNet charge-offs $1.1 $0.9 $0.6 \\nReserve build/(release) 1.1 1.4 0.9 \\nCredit costs $2.3 $2.3 $1.5 $B, EXCEPT PER SHARE DATA\\n2', metadata={'source': 'files/JPM_FinancialResult.pdf', 'page': 2}),\n",
       " Document(page_content='1Q23   4Q22   1Q22  \\nRisk-based capital metrics1\\nCET1 capital $227 $219 $208 \\nCET1 capital ratio – Standardized 13.8% 13.2% 11.9%\\nCET1 capital ratio – Advanced 13.9 13.6 12.7 \\nBasel III Standardized RWA $1,650 $1,654 $1,751\\nLeverage-based capital metric2\\nFirm SLR 5.9% 5.6% 5.2%\\nLiquidity metrics3\\nFirm LCR 114% 112% 110%\\nBank LCR 140 151 181 \\nTotal excess HQLA $368 $437 $625 \\nHQLA and unencumbered marketable securities 1,431 1,427 1,662 \\nBalance sheet metrics\\nTotal assets (EOP) $3,744 $3,666 $3,955 \\nDeposits (average) 2,320 2,380 2,516 \\nTangible book value per share476.69 73.12 69.58 Fortress balance sheet\\nNote: Totals may not sum due to rounding\\n1Estimated for the current period. See note 1 on slide 11\\n2Estimated for the current period. Represents the supplementary leverage ratio (“SLR”)\\n3Estimated for the current period. Liquidity Coverage Ratio (“LCR”) represents the average LCR for the Firm and JPMorgan Chase Bank, N.A. (“Bank”). See note 2 on slide 11\\n4See note 3 on slide 10\\n5Reflects Net Income Applicable to Common Equity\\n6Excludes AOCI on cash flow hedges and DVA related to structured notes\\n7Includes net share repurchases and common dividends\\n8Primarily CET1 capital deductions, including the impact of CECL . See note 1 on slide 11$B, EXCEPT PER SHARE DATA STANDARDIZED CET1 RATIO (%)1\\nSTANDARDIZED RISK -WEIGHTED ASSETS ($B)1\\n4Q22 Loans Credit Risk \\nex. LoansMarket Risk 1Q23\\n(4)1,6541,650\\n(6)6AOCI Other6 84Q22 RWA 1Q23 Capital\\nDistributions7Net \\nincome5', metadata={'source': 'files/JPM_FinancialResult.pdf', 'page': 3}),\n",
       " Document(page_content='ex. LoansMarket Risk 1Q23\\n(4)1,6541,650\\n(6)6AOCI Other6 84Q22 RWA 1Q23 Capital\\nDistributions7Net \\nincome5\\n13.8%\\n13.2%\\nNet share \\nrepurchases: (12 bps)74 bps14 bps\\n(29 bps)3 bps\\n(9 bps)\\n3', metadata={'source': 'files/JPM_FinancialResult.pdf', 'page': 3}),\n",
       " Document(page_content='Consumer & Community Banking1\\nKEY DRIVERS / STATISTICS ($B) –DETAIL BY BUSINESSFINANCIAL PERFORMANCE SELECTED INCOME STATEMENT DATA ($MM)\\nKEY DRIVERS / STATISTICS ($B)3⚫Net income of $5.2B, up 80% YoY\\n⚫Revenue of $16.5B, up 35% YoY, driven by higher net interest income\\n⚫Expense of $8.1B, up 5% YoY, largely driven by higher compensation, \\nincluding wage inflation and headcount growth, as well as investments \\nin the business, largely offset by lower auto lease depreciation\\n⚫Credit costs of $1.4B\\n⚫NCOs of $1.1B, up $499mm YoY, predominantly driven by Card \\nServices\\n⚫Reserve build of $300mm in Card Services and $50mm in Home \\nLending\\n1See note 1 on slide 10\\n2See note 3 on slide 11\\nFor additional footnotes see slide 12CCB CIB CB AWM Corp.\\n$ O/(U)\\n1Q23  4Q22  1Q22  \\nRevenue $16,456 $663 $4,274 \\nBanking & Wealth Management210,041 459 4,026 \\nHome Lending 720 136 (449)  \\nCard Services & Auto 5,695 68 697 \\nExpense28,065 153 410 \\nCredit costs 1,402 (443)  724 \\nNet charge-offs (NCOs) 1,052 207 499 \\nChange in allowance 350 (650)  225 \\nNet income $5,243 $687 $2,335 \\n1Q23  4Q22  1Q22  \\nBanking & Wealth Management\\nBusiness Banking average loans6$19.9 $20.5 $24.8 \\nBusiness Banking loan originations 1.0 1.1 1.0 \\nClient investment assets (EOP) 690.8 647.1 696.3 \\nDeposit margin 2.78% 2.48% 1.22%\\nHome Lending\\nAverage loans $172.1 $174.5 $176.5', metadata={'source': 'files/JPM_FinancialResult.pdf', 'page': 4}),\n",
       " Document(page_content='Deposit margin 2.78% 2.48% 1.22%\\nHome Lending\\nAverage loans $172.1 $174.5 $176.5 \\nLoan originations75.7 6.7 24.7 \\nThird-party mortgage loans serviced (EOP) 575.9 584.3 575.4 \\nNet charge-off/(recovery) rate (0.04)% (0.08)% (0.17)%\\nCard Services & Auto\\nCard Services average loans $180.5 $177.0 $149.4 \\nAuto average loans and leased assets 80.3 80.0 85.7 \\nAuto loan and lease originations 9.2 7.5 8.4 \\nCard Services net charge-off rate 2.07% 1.62% 1.37%\\nCard Services net revenue rate 10.38 10.06 9.87\\nCard Services sales volume5$266.2 $284.8 $236.4 \\n1Q23  4Q22  1Q22  \\nEquity $52.0 $50.0 $50.0 \\nROE 40% 35% 23%\\nOverhead ratio 49 50 63 \\nAverage loans $449.8 $448.5 $428.9 \\nAverage deposits 1,113.0 1,142.5 1,153.5 \\nActive mobile customers (mm)450.9 49.7 46.5 \\nDebit & credit card sales volume5$387.3 $411.1 $351.5 \\n⚫Average loans up 5% YoY and flat QoQ\\n⚫Average deposits down 4% YoY and 3% QoQ\\n⚫EOP deposits down 4% YoY and up 1% QoQ\\n⚫Active mobile customers up 9% YoY\\n⚫Debit & credit card sales volume up 10% YoY\\n⚫Client investment assets down 1% YoY and up 7% QoQ\\n4', metadata={'source': 'files/JPM_FinancialResult.pdf', 'page': 4}),\n",
       " Document(page_content='1Q23  4Q22  1Q22  \\nEquity $108.0 $103.0 $103.0 \\nROE216% 12% 16%\\nOverhead ratio 55 61 54 \\nComp/revenue 30 29 30 \\nIB fees ($mm) $1,654 $1,467 $2,050 \\nAverage loans 228.1 225.8 212.4 \\nAverage client deposits4633.7 649.7 709.1 \\nMerchant processing volume5558.8 583.2 490.2 \\nAssets under custody ($T) 29.7 28.6 31.6 \\nALL/EOP loans ex-conduits and trade61.81% 1.67% 1.31%\\nNet charge-off/(recovery) rate60.11 0.02 0.05 \\nAverage VaR ($mm) $45 $60 $64 \\n$ O/(U)\\n1Q23  4Q22  1Q22  \\nRevenue $13,600 $3,002 $24 \\nInvestment Banking revenue 1,560 171 (497)  \\nPayments22,396 276 495 \\nLending 267 (56)  (54)  \\nTotal Banking 4,223 391 (56)\\nFixed Income Markets 5,699 1,960 1 \\nEquity Markets 2,683 752 (372)  \\nSecurities Services 1,148 (11)  80 \\nCredit Adjustments & Other (153)  (90)  371 \\nTotal Markets & Securities Services 9,377 2,611 80 \\nExpense27,483 988 120 \\nCredit costs 58 (83)  (387)  \\nNet income $4,421 $1,107 $49 Corporate & Investment Bank1\\nKEY DRIVERS / STATISTICS ($B)3⚫Net income of $4.4B, up 1% YoY; revenue of $13.6B, flat YoY\\n⚫Banking revenue\\n⚫IB revenue of $ 1.6B, down 24% YoY\\n–IB fees down 19% YoY, predominantly driven by lower debt \\nunderwriting fees', metadata={'source': 'files/JPM_FinancialResult.pdf', 'page': 5}),\n",
       " Document(page_content='⚫Banking revenue\\n⚫IB revenue of $ 1.6B, down 24% YoY\\n–IB fees down 19% YoY, predominantly driven by lower debt \\nunderwriting fees \\n⚫Payments revenue of $2.4B, up 26% YoY\\n–Excluding the net impact of equity investments, primarily a gain \\nin the prior year, up 55%, predominantly driven by higher rates, \\npartially offset by lower deposit balances\\n⚫Lending revenue of $ 267mm , down 17% YoY, predominantly \\ndriven by mark -to-market losses on hedges of retained loans, \\nlargely offset by higher net interest income on higher loan balances\\n⚫Markets & Securities Services revenue\\n⚫Markets revenue of $ 8.4B, down 4% YoY\\n–Fixed Income Markets revenue of $ 5.7B, flat YoY, reflecting \\nhigher revenue in Rates and Credit and lower revenue in \\nCurrencies & Emerging Markets \\n–Equity Markets revenue of $ 2.7B, down 12% YoY, against a \\nstrong first quarter in the prior year\\n⚫Securities Services revenue of $ 1.1B, up 7% YoY, driven by higher \\nrates, partially offset by lower deposit balances and market levels\\n⚫Expense of $7.5B, up 2% YoY, reflecting higher compensation, \\nincluding headcount growth and wage inflation, largely offset by lower \\nrevenue -related compensation\\n⚫Credit costs of $58mm\\n1See note 1 on slide 10\\n2See note 3 on slide 11\\nFor additional footnotes see slide 12SELECTED INCOME STATEMENT DATA ($MM) FINANCIAL PERFORMANCECCB CIB CB AWM Corp.\\n5', metadata={'source': 'files/JPM_FinancialResult.pdf', 'page': 5}),\n",
       " Document(page_content='$ O/(U)\\n1Q23  4Q22  1Q22  \\nRevenue $3,511 $107 $1,113 \\nMiddle Market Banking 1,681 62 701 \\nCorporate Client Banking 1,176 67 346 \\nCommercial Real Estate Banking 642 (24) 61 \\nOther 12 2 5 \\nExpense 1,308 54 179 \\nCredit costs 417 133 260 \\nNet income $1,347 ($76) $497 Commercial Banking1\\nKEY DRIVERS / STATISTICS ($B)2⚫Net income of $1.3B, up 58% YoY\\n⚫Revenue of $3.5B, up 46% YoY, driven by higher deposit margins, \\npartially offset by lower deposit -related fees\\n⚫Payments revenue of $2.0B, up 98% YoY\\n⚫Gross IB revenue of $881mm, up 21% YoY\\n⚫Expense of $1.3B, up 16% YoY, largely driven by higher \\ncompensation, including headcount growth, as well as higher volume -\\nrelated expense\\n⚫Credit costs of $417mm, reflecting a net reserve build\\n⚫Average loans of $238B, up 13% YoY and up 1% QoQ\\n⚫C&I7up 18% YoY and up 1% QoQ \\n⚫CRE7up 8% YoY and up 1% QoQ\\n⚫Average deposits of $266B, down 16% YoY and 5% QoQ, \\npredominantly driven by continued attrition in non -operating deposits \\nas well as seasonally lower balances\\n1See note 1 on slide 10\\nFor additional footnotes see slide 12FINANCIAL PERFORMANCE\\n1Q23  4Q22  1Q22  \\nEquity $28.5 $25.0 $25.0 \\nROE 18% 22% 13%\\nOverhead ratio 37 37 47 \\nPayments revenue ($mm)3$2,028 $1,989 $1,022 \\nGross IB revenue ($mm)4$881 $700 $729', metadata={'source': 'files/JPM_FinancialResult.pdf', 'page': 6}),\n",
       " Document(page_content='Overhead ratio 37 37 47 \\nPayments revenue ($mm)3$2,028 $1,989 $1,022 \\nGross IB revenue ($mm)4$881 $700 $729 \\nAverage loans5238.0 235.3 210.7 \\nAverage client deposits 266.0 278.9 316.9 \\nAllowance for loan losses 3.6 3.3 2.4 \\nNonaccrual loans 0.9 0.8 0.8 \\nNet charge-off/(recovery) rate60.06% 0.06% 0.01%\\nALL/loans61.49 1.42 1.11 SELECTED INCOME STATEMENT DATA ($MM)CCB CIB CB AWM Corp.\\n6', metadata={'source': 'files/JPM_FinancialResult.pdf', 'page': 6}),\n",
       " Document(page_content='Asset & Wealth Management1\\nKEY DRIVERS / STATISTICS ($B)2⚫Net income of $1.4B, up 36% YoY \\n⚫Revenue of $4.8B, up 11% YoY, driven by higher deposit margins \\non lower balances and a valuation gain of $339mm on the Firm’s \\ninitial investment in the Asset Management joint venture in China as \\na result of taking 100% ownership, partially offset by the impact of \\nlower average market levels on management fees and lower \\nperformance fees\\n⚫Expense of $3.1B, up 8% YoY, predominantly driven by higher \\ncompensation, including headcount growth, higher revenue -related \\ncompensation and the impact of acquisitions\\n⚫AUM of $3.0T was up 2% YoY and client assets of $4.3T were up \\n6% YoY, driven by continued net inflows\\n⚫For the quarter, AUM had long -term net inflows of $47B and \\nliquidity net inflows of $93B\\n⚫Average loans of $211B, down 1% YoY and down 1% QoQ\\n⚫Average deposits of $224B, down 22% YoY and down 5% QoQ\\n1See note 1 on slide 10\\n2Actual numbers for all periods, not over/(under)SELECTED INCOME STATEMENT DATA ($MM) FINANCIAL PERFORMANCE\\n1Q23  4Q22  1Q22  \\nRevenue $4,784 $196 $469 \\nAsset Management 2,434 276 120 \\nGlobal Private Bank 2,350 (80) 349 \\nExpense 3,091 69 231 \\nCredit costs 28 (4) (126)\\nNet income $1,367 $233 $359 $ O/(U)\\n1Q23  4Q22  1Q22  \\nEquity $16.0 $17.0 $17.0 \\nROE 34% 26% 23%\\nPretax margin 35 33 30 \\nAssets under management (\"AUM\") $3,006 $2,766 $2,960 \\nClient assets 4,347 4,048 4,116', metadata={'source': 'files/JPM_FinancialResult.pdf', 'page': 7}),\n",
       " Document(page_content='Pretax margin 35 33 30 \\nAssets under management (\"AUM\") $3,006 $2,766 $2,960 \\nClient assets 4,347 4,048 4,116 \\nAverage loans 211.5 214.2 214.6 \\nAverage deposits 224.4 237.0 287.8 CCB CIB CB AWM Corp.\\n7', metadata={'source': 'files/JPM_FinancialResult.pdf', 'page': 7}),\n",
       " Document(page_content='Corporate1\\nFINANCIAL PERFORMANCE SELECTED INCOME STATEMENT DATA ($MM)\\n⚫Revenue was $ 985mm, up $1.9B YoY\\n⚫Net interest income was $ 1.7B, compared with a loss of $536mm \\nin the prior year, due to the impact of higher rates\\n⚫Noninterest revenue was a loss of $ 755mm , compared with a loss \\nof $345mm in the prior year, and included net investment \\nsecurities losses of $868mm\\n⚫Expense :Noninterest expense of $ 160mm , down $24mm YoY\\n⚫Credit costs of $370mm, reflecting a net reserve build, driven by \\nsingle name exposures\\n1See note 1 on slide 10\\n1Q23  4Q22  1Q22  \\nRevenue $985 ($198) $1,866 \\nNet interest income 1,740 442 2,276 \\nNoninterest revenue (755) (640) (410)\\nExpense 160 (179) (24)\\nCredit costs 370 384 341 \\nNet income/(loss) $244 ($337) $1,100 $ O/(U)CCB CIB CB AWM Corp.\\n8', metadata={'source': 'files/JPM_FinancialResult.pdf', 'page': 8}),\n",
       " Document(page_content='Expect FY2023 net interest income and net interest income excluding Markets of ~$81B , market dependentOutlook1\\n1See notes 1, 2 and 4 on slide 101\\nExpect FY2023 adjusted expense of ~$81B , market dependent 2\\nExpect FY2023 Card Services NCO rate of ~2.60% 3FIRMWIDE\\n$21B\\n1Q23NII EX. MARKETS SIGNIFICANT SOURCES OF UNCERTAINTY\\n~$80B\\n2Q23 –4Q23 Medium -term~$60B\\n$84B Run-rate:⚫Deposit reprice (magnitude and timing)\\n⚫Consumer behavior and competitive dynamics\\n⚫Hard vs. soft landing\\n⚫Impacts both rates and loan growth\\n⚫Loan growth , including card revolve\\n⚫Securities reinvestment strategy\\n⚫Impact of policy choices \\n⚫Pace of quantitative tightening\\n⚫Path of Fed Funds rate\\n⚫Size and terms of RRP mid-70s ($B)\\n9', metadata={'source': 'files/JPM_FinancialResult.pdf', 'page': 9}),\n",
       " Document(page_content='Notes on non -GAAP financial measures\\n1. In addition to analyzing the Firm’s results on a reported basis, management reviews Firmwide results, including the overhead ratio, on a “managed” basis; these \\nFirmwide managed basis results are non -GAAP financial measures. The Firm also reviews the results of the lines of business on a managed basis. The Firm’s \\ndefinition of managed basis starts, in each case, with the reported U.S. GAAP results and includes certain reclassifications to present total net revenue for the Firm and \\neach of the reportable business segments on a fully taxable -equivalent basis. Accordingly, revenue from investments that receive tax credits and tax -exempt securities \\nis presented in the managed results on a basis comparable to taxable investments and securities. These financial measures all ow management to assess the \\ncomparability of revenue from year -to-year arising from both taxable and tax -exempt sources. The corresponding income tax impact related to tax -exempt items is \\nrecorded within income tax expense. These adjustments have no impact on net income as reported by the Firm as a whole or by t he lines of business. For a \\nreconciliation of the Firm’s results from a reported to managed basis, refer to page 7 of the Earnings Release Financial Supp lement\\n2. In addition to reviewing net interest income (“NII”) and noninterest revenue (“NIR”) on a managed basis, management also revi ewsthese metrics excluding CIB \\nMarkets (“Markets”, which is composed of Fixed Income Markets and Equity Markets). Markets revenue consists of principal tran sactions, fees, commissions and other \\nincome, as well as net interest income. These metrics, which exclude Markets, are non -GAAP financial measures. Management review s these metrics to assess the \\nperformance of the Firm’s lending, investing (including asset -liability management) and deposit -raising activities, apart from a ny volatility associated with Markets \\nactivities. In addition, management also assesses Markets business performance on a total revenue basis as offsets may occur across revenue lines. For example, \\nsecurities that generate net interest income may be risk -managed by derivatives that are reflected at fair value in principal tr ansactions revenue. Management believes \\nthese measures provide investors and analysts with alternative measures to analyze the revenue trends of the Firm. For a reco nciliation of NII and NIR from reported', metadata={'source': 'files/JPM_FinancialResult.pdf', 'page': 10}),\n",
       " Document(page_content='these measures provide investors and analysts with alternative measures to analyze the revenue trends of the Firm. For a reco nciliation of NII and NIR from reported \\nto excluding Markets, refer to page 29 of the Earnings Release Financial Supplement. For additional information on Markets re venue, refer to page 70 of the Firm’s \\n2022 Form 10 -K\\n3. Tangible common equity (“TCE”), return on tangible common equity (“ROTCE”) and tangible book value per share (“TBVPS”), are e achnon-GAAP financial measures. \\nTCE represents the Firm’s common stockholders’ equity (i.e., total stockholders’ equity less preferred stock) less goodwill a nd identifiable intangible assets (other than \\nmortgage servicing rights), net of related deferred tax liabilities. For a reconciliation from common stockholders’ equity to TCE, refer to page 10 of the Earnings \\nRelease Financial Supplement. ROTCE measures the Firm’s net income applicable to common equity as a percentage of average TCE . TBVPS represents the Firm’s \\nTCE at period -end divided by common shares at period -end. Book value per share was $94.34, $90.29 and $86.16 at March 31, 2023, December 31, 2022 and March \\n31, 2022, respectively. TCE, ROTCE and TBVPS are utilized by the Firm, as well as investors and analysts, in assessing the Fi rm’s use of equity\\n4. Adjusted expense and adjusted overhead ratio are each non -GAAP financial measures. Adjusted expense represents noninterest expen se excluding Firmwide legal \\nexpense of $176mm, $27mm and $119mm for the three months ended March 31, 2023, December 31, 2022 and March 31, 2022, respecti vely. The adjusted overhead \\nratio measures the Firm’s adjusted expense as a percentage of managed net revenue. Management believes this information helps investors understand the effect of \\nthese items on reported results and provides an alternate presentation of the Firm’s performance\\n5. Corporate & Investment Bank (“CIB”) calculates the ratio of the allowance for loan losses to end -of-period loans (“ALL/EOP”) exc luding the impact of consolidated', metadata={'source': 'files/JPM_FinancialResult.pdf', 'page': 10}),\n",
       " Document(page_content='5. Corporate & Investment Bank (“CIB”) calculates the ratio of the allowance for loan losses to end -of-period loans (“ALL/EOP”) exc luding the impact of consolidated \\nFirm-administered multi -seller conduits and trade finance loans, to provide a more meaningful assessment of CIB’s allowance cove rage ratio\\n10', metadata={'source': 'files/JPM_FinancialResult.pdf', 'page': 10}),\n",
       " Document(page_content='Additional notes\\n1. Reflects the Current Expected Credit Losses (\"CECL\") capital transition provisions. Beginning January 1, 2022, the $2.9B CECL capital benefit is being phased out at \\n25% per year over a three -year period. As of March 31, 2023, CET1 capital and Total Loss -Absorbing Capacity reflected the remain ing $1.4B CECL benefit; as of \\nDecember 31, 2022 and March 31, 2022, CET1 capital reflected a $2.2B benefit. Refer to Capital Risk Management on pages 86 -96 of the Firm’s 2022 Form 10 -K for \\nadditional information\\n2. Total excess high -quality liquid assets (“HQLA”) represent the average eligible unencumbered liquid assets that are in excess of what is required to meet the estimated \\nFirm and Bank total net cash outflows over a prospective 30 calendar -day period of significant stress under the LCR rule. HQLA a nd unencumbered marketable \\nsecurities, includes the Firm’s average eligible HQLA, other end -of-period HQLA -eligible securities which are included as part o f the excess liquidity at the Bank that \\nare not transferable to non -bank affiliates and thus excluded from the Firm’s LCR under the LCR rule, and other end -of-period un encumbered marketable securities, \\nsuch as equity and debt securities. Does not include borrowing capacity at Federal Home Loan Banks and the discount window at the Federal Reserve Bank. Refer to \\nLiquidity Risk Management on pages 97 -104 of the Firm’s 2022 Form 10 -K for additional information\\n3. In the first quarter of 2023, the allocations of revenue and expense to CCB associated with a Merchant Services revenue shari ng agreement were discontinued and are \\nnow retained in Payments in CIB. Prior -period amounts have been revised to conform with the current presentation\\n11', metadata={'source': 'files/JPM_FinancialResult.pdf', 'page': 11}),\n",
       " Document(page_content='Additional notes on slides 4 -6\\nSlide 4 –Consumer & Community Banking\\n3. Actual numbers for all periods, not over/(under)\\n4. Users of all mobile platforms who have logged in within the past 90 days\\n5. Excludes Commercial Card\\n6. Includes the impact of loans originated under the PPP. For further information, refer to page 13 of the Earnings Release Fina ncial Supplement\\n7. Firmwide mortgage origination volume was $6.8B, $8.5B and $30.2B for the three months ended March 31, 2023, December 31, 2022 and March 31, 2022, \\nrespectively\\nSlide 5 –Corporate & Investment Bank\\n3. Actual numbers for all periods, not over/(under)\\n4. Client deposits and other third -party liabilities pertain to the Payments and Securities Services businesses \\n5. Represents total merchant processing volume across CIB, CCB and CB\\n6. Loans held -for-sale and loans at fair value were excluded when calculating the loan loss coverage ratio and net charge -off/(reco very) rate. ALL/EOP loans as reported \\nwas 1.31%, 1.22%, and 1.01% at March 31, 2023, December 31, 2022 and March 31, 2022, respectively. See note 5 on slide 10\\nSlide 6 –Commercial Banking\\n2. Actual numbers for all periods, not over/(under)\\n3. In the fourth quarter of 2022, certain revenue from CIB Markets products was reclassified from investment banking to payments . Prior-period amounts have been \\nrevised to conform with the current presentation\\n4. Includes gross revenues earned by the Firm, that are subject to a revenue sharing arrangement with the CIB, for products sold toCB clients through the Investment \\nBanking, Markets or Payments businesses. This includes revenues related to fixed income and equity markets products. Refer to page 61 of the Firm’s 2022 Form 10 -\\nK for discussion of revenue sharing\\n5. Includes the impact of loans originated under the PPP. For further information, refer to page 20 of the Earnings Release Fina ncial Supplement\\n6. Loans held -for-sale and loans at fair value were excluded when calculating the net charge -off/(recovery) rate and loan loss cove rage ratio', metadata={'source': 'files/JPM_FinancialResult.pdf', 'page': 12}),\n",
       " Document(page_content='6. Loans held -for-sale and loans at fair value were excluded when calculating the net charge -off/(recovery) rate and loan loss cove rage ratio \\n7. Commercial and Industrial (“C&I”) and Commercial Real Estate (“CRE”) groupings for CB are generally based on client segments anddo not align with regulatory \\ndefinitions\\n12', metadata={'source': 'files/JPM_FinancialResult.pdf', 'page': 12}),\n",
       " Document(page_content='Forward -looking statements\\nThis presentation contains forward -looking statements within the meaning of the Private Securities Litigation \\nReform Act of 1995. These statements are based on the current beliefs and expectations of JPMorgan Chase & \\nCo.’s management and are subject to significant risks and uncertainties. Actual results may differ from those set \\nforth in the forward -looking statements. Factors that could cause JPMorgan Chase & Co.’s actual results to differ \\nmaterially from those described in the forward -looking statements can be found in JPMorgan Chase & Co.’s \\nAnnual Report on Form 10 -K for the year ended December 31, 2022, which has been filed with the Securities and \\nExchange Commission and is available on JPMorgan Chase & Co.’s website (https://jpmorganchaseco.gcs -\\nweb.com/financial -information/sec -filings), and on the Securities and Exchange Commission’s website \\n(www.sec.gov). JPMorgan Chase & Co. does not undertake to update any forward -looking statements.\\n13', metadata={'source': 'files/JPM_FinancialResult.pdf', 'page': 13})]"
      ]
     },
     "execution_count": 76,
     "metadata": {},
     "output_type": "execute_result"
    }
   ],
   "source": [
    "chunks = pdf_2_chunks(documents,chunk_size=512,chunk_overlap=51)\n",
    "print(len(chunks))\n",
    "chunks"
   ]
  },
  {
   "cell_type": "code",
   "execution_count": null,
   "metadata": {},
   "outputs": [],
   "source": []
  },
  {
   "cell_type": "code",
   "execution_count": 11,
   "metadata": {},
   "outputs": [
    {
     "name": "stdout",
     "output_type": "stream",
     "text": [
      "20\n"
     ]
    }
   ],
   "source": []
  },
  {
   "cell_type": "code",
   "execution_count": 2,
   "metadata": {},
   "outputs": [
    {
     "name": "stdout",
     "output_type": "stream",
     "text": [
      "Index status: \n",
      "\n",
      "{'dimension': 1536,\n",
      " 'index_fullness': 0.0,\n",
      " 'namespaces': {'': {'vector_count': 39}},\n",
      " 'total_vector_count': 39}\n"
     ]
    },
    {
     "data": {
      "text/plain": [
       "<pinecone.core.grpc.index_grpc.GRPCIndex at 0x11e2606d0>"
      ]
     },
     "execution_count": 2,
     "metadata": {},
     "output_type": "execute_result"
    }
   ],
   "source": [
    "index = pinecone_init(key_dict[\"PINECONE_API_KEY\"],key_dict[\"PINECONE_API_ENV\"],index_name=\"langchain-pdf-qna\",distance_metric=\"cosine\",embed_dimension=1536)\n",
    "index"
   ]
  },
  {
   "cell_type": "code",
   "execution_count": 79,
   "metadata": {},
   "outputs": [],
   "source": [
    "#delete_pinecone_index(index_name=\"langchain-pdf-qna\")"
   ]
  },
  {
   "cell_type": "code",
   "execution_count": 12,
   "metadata": {},
   "outputs": [
    {
     "name": "stdout",
     "output_type": "stream",
     "text": [
      "Index status: \n",
      "\n",
      "{'dimension': 1536,\n",
      " 'index_fullness': 0.0,\n",
      " 'namespaces': {'': {'vector_count': 39}},\n",
      " 'total_vector_count': 39}\n"
     ]
    }
   ],
   "source": [
    "pinecone_status(index)"
   ]
  },
  {
   "cell_type": "code",
   "execution_count": 81,
   "metadata": {},
   "outputs": [
    {
     "data": {
      "application/vnd.jupyter.widget-view+json": {
       "model_id": "00eb049e5af34fc680cfc2bddc2b2d21",
       "version_major": 2,
       "version_minor": 0
      },
      "text/plain": [
       "  0%|          | 0/39 [00:00<?, ?it/s]"
      ]
     },
     "metadata": {},
     "output_type": "display_data"
    }
   ],
   "source": [
    "load_chunks_2_pinecone(chunks,index,key_dict[\"OPENAI_API_KEY\"],embeddings_model_name='text-embedding-ada-002',batch_limit=100)"
   ]
  },
  {
   "cell_type": "code",
   "execution_count": 82,
   "metadata": {},
   "outputs": [
    {
     "name": "stdout",
     "output_type": "stream",
     "text": [
      "Index status: \n",
      "\n",
      "{'dimension': 1536,\n",
      " 'index_fullness': 0.0,\n",
      " 'namespaces': {'': {'vector_count': 39}},\n",
      " 'total_vector_count': 39}\n"
     ]
    }
   ],
   "source": [
    "pinecone_status(index)"
   ]
  },
  {
   "cell_type": "code",
   "execution_count": null,
   "metadata": {},
   "outputs": [],
   "source": []
  },
  {
   "cell_type": "code",
   "execution_count": null,
   "metadata": {},
   "outputs": [],
   "source": []
  },
  {
   "cell_type": "code",
   "execution_count": 3,
   "metadata": {},
   "outputs": [],
   "source": [
    "query = \"\"\"Write a comprehensive summary of this financial report. \n",
    "\n",
    "Divide it into,\n",
    "1. Financial highlights\n",
    "2. Analysis of Financial results\n",
    "3. Trends\n",
    "4. Risks\n",
    "5. Conclusion\n",
    "\n",
    "{text}\n",
    "\n",
    "SUMMARY:\"\"\""
   ]
  },
  {
   "cell_type": "code",
   "execution_count": 4,
   "metadata": {},
   "outputs": [
    {
     "data": {
      "text/plain": [
       "{'question': 'Write a comprehensive summary of this financial report. \\n\\nDivide it into,\\n1. Financial highlights\\n2. Analysis of Financial results\\n3. Trends\\n4. Risks\\n5. Conclusion\\n\\n{text}\\n\\nSUMMARY:',\n",
       " 'answer': \"1. Financial highlights:\\n- Revenue was $985mm, up $1.9B YoY\\n- Net interest income was $1.7B, compared with a loss of $536mm in the prior year, due to the impact of higher rates\\n- Noninterest revenue was a loss of $755mm, compared with a loss of $345mm in the prior year, and included net investment securities losses of $868mm\\n- Noninterest expense of $160mm, down $24mm YoY\\n- Credit costs of $370mm, reflecting a net reserve build, driven by single name exposures\\n- 1Q23 net income of $12.6B and EPS of $4.10\\n- Managed revenue of $39.3B, included net investment securities losses of $868mm\\n- Expense of $20.1B and managed overhead ratio of 51%\\n- Common dividend of $3.0B or $1.00 per share\\n- $1.9B of common stock net repurchases\\n\\n2. Analysis of Financial results:\\nJPMorgan Chase Bank's revenue increased YoY, mainly due to higher net interest income resulting from higher rates. However, noninterest revenue was a loss due to net investment securities losses. Noninterest expense decreased YoY, while credit costs reflected a net reserve build. The bank's net income and EPS for 1Q23 were $12.6B and $4.10, respectively. Managed revenue was $39.3B, and the managed overhead ratio was 51%. The bank distributed a common dividend of $3.0B and repurchased $1.9B of common stock.\\n\\n3. Trends:\\nJPMorgan Chase Bank's loans increased by 6% YoY, while deposits decreased by 8% YoY. The bank's standardized CET1 capital ratio was 13.8%, and its advanced CET1 capital ratio was 13.9%. The bank's total loss-absorbing capacity was $488B, and its standardized RWA was $1.7T. The bank's average loans were $1.1T.\\n\\n4. Risks:\\nJPMorgan Chase Bank's noninterest revenue was a loss due to net investment securities losses. The bank's credit costs reflected a net reserve build, driven by single name exposures.\\n\\n5. Conclusion:\\nJPMorgan Chase Bank's financial performance in 1Q23 showed an increase in revenue YoY, mainly due to higher net interest income. However, noninterest revenue was a loss due to net investment securities losses. The bank's net income and EPS for 1Q23 were $12.6B and $4.10, respectively. The bank distributed a common dividend of $3.0B and repurchased $1.9B of common stock. The bank's loans increased by 6% YoY, while deposits decreased by 8% YoY. The bank's standardized CET1 capital ratio was 13.8%, and its advanced CET1 capital ratio was 13.9%. The bank's total loss-absorbing capacity was $488B, and its standardized RWA was $1.7T. The bank's noninterest revenue was a risk due to net investment securities losses, and its credit costs reflected a risk of a net reserve build, driven by single name exposures.\",\n",
       " 'sources': ''}"
      ]
     },
     "execution_count": 4,
     "metadata": {},
     "output_type": "execute_result"
    }
   ],
   "source": [
    "query_pinecone(index_name=\"langchain-pdf-qna\",embed_model_api_key=key_dict[\"OPENAI_API_KEY\"],query=query,topk=3,embed_model_name='text-embedding-ada-002',qna_model=\"gpt-3.5-turbo\",temperature=0.0,chain_type=\"stuff\")"
   ]
  },
  {
   "cell_type": "code",
   "execution_count": 5,
   "metadata": {},
   "outputs": [
    {
     "data": {
      "text/plain": [
       "{'question': 'what is total net revenue of jpmorgan chase bank in 2021',\n",
       " 'answer': 'The total net revenue of JPMorgan Chase Bank in 2021 was $104,205 million.\\n',\n",
       " 'sources': 'files/JPMorgan_Chase_Bank_Annual_Consolidated_Financial_Statements_onlybalancesheet.pdf'}"
      ]
     },
     "execution_count": 5,
     "metadata": {},
     "output_type": "execute_result"
    }
   ],
   "source": [
    "query = \"\"\"what is total net revenue of jpmorgan chase bank in 2021\"\"\"\n",
    "query_pinecone(index_name=\"langchain-pdf-qna\",embed_model_api_key=key_dict[\"OPENAI_API_KEY\"],query=query,topk=5,embed_model_name='text-embedding-ada-002',qna_model=\"gpt-3.5-turbo\",temperature=0.0,chain_type=\"stuff\")"
   ]
  },
  {
   "cell_type": "code",
   "execution_count": 6,
   "metadata": {},
   "outputs": [
    {
     "data": {
      "text/plain": [
       "{'question': 'what is total net revenue of jpmorgan chase bank in year 2021',\n",
       " 'answer': 'The total net revenue of JPMorgan Chase Bank in 2021 was $104,205 million.\\n',\n",
       " 'sources': 'files/JPMorgan_Chase_Bank_Annual_Consolidated_Financial_Statements_onlybalancesheet.pdf'}"
      ]
     },
     "execution_count": 6,
     "metadata": {},
     "output_type": "execute_result"
    }
   ],
   "source": [
    "query = \"\"\"what is total net revenue of jpmorgan chase bank in year 2021\"\"\"\n",
    "query_pinecone(index_name=\"langchain-pdf-qna\",embed_model_api_key=key_dict[\"OPENAI_API_KEY\"],query=query,topk=5,embed_model_name='text-embedding-ada-002',qna_model=\"gpt-3.5-turbo\",temperature=0.0,chain_type=\"stuff\")"
   ]
  },
  {
   "cell_type": "code",
   "execution_count": 50,
   "metadata": {},
   "outputs": [
    {
     "data": {
      "text/plain": [
       "{'question': 'what is the total net revenue of jpmorgan chase bank in year 2021',\n",
       " 'answer': 'The total net revenue of JPMorgan Chase Bank in year 2021 was $118,977 million.\\n',\n",
       " 'sources': 'files/JPMorgan_Chase_Bank_Annual_Consolidated_Financial_Statements_onlybalancesheet.pdf'}"
      ]
     },
     "execution_count": 50,
     "metadata": {},
     "output_type": "execute_result"
    }
   ],
   "source": [
    "query = \"\"\"what is the total net revenue of jpmorgan chase bank in year 2021\"\"\"\n",
    "query_pinecone(index_name=\"langchain-pdf-qna\",embed_model_api_key=key_dict[\"OPENAI_API_KEY\"],query=query,topk=5,embed_model_name='text-embedding-ada-002',qna_model=\"gpt-3.5-turbo\",temperature=0.0,chain_type=\"stuff\")"
   ]
  },
  {
   "cell_type": "code",
   "execution_count": 48,
   "metadata": {},
   "outputs": [
    {
     "data": {
      "text/plain": [
       "{'question': 'what is total net income of jpmorgan chase bank in year 2021',\n",
       " 'answer': 'The total net income of JPMorgan Chase Bank in the year 2021 was $38,055 million.\\n',\n",
       " 'sources': 'files/JPMorgan_Chase_Bank_Annual_Consolidated_Financial_Statements_onlybalancesheet.pdf'}"
      ]
     },
     "execution_count": 48,
     "metadata": {},
     "output_type": "execute_result"
    }
   ],
   "source": [
    "query = \"\"\"what is total net income of jpmorgan chase bank in year 2021\"\"\"\n",
    "query_pinecone(index_name=\"langchain-pdf-qna\",embed_model_api_key=key_dict[\"OPENAI_API_KEY\"],query=query,topk=5,embed_model_name='text-embedding-ada-002',qna_model=\"gpt-3.5-turbo\",temperature=0.0,chain_type=\"stuff\")"
   ]
  },
  {
   "cell_type": "code",
   "execution_count": 7,
   "metadata": {},
   "outputs": [
    {
     "data": {
      "text/plain": [
       "{'question': 'what is total net revenue of jpmorgan chase bank in year 2022',\n",
       " 'answer': 'The total net revenue of JPMorgan Chase Bank in 2022 was $118,977 million.\\n',\n",
       " 'sources': 'files/JPMorgan_Chase_Bank_Annual_Consolidated_Financial_Statements_onlybalancesheet.pdf'}"
      ]
     },
     "execution_count": 7,
     "metadata": {},
     "output_type": "execute_result"
    }
   ],
   "source": [
    "query = \"\"\"what is total net revenue of jpmorgan chase bank in year 2022\"\"\"\n",
    "query_pinecone(index_name=\"langchain-pdf-qna\",embed_model_api_key=key_dict[\"OPENAI_API_KEY\"],query=query,topk=5,embed_model_name='text-embedding-ada-002',qna_model=\"gpt-3.5-turbo\",temperature=0.0,chain_type=\"stuff\")"
   ]
  },
  {
   "cell_type": "code",
   "execution_count": 52,
   "metadata": {},
   "outputs": [
    {
     "data": {
      "text/plain": [
       "{'question': 'what is the total net revenue of jpmorgan chase bank in year 2022',\n",
       " 'answer': 'There is no information provided about the total net revenue of JPMorgan Chase Bank in the year 2022. \\n',\n",
       " 'sources': 'files/JPMorgan_Chase_Bank_Annual_Consolidated_Financial_Statements_onlybalancesheet.pdf'}"
      ]
     },
     "execution_count": 52,
     "metadata": {},
     "output_type": "execute_result"
    }
   ],
   "source": [
    "query = \"\"\"what is the total net revenue of jpmorgan chase bank in year 2022\"\"\"\n",
    "query_pinecone(index_name=\"langchain-pdf-qna\",embed_model_api_key=key_dict[\"OPENAI_API_KEY\"],query=query,topk=5,embed_model_name='text-embedding-ada-002',qna_model=\"gpt-3.5-turbo\",temperature=0.0,chain_type=\"stuff\")"
   ]
  },
  {
   "cell_type": "code",
   "execution_count": 55,
   "metadata": {},
   "outputs": [
    {
     "data": {
      "text/plain": [
       "{'question': 'what is the \"Total net revenue\" of jpmorgan chase bank in year 2022',\n",
       " 'answer': 'There is no information provided about the total net revenue of JPMorgan Chase Bank in the year 2022. \\n',\n",
       " 'sources': 'N/A'}"
      ]
     },
     "execution_count": 55,
     "metadata": {},
     "output_type": "execute_result"
    }
   ],
   "source": [
    "query = \"\"\"what is the \"Total net revenue\" of jpmorgan chase bank in year 2022\"\"\"\n",
    "query_pinecone(index_name=\"langchain-pdf-qna\",embed_model_api_key=key_dict[\"OPENAI_API_KEY\"],query=query,topk=5,embed_model_name='text-embedding-ada-002',qna_model=\"gpt-3.5-turbo\",temperature=0.0,chain_type=\"stuff\")"
   ]
  },
  {
   "attachments": {},
   "cell_type": "markdown",
   "metadata": {},
   "source": [
    "#explanation about different chains \n",
    "\n",
    "https://towardsdatascience.com/4-ways-of-question-answering-in-langchain-188c6707cc5a"
   ]
  },
  {
   "cell_type": "code",
   "execution_count": null,
   "metadata": {},
   "outputs": [],
   "source": []
  },
  {
   "cell_type": "code",
   "execution_count": 83,
   "metadata": {},
   "outputs": [
    {
     "data": {
      "text/plain": [
       "{'question': 'what is the \"Total net revenue\" of jpmorgan chase bank in year 2022',\n",
       " 'answer': \"The original answer remains the same: The Total net revenue of JPMorgan Chase Bank in year 2022 is $118,977 million. However, it should be noted that the provided source only includes information on the bank's consolidated balance sheet and does not explicitly state the total net revenue for the year 2022. Further information may be needed to determine the exact total net revenue for JPMorgan Chase Bank in 2022.\",\n",
       " 'sources': ''}"
      ]
     },
     "execution_count": 83,
     "metadata": {},
     "output_type": "execute_result"
    }
   ],
   "source": [
    "query = \"\"\"what is the \"Total net revenue\" of jpmorgan chase bank in year 2022\"\"\"\n",
    "query_pinecone(index_name=\"langchain-pdf-qna\",embed_model_api_key=key_dict[\"OPENAI_API_KEY\"],query=query,topk=10,embed_model_name='text-embedding-ada-002',qna_model=\"gpt-3.5-turbo\",temperature=0.0,chain_type=\"refine\")"
   ]
  },
  {
   "cell_type": "code",
   "execution_count": 84,
   "metadata": {},
   "outputs": [
    {
     "name": "stderr",
     "output_type": "stream",
     "text": [
      "Retrying langchain.chat_models.openai.ChatOpenAI.completion_with_retry.<locals>._completion_with_retry in 1.0 seconds as it raised RateLimitError: That model is currently overloaded with other requests. You can retry your request, or contact us through our help center at help.openai.com if the error persists. (Please include the request ID 8f41cb4501ebdeec904ed9aa9d25c60f in your message.).\n"
     ]
    },
    {
     "data": {
      "text/plain": [
       "{'question': 'what is the \"Total net revenue\" of jpmorgan chase bank in year 2022',\n",
       " 'answer': 'The total net revenue of JPMorgan Chase Bank in year 2022 was $118,977 million.\\n',\n",
       " 'sources': 'files/JPMorgan_Chase_Bank_Annual_Consolidated_Financial_Statements_onlybalancesheet.pdf'}"
      ]
     },
     "execution_count": 84,
     "metadata": {},
     "output_type": "execute_result"
    }
   ],
   "source": [
    "query = \"\"\"what is the \"Total net revenue\" of jpmorgan chase bank in year 2022\"\"\"\n",
    "query_pinecone(index_name=\"langchain-pdf-qna\",embed_model_api_key=key_dict[\"OPENAI_API_KEY\"],query=query,topk=10,embed_model_name='text-embedding-ada-002',qna_model=\"gpt-3.5-turbo\",temperature=0.0,chain_type=\"stuff\")"
   ]
  },
  {
   "cell_type": "code",
   "execution_count": 85,
   "metadata": {},
   "outputs": [
    {
     "data": {
      "text/plain": [
       "{'question': 'what is the \"Total net revenue\" of jpmorgan chase bank in year 2022',\n",
       " 'answer': 'The Total net revenue of JPMorgan Chase Bank in year 2022 is $118,977 million.',\n",
       " 'sources': ''}"
      ]
     },
     "execution_count": 85,
     "metadata": {},
     "output_type": "execute_result"
    }
   ],
   "source": [
    "query = \"\"\"what is the \"Total net revenue\" of jpmorgan chase bank in year 2022\"\"\"\n",
    "query_pinecone(index_name=\"langchain-pdf-qna\",embed_model_api_key=key_dict[\"OPENAI_API_KEY\"],query=query,topk=10,embed_model_name='text-embedding-ada-002',qna_model=\"gpt-3.5-turbo\",temperature=0.0,chain_type=\"map_rerank\")"
   ]
  },
  {
   "cell_type": "code",
   "execution_count": 86,
   "metadata": {},
   "outputs": [
    {
     "data": {
      "text/plain": [
       "{'question': 'what is the \"Total net revenue\" of jpmorgan chase bank in year 2022',\n",
       " 'answer': 'There is no relevant text to answer the question about the \"Total net revenue\" of JPMorgan Chase Bank in year 2022. \\n',\n",
       " 'sources': 'files/JPMorgan_Chase_Bank_Annual_Consolidated_Financial_Statements_onlybalancesheet.pdf'}"
      ]
     },
     "execution_count": 86,
     "metadata": {},
     "output_type": "execute_result"
    }
   ],
   "source": [
    "query = \"\"\"what is the \"Total net revenue\" of jpmorgan chase bank in year 2022\"\"\"\n",
    "query_pinecone(index_name=\"langchain-pdf-qna\",embed_model_api_key=key_dict[\"OPENAI_API_KEY\"],query=query,topk=10,embed_model_name='text-embedding-ada-002',qna_model=\"gpt-3.5-turbo\",temperature=0.0,chain_type=\"map_reduce\")"
   ]
  },
  {
   "cell_type": "code",
   "execution_count": null,
   "metadata": {},
   "outputs": [],
   "source": []
  },
  {
   "attachments": {},
   "cell_type": "markdown",
   "metadata": {},
   "source": [
    "## map_rerank"
   ]
  },
  {
   "cell_type": "code",
   "execution_count": 87,
   "metadata": {},
   "outputs": [
    {
     "data": {
      "text/plain": [
       "{'question': 'what is the \"Total net revenue\" of jpmorgan chase bank in year 2022',\n",
       " 'answer': 'The Total net revenue of JPMorgan Chase Bank in year 2022 is $118,977 million.',\n",
       " 'sources': ''}"
      ]
     },
     "execution_count": 87,
     "metadata": {},
     "output_type": "execute_result"
    }
   ],
   "source": [
    "query = \"\"\"what is the \"Total net revenue\" of jpmorgan chase bank in year 2022\"\"\"\n",
    "query_pinecone(index_name=\"langchain-pdf-qna\",embed_model_api_key=key_dict[\"OPENAI_API_KEY\"],query=query,topk=10,embed_model_name='text-embedding-ada-002',qna_model=\"gpt-3.5-turbo\",temperature=0.0,chain_type=\"map_rerank\")"
   ]
  },
  {
   "cell_type": "code",
   "execution_count": 88,
   "metadata": {},
   "outputs": [
    {
     "data": {
      "text/plain": [
       "{'question': 'what is the total net revenue of jpmorgan chase bank in year 2022',\n",
       " 'answer': '118,977 million',\n",
       " 'sources': ''}"
      ]
     },
     "execution_count": 88,
     "metadata": {},
     "output_type": "execute_result"
    }
   ],
   "source": [
    "query = \"\"\"what is the total net revenue of jpmorgan chase bank in year 2022\"\"\"\n",
    "query_pinecone(index_name=\"langchain-pdf-qna\",embed_model_api_key=key_dict[\"OPENAI_API_KEY\"],query=query,topk=10,embed_model_name='text-embedding-ada-002',qna_model=\"gpt-3.5-turbo\",temperature=0.0,chain_type=\"map_rerank\")"
   ]
  },
  {
   "cell_type": "code",
   "execution_count": 89,
   "metadata": {},
   "outputs": [
    {
     "data": {
      "text/plain": [
       "{'question': 'what is the total net revenue of jpmorgan chase bank in year 2021',\n",
       " 'answer': '104,205 million',\n",
       " 'sources': ''}"
      ]
     },
     "execution_count": 89,
     "metadata": {},
     "output_type": "execute_result"
    }
   ],
   "source": [
    "query = \"\"\"what is the total net revenue of jpmorgan chase bank in year 2021\"\"\"\n",
    "query_pinecone(index_name=\"langchain-pdf-qna\",embed_model_api_key=key_dict[\"OPENAI_API_KEY\"],query=query,topk=5,embed_model_name='text-embedding-ada-002',qna_model=\"gpt-3.5-turbo\",temperature=0.0,chain_type=\"map_rerank\")"
   ]
  },
  {
   "cell_type": "code",
   "execution_count": 90,
   "metadata": {},
   "outputs": [
    {
     "data": {
      "text/plain": [
       "{'question': 'what is the total net revenue of jpmorgan chase bank in year 2022',\n",
       " 'answer': '118,977 million',\n",
       " 'sources': ''}"
      ]
     },
     "execution_count": 90,
     "metadata": {},
     "output_type": "execute_result"
    }
   ],
   "source": [
    "query = \"\"\"what is the total net revenue of jpmorgan chase bank in year 2022\"\"\"\n",
    "query_pinecone(index_name=\"langchain-pdf-qna\",embed_model_api_key=key_dict[\"OPENAI_API_KEY\"],query=query,topk=5,embed_model_name='text-embedding-ada-002',qna_model=\"gpt-3.5-turbo\",temperature=0.0,chain_type=\"map_rerank\")"
   ]
  },
  {
   "attachments": {},
   "cell_type": "markdown",
   "metadata": {},
   "source": [
    "## refine"
   ]
  },
  {
   "cell_type": "code",
   "execution_count": 91,
   "metadata": {},
   "outputs": [
    {
     "data": {
      "text/plain": [
       "{'question': 'what is the \"Total net revenue\" of jpmorgan chase bank in year 2022',\n",
       " 'answer': \"The original answer remains the same: The Total net revenue of JPMorgan Chase Bank in year 2022 is $118,977 million. However, it should be noted that the provided source only includes information on the bank's consolidated statements of comprehensive income and does not explicitly state the total net revenue for the year 2022. Further information may be needed to provide a more accurate answer.\",\n",
       " 'sources': ''}"
      ]
     },
     "execution_count": 91,
     "metadata": {},
     "output_type": "execute_result"
    }
   ],
   "source": [
    "query = \"\"\"what is the \"Total net revenue\" of jpmorgan chase bank in year 2022\"\"\"\n",
    "query_pinecone(index_name=\"langchain-pdf-qna\",embed_model_api_key=key_dict[\"OPENAI_API_KEY\"],query=query,topk=5,embed_model_name='text-embedding-ada-002',qna_model=\"gpt-3.5-turbo\",temperature=0.0,chain_type=\"refine\")"
   ]
  },
  {
   "cell_type": "code",
   "execution_count": 92,
   "metadata": {},
   "outputs": [
    {
     "data": {
      "text/plain": [
       "{'question': 'what is the \"Total net revenue\" of jpmorgan chase bank in year 2021',\n",
       " 'answer': 'The original answer remains valid as the new context does not provide a specific figure for total net revenue. The provided source only includes information on the bank\\'s balance sheet and not its revenue specifically. Therefore, the \"Total net revenue\" of JPMorgan Chase Bank in year 2021 is still unknown.',\n",
       " 'sources': ''}"
      ]
     },
     "execution_count": 92,
     "metadata": {},
     "output_type": "execute_result"
    }
   ],
   "source": [
    "query = \"\"\"what is the \"Total net revenue\" of jpmorgan chase bank in year 2021\"\"\"\n",
    "query_pinecone(index_name=\"langchain-pdf-qna\",embed_model_api_key=key_dict[\"OPENAI_API_KEY\"],query=query,topk=5,embed_model_name='text-embedding-ada-002',qna_model=\"gpt-3.5-turbo\",temperature=0.0,chain_type=\"refine\")"
   ]
  },
  {
   "cell_type": "code",
   "execution_count": null,
   "metadata": {},
   "outputs": [],
   "source": []
  }
 ],
 "metadata": {
  "kernelspec": {
   "display_name": "nlp_pip",
   "language": "python",
   "name": "python3"
  },
  "language_info": {
   "codemirror_mode": {
    "name": "ipython",
    "version": 3
   },
   "file_extension": ".py",
   "mimetype": "text/x-python",
   "name": "python",
   "nbconvert_exporter": "python",
   "pygments_lexer": "ipython3",
   "version": "3.11.3"
  },
  "orig_nbformat": 4
 },
 "nbformat": 4,
 "nbformat_minor": 2
}
