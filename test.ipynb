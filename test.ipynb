{
 "cells": [
  {
   "cell_type": "code",
   "execution_count": 88,
   "metadata": {},
   "outputs": [
    {
     "name": "stdout",
     "output_type": "stream",
     "text": [
      "['OPENAI_API_KEY', 'PINECONE_API_KEY', 'PINECONE_API_ENV', 'PROXYCURL_API_KEY', 'SERPAPI_API_KEY']\n"
     ]
    }
   ],
   "source": [
    "# import glob\n",
    "# import pathlib\n",
    "\n",
    "# from langchain.document_loaders import PyPDFDirectoryLoader\n",
    "# from langchain.document_loaders import PyPDFLoader \n",
    "# from langchain.embeddings import OpenAIEmbeddings \n",
    "# from langchain.vectorstores import Chroma \n",
    "# from langchain.chains import ConversationalRetrievalChain\n",
    "# from langchain.memory import ConversationBufferMemory\n",
    "# from langchain.llms import OpenAI\n",
    "\n",
    "# from langchain.document_loaders import UnstructuredPDFLoader\n",
    "# from langchain.indexes import VectorstoreIndexCreator\n",
    "\n",
    "# from langchain.document_loaders import PyPDFLoader\n",
    "# from langchain.document_loaders import DirectoryLoader\n",
    "# from langchain.text_splitter import RecursiveCharacterTextSplitter\n",
    "# import tiktoken\n",
    "# import pinecone\n",
    "\n",
    "from utils.utils import pdf_loader,pdf_2_chunks,pinecone_init,load_chunks_2_pinecone,delete_pinecone_index,pinecone_status,query_pinecone\n",
    "\n",
    "from key_storage import key_dict\n",
    "print(list(key_dict.keys()))\n",
    "\n",
    "%reload_ext autoreload\n",
    "%autoreload 2"
   ]
  },
  {
   "cell_type": "code",
   "execution_count": null,
   "metadata": {},
   "outputs": [],
   "source": []
  },
  {
   "cell_type": "code",
   "execution_count": 89,
   "metadata": {},
   "outputs": [],
   "source": [
    "# token_counts = [tiktoken_len(doc.page_content) for doc in documents]\n",
    "# print(f\"\"\"Min: {min(token_counts)}\n",
    "# Avg: {int(sum(token_counts) / len(token_counts))}\n",
    "# Max: {max(token_counts)}\"\"\")"
   ]
  },
  {
   "cell_type": "code",
   "execution_count": 90,
   "metadata": {},
   "outputs": [],
   "source": [
    "# import matplotlib.pyplot as plt\n",
    "# import seaborn as sns\n",
    "\n",
    "# # set style and color palette for the plot\n",
    "# sns.set_style(\"whitegrid\")\n",
    "# sns.set_palette(\"muted\")\n",
    "\n",
    "# # create histogram\n",
    "# plt.figure(figsize=(12, 6))\n",
    "# sns.histplot(token_counts, kde=False, bins=50)\n",
    "\n",
    "# # customize the plot info\n",
    "# plt.title(\"Token Counts Histogram\")\n",
    "# plt.xlabel(\"Token Count\")\n",
    "# plt.ylabel(\"Frequency\")\n",
    "\n",
    "# plt.show()"
   ]
  },
  {
   "cell_type": "code",
   "execution_count": 91,
   "metadata": {},
   "outputs": [
    {
     "data": {
      "text/plain": [
       "'Given the following extracted parts of a long document and a question, create a final answer with references (\"SOURCES\"). \\nIf you don\\'t know the answer, just say that you don\\'t know. Don\\'t try to make up an answer.\\nALWAYS return a \"SOURCES\" part in your answer.\\n\\nQUESTION: Which state/country\\'s law governs the interpretation of the contract?\\n=========\\nContent: This Agreement is governed by English law and the parties submit to the exclusive jurisdiction of the English courts in  relation to any dispute (contractual or non-contractual) concerning this Agreement save that either party may apply to any court for an  injunction or other relief to protect its Intellectual Property Rights.\\nSource: 28-pl\\nContent: No Waiver. Failure or delay in exercising any right or remedy under this Agreement shall not constitute a waiver of such (or any other)  right or remedy.\\n\\n11.7 Severability. The invalidity, illegality or unenforceability of any term (or part of a term) of this Agreement shall not affect the continuation  in force of the remainder of the term (if any) and this Agreement.\\n\\n11.8 No Agency. Except as expressly stated otherwise, nothing in this Agreement shall create an agency, partnership or joint venture of any  kind between the parties.\\n\\n11.9 No Third-Party Beneficiaries.\\nSource: 30-pl\\nContent: (b) if Google believes, in good faith, that the Distributor has violated or caused Google to violate any Anti-Bribery Laws (as  defined in Clause 8.5) or that such a violation is reasonably likely to occur,\\nSource: 4-pl\\n=========\\nFINAL ANSWER: This Agreement is governed by English law.\\nSOURCES: 28-pl\\n\\nQUESTION: What did the president say about Michael Jackson?\\n=========\\nContent: Madam Speaker, Madam Vice President, our First Lady and Second Gentleman. Members of Congress and the Cabinet. Justices of the Supreme Court. My fellow Americans.  \\n\\nLast year COVID-19 kept us apart. This year we are finally together again. \\n\\nTonight, we meet as Democrats Republicans and Independents. But most importantly as Americans. \\n\\nWith a duty to one another to the American people to the Constitution. \\n\\nAnd with an unwavering resolve that freedom will always triumph over tyranny. \\n\\nSix days ago, Russia’s Vladimir Putin sought to shake the foundations of the free world thinking he could make it bend to his menacing ways. But he badly miscalculated. \\n\\nHe thought he could roll into Ukraine and the world would roll over. Instead he met a wall of strength he never imagined. \\n\\nHe met the Ukrainian people. \\n\\nFrom President Zelenskyy to every Ukrainian, their fearlessness, their courage, their determination, inspires the world. \\n\\nGroups of citizens blocking tanks with their bodies. Everyone from students to retirees teachers turned soldiers defending their homeland.\\nSource: 0-pl\\nContent: And we won’t stop. \\n\\nWe have lost so much to COVID-19. Time with one another. And worst of all, so much loss of life. \\n\\nLet’s use this moment to reset. Let’s stop looking at COVID-19 as a partisan dividing line and see it for what it is: A God-awful disease.  \\n\\nLet’s stop seeing each other as enemies, and start seeing each other for who we really are: Fellow Americans.  \\n\\nWe can’t change how divided we’ve been. But we can change how we move forward—on COVID-19 and other issues we must face together. \\n\\nI recently visited the New York City Police Department days after the funerals of Officer Wilbert Mora and his partner, Officer Jason Rivera. \\n\\nThey were responding to a 9-1-1 call when a man shot and killed them with a stolen gun. \\n\\nOfficer Mora was 27 years old. \\n\\nOfficer Rivera was 22. \\n\\nBoth Dominican Americans who’d grown up on the same streets they later chose to patrol as police officers. \\n\\nI spoke with their families and told them that we are forever in debt for their sacrifice, and we will carry on their mission to restore the trust and safety every community deserves.\\nSource: 24-pl\\nContent: And a proud Ukrainian people, who have known 30 years  of independence, have repeatedly shown that they will not tolerate anyone who tries to take their country backwards.  \\n\\nTo all Americans, I will be honest with you, as I’ve always promised. A Russian dictator, invading a foreign country, has costs around the world. \\n\\nAnd I’m taking robust action to make sure the pain of our sanctions  is targeted at Russia’s economy. And I will use every tool at our disposal to protect American businesses and consumers. \\n\\nTonight, I can announce that the United States has worked with 30 other countries to release 60 Million barrels of oil from reserves around the world.  \\n\\nAmerica will lead that effort, releasing 30 Million barrels from our own Strategic Petroleum Reserve. And we stand ready to do more if necessary, unified with our allies.  \\n\\nThese steps will help blunt gas prices here at home. And I know the news about what’s happening can seem alarming. \\n\\nBut I want you to know that we are going to be okay.\\nSource: 5-pl\\nContent: More support for patients and families. \\n\\nTo get there, I call on Congress to fund ARPA-H, the Advanced Research Projects Agency for Health. \\n\\nIt’s based on DARPA—the Defense Department project that led to the Internet, GPS, and so much more.  \\n\\nARPA-H will have a singular purpose—to drive breakthroughs in cancer, Alzheimer’s, diabetes, and more. \\n\\nA unity agenda for the nation. \\n\\nWe can do this. \\n\\nMy fellow Americans—tonight , we have gathered in a sacred space—the citadel of our democracy. \\n\\nIn this Capitol, generation after generation, Americans have debated great questions amid great strife, and have done great things. \\n\\nWe have fought for freedom, expanded liberty, defeated totalitarianism and terror. \\n\\nAnd built the strongest, freest, and most prosperous nation the world has ever known. \\n\\nNow is the hour. \\n\\nOur moment of responsibility. \\n\\nOur test of resolve and conscience, of history itself. \\n\\nIt is in this moment that our character is formed. Our purpose is found. Our future is forged. \\n\\nWell I know this nation.\\nSource: 34-pl\\n=========\\nFINAL ANSWER: The president did not mention Michael Jackson.\\nSOURCES:\\n\\nQUESTION: {question}\\n=========\\n{summaries}\\n=========\\nFINAL ANSWER:'"
      ]
     },
     "execution_count": 91,
     "metadata": {},
     "output_type": "execute_result"
    }
   ],
   "source": [
    "\"\"\"Given the following extracted parts of a long document and a question, create a final answer with references (\"SOURCES\"). \n",
    "If you don't know the answer, just say that you don't know. Don't try to make up an answer.\n",
    "ALWAYS return a \"SOURCES\" part in your answer.\n",
    "\n",
    "QUESTION: Which state/country's law governs the interpretation of the contract?\n",
    "=========\n",
    "Content: This Agreement is governed by English law and the parties submit to the exclusive jurisdiction of the English courts in  relation to any dispute (contractual or non-contractual) concerning this Agreement save that either party may apply to any court for an  injunction or other relief to protect its Intellectual Property Rights.\n",
    "Source: 28-pl\n",
    "Content: No Waiver. Failure or delay in exercising any right or remedy under this Agreement shall not constitute a waiver of such (or any other)  right or remedy.\n",
    "\n",
    "11.7 Severability. The invalidity, illegality or unenforceability of any term (or part of a term) of this Agreement shall not affect the continuation  in force of the remainder of the term (if any) and this Agreement.\n",
    "\n",
    "11.8 No Agency. Except as expressly stated otherwise, nothing in this Agreement shall create an agency, partnership or joint venture of any  kind between the parties.\n",
    "\n",
    "11.9 No Third-Party Beneficiaries.\n",
    "Source: 30-pl\n",
    "Content: (b) if Google believes, in good faith, that the Distributor has violated or caused Google to violate any Anti-Bribery Laws (as  defined in Clause 8.5) or that such a violation is reasonably likely to occur,\n",
    "Source: 4-pl\n",
    "=========\n",
    "FINAL ANSWER: This Agreement is governed by English law.\n",
    "SOURCES: 28-pl\n",
    "\n",
    "QUESTION: What did the president say about Michael Jackson?\n",
    "=========\n",
    "Content: Madam Speaker, Madam Vice President, our First Lady and Second Gentleman. Members of Congress and the Cabinet. Justices of the Supreme Court. My fellow Americans.  \n",
    "\n",
    "Last year COVID-19 kept us apart. This year we are finally together again. \n",
    "\n",
    "Tonight, we meet as Democrats Republicans and Independents. But most importantly as Americans. \n",
    "\n",
    "With a duty to one another to the American people to the Constitution. \n",
    "\n",
    "And with an unwavering resolve that freedom will always triumph over tyranny. \n",
    "\n",
    "Six days ago, Russia’s Vladimir Putin sought to shake the foundations of the free world thinking he could make it bend to his menacing ways. But he badly miscalculated. \n",
    "\n",
    "He thought he could roll into Ukraine and the world would roll over. Instead he met a wall of strength he never imagined. \n",
    "\n",
    "He met the Ukrainian people. \n",
    "\n",
    "From President Zelenskyy to every Ukrainian, their fearlessness, their courage, their determination, inspires the world. \n",
    "\n",
    "Groups of citizens blocking tanks with their bodies. Everyone from students to retirees teachers turned soldiers defending their homeland.\n",
    "Source: 0-pl\n",
    "Content: And we won’t stop. \n",
    "\n",
    "We have lost so much to COVID-19. Time with one another. And worst of all, so much loss of life. \n",
    "\n",
    "Let’s use this moment to reset. Let’s stop looking at COVID-19 as a partisan dividing line and see it for what it is: A God-awful disease.  \n",
    "\n",
    "Let’s stop seeing each other as enemies, and start seeing each other for who we really are: Fellow Americans.  \n",
    "\n",
    "We can’t change how divided we’ve been. But we can change how we move forward—on COVID-19 and other issues we must face together. \n",
    "\n",
    "I recently visited the New York City Police Department days after the funerals of Officer Wilbert Mora and his partner, Officer Jason Rivera. \n",
    "\n",
    "They were responding to a 9-1-1 call when a man shot and killed them with a stolen gun. \n",
    "\n",
    "Officer Mora was 27 years old. \n",
    "\n",
    "Officer Rivera was 22. \n",
    "\n",
    "Both Dominican Americans who’d grown up on the same streets they later chose to patrol as police officers. \n",
    "\n",
    "I spoke with their families and told them that we are forever in debt for their sacrifice, and we will carry on their mission to restore the trust and safety every community deserves.\n",
    "Source: 24-pl\n",
    "Content: And a proud Ukrainian people, who have known 30 years  of independence, have repeatedly shown that they will not tolerate anyone who tries to take their country backwards.  \n",
    "\n",
    "To all Americans, I will be honest with you, as I’ve always promised. A Russian dictator, invading a foreign country, has costs around the world. \n",
    "\n",
    "And I’m taking robust action to make sure the pain of our sanctions  is targeted at Russia’s economy. And I will use every tool at our disposal to protect American businesses and consumers. \n",
    "\n",
    "Tonight, I can announce that the United States has worked with 30 other countries to release 60 Million barrels of oil from reserves around the world.  \n",
    "\n",
    "America will lead that effort, releasing 30 Million barrels from our own Strategic Petroleum Reserve. And we stand ready to do more if necessary, unified with our allies.  \n",
    "\n",
    "These steps will help blunt gas prices here at home. And I know the news about what’s happening can seem alarming. \n",
    "\n",
    "But I want you to know that we are going to be okay.\n",
    "Source: 5-pl\n",
    "Content: More support for patients and families. \n",
    "\n",
    "To get there, I call on Congress to fund ARPA-H, the Advanced Research Projects Agency for Health. \n",
    "\n",
    "It’s based on DARPA—the Defense Department project that led to the Internet, GPS, and so much more.  \n",
    "\n",
    "ARPA-H will have a singular purpose—to drive breakthroughs in cancer, Alzheimer’s, diabetes, and more. \n",
    "\n",
    "A unity agenda for the nation. \n",
    "\n",
    "We can do this. \n",
    "\n",
    "My fellow Americans—tonight , we have gathered in a sacred space—the citadel of our democracy. \n",
    "\n",
    "In this Capitol, generation after generation, Americans have debated great questions amid great strife, and have done great things. \n",
    "\n",
    "We have fought for freedom, expanded liberty, defeated totalitarianism and terror. \n",
    "\n",
    "And built the strongest, freest, and most prosperous nation the world has ever known. \n",
    "\n",
    "Now is the hour. \n",
    "\n",
    "Our moment of responsibility. \n",
    "\n",
    "Our test of resolve and conscience, of history itself. \n",
    "\n",
    "It is in this moment that our character is formed. Our purpose is found. Our future is forged. \n",
    "\n",
    "Well I know this nation.\n",
    "Source: 34-pl\n",
    "=========\n",
    "FINAL ANSWER: The president did not mention Michael Jackson.\n",
    "SOURCES:\n",
    "\n",
    "QUESTION: {question}\n",
    "=========\n",
    "{summaries}\n",
    "=========\n",
    "FINAL ANSWER:\"\"\""
   ]
  },
  {
   "cell_type": "code",
   "execution_count": 92,
   "metadata": {},
   "outputs": [],
   "source": [
    "# from langchain.prompts import PromptTemplate\n",
    "\n",
    "# template = \"\"\"Given the following extracted parts of a long document and a question, create a final answer with references (\"SOURCES\"). \n",
    "# If you don't know the answer, just say that you don't know. Don't try to make up an answer.\n",
    "# ALWAYS return a \"SOURCES\" part in your answer.\n",
    "\n",
    "# QUESTION: Which state/country's law governs the interpretation of the contract?\n",
    "# =========\n",
    "# Content: This Agreement is governed by English law and the parties submit to the exclusive jurisdiction of the English courts in  relation to any dispute (contractual or non-contractual) concerning this Agreement save that either party may apply to any court for an  injunction or other relief to protect its Intellectual Property Rights.\n",
    "# Source: 28-pl\n",
    "# Content: No Waiver. Failure or delay in exercising any right or remedy under this Agreement shall not constitute a waiver of such (or any other)  right or remedy.\\n\\n11.7 Severability. The invalidity, illegality or unenforceability of any term (or part of a term) of this Agreement shall not affect the continuation  in force of the remainder of the term (if any) and this Agreement.\\n\\n11.8 No Agency. Except as expressly stated otherwise, nothing in this Agreement shall create an agency, partnership or joint venture of any  kind between the parties.\\n\\n11.9 No Third-Party Beneficiaries.\n",
    "# Source: 30-pl\n",
    "# Content: (b) if Google believes, in good faith, that the Distributor has violated or caused Google to violate any Anti-Bribery Laws (as  defined in Clause 8.5) or that such a violation is reasonably likely to occur,\n",
    "# Source: 4-pl\n",
    "# =========\n",
    "# FINAL ANSWER: This Agreement is governed by English law.\n",
    "# SOURCES: 28-pl\n",
    "\n",
    "# QUESTION: What did the president say about Michael Jackson?\n",
    "# =========\n",
    "# Content: Madam Speaker, Madam Vice President, our First Lady and Second Gentleman. Members of Congress and the Cabinet. Justices of the Supreme Court. My fellow Americans.  \\n\\nLast year COVID-19 kept us apart. This year we are finally together again. \\n\\nTonight, we meet as Democrats Republicans and Independents. But most importantly as Americans. \\n\\nWith a duty to one another to the American people to the Constitution. \\n\\nAnd with an unwavering resolve that freedom will always triumph over tyranny. \\n\\nSix days ago, Russia’s Vladimir Putin sought to shake the foundations of the free world thinking he could make it bend to his menacing ways. But he badly miscalculated. \\n\\nHe thought he could roll into Ukraine and the world would roll over. Instead he met a wall of strength he never imagined. \\n\\nHe met the Ukrainian people. \\n\\nFrom President Zelenskyy to every Ukrainian, their fearlessness, their courage, their determination, inspires the world. \\n\\nGroups of citizens blocking tanks with their bodies. Everyone from students to retirees teachers turned soldiers defending their homeland.\n",
    "# Source: 0-pl\n",
    "# Content: And we won’t stop. \\n\\nWe have lost so much to COVID-19. Time with one another. And worst of all, so much loss of life. \\n\\nLet’s use this moment to reset. Let’s stop looking at COVID-19 as a partisan dividing line and see it for what it is: A God-awful disease.  \\n\\nLet’s stop seeing each other as enemies, and start seeing each other for who we really are: Fellow Americans.  \\n\\nWe can’t change how divided we’ve been. But we can change how we move forward—on COVID-19 and other issues we must face together. \\n\\nI recently visited the New York City Police Department days after the funerals of Officer Wilbert Mora and his partner, Officer Jason Rivera. \\n\\nThey were responding to a 9-1-1 call when a man shot and killed them with a stolen gun. \\n\\nOfficer Mora was 27 years old. \\n\\nOfficer Rivera was 22. \\n\\nBoth Dominican Americans who’d grown up on the same streets they later chose to patrol as police officers. \\n\\nI spoke with their families and told them that we are forever in debt for their sacrifice, and we will carry on their mission to restore the trust and safety every community deserves.\n",
    "# Source: 24-pl\n",
    "# Content: And a proud Ukrainian people, who have known 30 years  of independence, have repeatedly shown that they will not tolerate anyone who tries to take their country backwards.  \\n\\nTo all Americans, I will be honest with you, as I’ve always promised. A Russian dictator, invading a foreign country, has costs around the world. \\n\\nAnd I’m taking robust action to make sure the pain of our sanctions  is targeted at Russia’s economy. And I will use every tool at our disposal to protect American businesses and consumers. \\n\\nTonight, I can announce that the United States has worked with 30 other countries to release 60 Million barrels of oil from reserves around the world.  \\n\\nAmerica will lead that effort, releasing 30 Million barrels from our own Strategic Petroleum Reserve. And we stand ready to do more if necessary, unified with our allies.  \\n\\nThese steps will help blunt gas prices here at home. And I know the news about what’s happening can seem alarming. \\n\\nBut I want you to know that we are going to be okay.\n",
    "# Source: 5-pl\n",
    "# Content: More support for patients and families. \\n\\nTo get there, I call on Congress to fund ARPA-H, the Advanced Research Projects Agency for Health. \\n\\nIt’s based on DARPA—the Defense Department project that led to the Internet, GPS, and so much more.  \\n\\nARPA-H will have a singular purpose—to drive breakthroughs in cancer, Alzheimer’s, diabetes, and more. \\n\\nA unity agenda for the nation. \\n\\nWe can do this. \\n\\nMy fellow Americans—tonight , we have gathered in a sacred space—the citadel of our democracy. \\n\\nIn this Capitol, generation after generation, Americans have debated great questions amid great strife, and have done great things. \\n\\nWe have fought for freedom, expanded liberty, defeated totalitarianism and terror. \\n\\nAnd built the strongest, freest, and most prosperous nation the world has ever known. \\n\\nNow is the hour. \\n\\nOur moment of responsibility. \\n\\nOur test of resolve and conscience, of history itself. \\n\\nIt is in this moment that our character is formed. Our purpose is found. Our future is forged. \\n\\nWell I know this nation.\n",
    "# Source: 34-pl\n",
    "# =========\n",
    "# FINAL ANSWER: The president did not mention Michael Jackson.\n",
    "# SOURCES:\n",
    "\n",
    "# QUESTION: {question}\n",
    "# =========\n",
    "# {summaries}\n",
    "# =========\n",
    "# FINAL ANSWER:\"\"\"\n",
    "# PROMPT = PromptTemplate(template=template, input_variables=[\"summaries\", \"question\"])\n",
    "\n",
    "# EXAMPLE_PROMPT = PromptTemplate(\n",
    "#     template=\"Content: {page_content}\\nSource: {source}\",\n",
    "#     input_variables=[\"page_content\", \"source\"],\n",
    "# )"
   ]
  },
  {
   "cell_type": "code",
   "execution_count": null,
   "metadata": {},
   "outputs": [],
   "source": []
  },
  {
   "cell_type": "code",
   "execution_count": 93,
   "metadata": {},
   "outputs": [
    {
     "data": {
      "text/plain": [
       "'Write a comprehensive summary of this financial report. \\n\\nDivide it into,\\n1. Financial highlights\\n2. Analysis of Financial results\\n3. Trends\\n4. Risks\\n5. Conclusion\\n\\n{text}\\n\\nSUMMARY:'"
      ]
     },
     "execution_count": 93,
     "metadata": {},
     "output_type": "execute_result"
    }
   ],
   "source": [
    "\"\"\"Write a comprehensive summary of this financial report. \n",
    "\n",
    "Divide it into,\n",
    "1. Financial highlights\n",
    "2. Analysis of Financial results\n",
    "3. Trends\n",
    "4. Risks\n",
    "5. Conclusion\n",
    "\n",
    "{text}\n",
    "\n",
    "SUMMARY:\"\"\""
   ]
  },
  {
   "cell_type": "code",
   "execution_count": null,
   "metadata": {},
   "outputs": [],
   "source": []
  },
  {
   "cell_type": "code",
   "execution_count": null,
   "metadata": {},
   "outputs": [],
   "source": []
  },
  {
   "cell_type": "code",
   "execution_count": null,
   "metadata": {},
   "outputs": [],
   "source": [
    "\n"
   ]
  },
  {
   "cell_type": "code",
   "execution_count": null,
   "metadata": {},
   "outputs": [],
   "source": [
    "\n",
    "\n"
   ]
  },
  {
   "cell_type": "code",
   "execution_count": 94,
   "metadata": {},
   "outputs": [],
   "source": [
    "#tokens viz #todo"
   ]
  },
  {
   "cell_type": "code",
   "execution_count": null,
   "metadata": {},
   "outputs": [],
   "source": [
    "\n"
   ]
  },
  {
   "cell_type": "code",
   "execution_count": null,
   "metadata": {},
   "outputs": [],
   "source": [
    "\n",
    "\n",
    "\n",
    "    "
   ]
  },
  {
   "cell_type": "code",
   "execution_count": null,
   "metadata": {},
   "outputs": [],
   "source": []
  },
  {
   "cell_type": "code",
   "execution_count": null,
   "metadata": {},
   "outputs": [],
   "source": [
    "\n"
   ]
  },
  {
   "cell_type": "code",
   "execution_count": null,
   "metadata": {},
   "outputs": [],
   "source": [
    "\n",
    "\n",
    "\n",
    "\n"
   ]
  },
  {
   "cell_type": "code",
   "execution_count": null,
   "metadata": {},
   "outputs": [],
   "source": []
  },
  {
   "cell_type": "code",
   "execution_count": null,
   "metadata": {},
   "outputs": [],
   "source": []
  },
  {
   "cell_type": "code",
   "execution_count": 95,
   "metadata": {},
   "outputs": [
    {
     "name": "stdout",
     "output_type": "stream",
     "text": [
      "No documents: 2\n"
     ]
    },
    {
     "data": {
      "text/plain": [
       "[Document(page_content='JPMORGAN CHASE BANK, NATIONAL ASSOCIATION (a wholly-owned subsidiary of JPMorgan Chase & Co.)\\n\\nCONSOLIDATED FINANCIAL STATEMENTS For the three years ended December 31, 2022\\n\\nJPMorgan Chase Bank, National Association/2022 Consolidated Financial Statements\\n\\n2\\n\\nConsolidated statements of income JPMorgan Chase Bank, National Association (a wholly-owned subsidiary of JPMorgan Chase & Co.)\\n\\nYear ended December 31, (in millions)\\n\\n2022\\n\\n2021\\n\\n2020\\n\\nRevenue\\n\\nInvestment banking fees\\n\\nPrincipal transactions\\n\\nLending- and deposit-related fees\\n\\nAsset management, administration and commissions\\n\\nInvestment securities gains/(losses)\\n\\nMortgage fees and related income\\n\\nCard income\\n\\nOther income\\n\\nNoninterest revenue\\n\\nInterest income\\n\\nInterest expense\\n\\nNet interest income\\n\\nTotal net revenue\\n\\nProvision for credit losses\\n\\nNoninterest expense\\n\\nCompensation expense\\n\\nOccupancy expense\\n\\nTechnology, communications and equipment expense\\n\\nProfessional and outside services\\n\\nMarketing\\n\\nOther expense\\n\\nTotal noninterest expense\\n\\nIncome before income tax expense\\n\\nIncome tax expense\\n\\nNet income\\n\\n$\\n\\n2,955\\n\\n$\\n\\n5,232\\n\\n$\\n\\n17,895\\n\\n7,095\\n\\n13,935\\n\\n(2,380)\\n\\n1,250\\n\\n4,421\\n\\n5,384\\n\\n50,555\\n\\n84,097\\n\\n15,675\\n\\n68,422\\n\\n118,977\\n\\n13,677\\n\\n7,031\\n\\n14,021\\n\\n(345)\\n\\n2,170\\n\\n5,102\\n\\n5,511\\n\\n52,399\\n\\n53,870\\n\\n2,064\\n\\n51,806\\n\\n104,205\\n\\n3,527\\n\\n14,784\\n\\n6,510\\n\\n12,406\\n\\n802\\n\\n3,092\\n\\n4,435\\n\\n5,931\\n\\n51,487\\n\\n58,900\\n\\n4,987\\n\\n53,913\\n\\n105,400\\n\\n6,347\\n\\n(9,296)\\n\\n17,483\\n\\n34,000\\n\\n4,469\\n\\n8,646\\n\\n6,983\\n\\n3,877\\n\\n10,761\\n\\n68,736\\n\\n43,894\\n\\n9,552\\n\\n31,212\\n\\n4,313\\n\\n9,304\\n\\n6,510\\n\\n2,936\\n\\n10,170\\n\\n64,445\\n\\n49,056\\n\\n11,001\\n\\n$\\n\\n34,342 $\\n\\n38,055 $\\n\\n28,725\\n\\n4,249\\n\\n9,890\\n\\n5,692\\n\\n2,338\\n\\n9,821\\n\\n60,715\\n\\n27,202\\n\\n6,170\\n\\n21,032\\n\\nThe Notes to Consolidated Financial Statements are an integral part of these statements.\\n\\nJPMorgan Chase Bank, National Association/2022 Consolidated Financial Statements\\n\\n3\\n\\nConsolidated statements of comprehensive income JPMorgan Chase Bank, National Association (a wholly-owned subsidiary of JPMorgan Chase & Co.)\\n\\nYear ended December 31, (in millions)\\n\\nNet income\\n\\nOther comprehensive income/(loss), after–tax\\n\\nUnrealized gains/(losses) on investment securities\\n\\nTranslation adjustments, net of hedges\\n\\nCash flow hedges\\n\\nDefined benefit pension and OPEB plans\\n\\nDVA on fair value option elected liabilities\\n\\nTotal other comprehensive income/(loss), after–tax\\n\\nComprehensive income\\n\\n2022\\n\\n2021\\n\\n$\\n\\n34,342 $\\n\\n38,055 $\\n\\n(11,751)\\n\\n(555)\\n\\n(5,359)\\n\\n(742)\\n\\n265\\n\\n(18,142)\\n\\n(5,516)\\n\\n(442)\\n\\n(2,679)\\n\\n688\\n\\n(291)\\n\\n(8,240)\\n\\n$\\n\\n16,200 $\\n\\n29,815 $\\n\\n2020\\n\\n21,032\\n\\n4,146\\n\\n242\\n\\n2,322\\n\\n(3)\\n\\n(45)\\n\\n6,662\\n\\n27,694\\n\\nThe Notes to Consolidated Financial Statements are an integral part of these statements.\\n\\n4\\n\\nJPMorgan Chase Bank, National Association/2022 Consolidated Financial Statements\\n\\nConsolidated balance sheets JPMorgan Chase Bank, National Association (a wholly-owned subsidiary of JPMorgan Chase & Co.)\\n\\nDecember 31, (in millions, except share data) Assets\\n\\nCash and due from banks\\n\\nDeposits with banks\\n\\nFederal funds sold and securities purchased under resale agreements (included $193,945 and $176,980 at fair value) Securities borrowed (included $22,454 and $32,112 at fair value) Trading assets (included assets pledged of $39,458 and $49,335(a)) Available-for-sale securities (amortized cost of $216,103 and $308,039, included assets pledged of $15,274 and $31,124(a)) Held-to-maturity securities\\n\\nInvestment securities, net of allowance for credit losses\\n\\nLoans (included $41,795 and $58,471 at fair value) Allowance for loan losses\\n\\nLoans, net of allowance for loan losses\\n\\nAccrued interest and accounts receivable\\n\\nPremises and equipment\\n\\nGoodwill, MSRs and other intangible assets Other assets (included $12,667 and $11,016 at fair value and assets pledged of $2,505 and $1,750) Total assets(b)\\n\\nLiabilities Deposits (included $28,742 and $11,479 at fair value) Federal funds purchased and securities loaned or sold under repurchase agreements (included $75,327 and $81,545 at fair value)\\n\\nShort-term borrowings (included $7,796 and $11,619 at fair value)\\n\\nTrading liabilities\\n\\nAccounts payable and other liabilities (included $7,760 and $7,366 at fair value)\\n\\nBeneficial interests issued by consolidated variable interest entities Long-term debt (included $27,145 and $35,633 at fair value) Total liabilities(b)\\n\\nCommitments and contingencies (refer to Notes 26, 27 and 28)\\n\\nStockholder’s equity\\n\\nPreferred stock ($1 par value; authorized 15,000,000 shares: issued 0 shares)\\n\\nCommon stock ($12 par value; authorized 200,000,000 shares; issued 168,971,750 shares)\\n\\nAdditional paid-in capital\\n\\nRetained earnings Accumulated other comprehensive income/(loss) Total stockholder’s equity Total liabilities and stockholder’s equity\\n\\n2022\\n\\n2021\\n\\n$\\n\\n27,258 $\\n\\n25,657\\n\\n538,715\\n\\n259,460 53,642 288,420\\n\\n205,790 425,305\\n\\n631,095\\n\\n713,660\\n\\n227,457 65,111 293,428\\n\\n308,318 363,707\\n\\n672,025\\n\\n1,132,985 (19,714)\\n\\n1,075,106 (16,378)\\n\\n1,113,271\\n\\n1,058,728\\n\\n89,373\\n\\n26,347\\n\\n48,600 125,761\\n\\n76,345\\n\\n25,757\\n\\n45,831 102,983\\n\\n$ 3,201,942\\n\\n$ 3,306,982\\n\\n$ 2,440,722\\n\\n$ 2,549,631\\n\\n85,902\\n\\n10,074\\n\\n116,629\\n\\n156,433\\n\\n13,424 75,138\\n\\n102,266\\n\\n13,423\\n\\n111,017\\n\\n133,034\\n\\n10,721 84,042\\n\\n2,898,322\\n\\n3,004,134\\n\\n—\\n\\n2,028\\n\\n118,293\\n\\n—\\n\\n2,028\\n\\n118,221\\n\\n201,263 (17,964) 303,620 $ 3,201,942\\n\\n182,421 178 302,848 $ 3,306,982\\n\\n(a) Prior-period amounts have been revised to conform with the current presentation. (b) The following table presents information on assets and liabilities related to variable interest entities (“VIEs”) that are consolidated by the Bank at December 31, 2022 and 2021. The assets of the consolidated VIEs are used to settle the liabilities of those entities. The holders of the beneficial interests generally do not have recourse to the general credit of the Bank. The assets and liabilities in the table below include third-party assets and liabilities of consolidated VIEs (including balances with related parties) and exclude intercompany balances that eliminate in consolidation. Refer to Note 15 for a further discussion.\\n\\nDecember 31, (in millions)\\n\\nAssets\\n\\nTrading assets Loans All other assets Total assets\\n\\nLiabilities\\n\\nBeneficial interests issued by consolidated VIEs All other liabilities Total liabilities\\n\\n2022\\n\\n2021\\n\\n$\\n\\n2,089 34,394 290 36,773 $\\n\\n$\\n\\n13,424 132 13,556 $\\n\\n1,990 33,001 207 35,198\\n\\n10,721 144 10,865\\n\\n$\\n\\n$\\n\\n$\\n\\n$\\n\\nThe Notes to Consolidated Financial Statements are an integral part of these statements.\\n\\nJPMorgan Chase Bank, National Association/2022 Consolidated Financial Statements\\n\\n5\\n\\nConsolidated statements of changes in stockholder’s equity JPMorgan Chase Bank, National Association (a wholly-owned subsidiary of JPMorgan Chase & Co.)\\n\\nYear ended December 31, (in millions)\\n\\nCommon stock\\n\\nBalance at January 1 and December 31\\n\\nAdditional paid-in capital\\n\\nBalance at January 1\\n\\nCash capital contribution from JPMorgan Chase & Co.\\n\\nOther\\n\\nBalance at December 31\\n\\nRetained earnings\\n\\nBalance at January 1\\n\\nCumulative effect of change in accounting principles\\n\\nNet income\\n\\nCash dividends paid to JPMorgan Chase & Co.\\n\\nBalance at December 31\\n\\nAccumulated other comprehensive income/(loss)\\n\\nBalance at January 1\\n\\nOther comprehensive income/(loss), after-tax\\n\\nBalance at December 31\\n\\nTotal stockholder’s equity\\n\\n2022\\n\\n2021\\n\\n2020\\n\\n$\\n\\n2,028\\n\\n$\\n\\n2,028\\n\\n$\\n\\n2,028\\n\\n118,221\\n\\n115,248\\n\\n110,297\\n\\n—\\n\\n72\\n\\n3,000\\n\\n(27)\\n\\n5,000\\n\\n(49)\\n\\n118,293\\n\\n118,221\\n\\n115,248\\n\\n182,421\\n\\n144,366\\n\\n132,016\\n\\n—\\n\\n—\\n\\n34,342\\n\\n38,055\\n\\n(15,500)\\n\\n—\\n\\n(2,682)\\n\\n21,032\\n\\n(6,000)\\n\\n201,263\\n\\n182,421\\n\\n144,366\\n\\n178\\n\\n(18,142)\\n\\n(17,964)\\n\\n8,418\\n\\n(8,240)\\n\\n178\\n\\n1,756\\n\\n6,662\\n\\n8,418\\n\\n$ 303,620 $ 302,848 $ 270,060\\n\\nEffective January 1, 2020, the Bank adopted the CECL accounting guidance. Refer to Note 1 for further information.\\n\\nThe Notes to Consolidated Financial Statements are an integral part of these statements.\\n\\n6\\n\\nJPMorgan Chase Bank, National Association/2022 Consolidated Financial Statements\\n\\nConsolidated statements of cash flows JPMorgan Chase Bank, National Association (a wholly-owned subsidiary of JPMorgan Chase & Co.)\\n\\nYear ended December 31, (in millions)\\n\\nOperating activities\\n\\nNet income\\n\\nAdjustments to reconcile net income to net cash provided by/(used in) operating activities:\\n\\nProvision for credit losses\\n\\nDepreciation and amortization\\n\\nDeferred tax (benefit)/expense\\n\\nOther\\n\\nOriginations and purchases of loans held-for-sale\\n\\nProceeds from sales, securitizations and paydowns of loans held-for-sale\\n\\nNet change in:\\n\\nTrading assets\\n\\nSecurities borrowed\\n\\nAccrued interest and accounts receivable\\n\\nOther assets\\n\\nTrading liabilities\\n\\nAccounts payable and other liabilities\\n\\nOther operating adjustments\\n\\nNet cash provided by/(used in) operating activities\\n\\nInvesting activities\\n\\nNet change in:\\n\\n2022\\n\\n2021\\n\\n2020\\n\\n$ 34,342\\n\\n$ 38,055\\n\\n$ 21,032\\n\\n6,347\\n\\n6,590\\n\\n(3,542)\\n\\n2,380\\n\\n(9,296)\\n\\n17,483\\n\\n7,535\\n\\n2,147\\n\\n345\\n\\n8,355\\n\\n(3,819)\\n\\n(802)\\n\\n(149,091)\\n\\n(347,864)\\n\\n(166,499)\\n\\n167,713\\n\\n336,404\\n\\n175,426\\n\\n14,114\\n\\n10,973\\n\\n25,806\\n\\n(102,464)\\n\\n(20,978)\\n\\n(5,427)\\n\\n(13,088)\\n\\n(4,722)\\n\\n(17,569)\\n\\n(29,954)\\n\\n21,442\\n\\n(26,435)\\n\\n7,404\\n\\n(38,612)\\n\\n62,987\\n\\n46,646\\n\\n12,529\\n\\n8\\n\\n284\\n\\n1,455\\n\\n1,163\\n\\n100,842\\n\\n23,075\\n\\n(35,114)\\n\\nFederal funds sold and securities purchased under resale agreements\\n\\n(32,211)\\n\\n116,694\\n\\n(132,774)\\n\\nHeld-to-maturity securities:\\n\\nProceeds from paydowns and maturities\\n\\nPurchases\\n\\nAvailable-for-sale securities:\\n\\nProceeds from paydowns and maturities\\n\\nProceeds from sales\\n\\nPurchases\\n\\nProceeds from sales and securitizations of loans held-for-investment\\n\\nOther changes in loans, net\\n\\nAll other investing activities, net\\n\\nNet cash (used in) investing activities\\n\\nFinancing activities\\n\\nNet change in:\\n\\nDeposits\\n\\nFederal funds purchased and securities loaned or sold under repurchase agreements\\n\\nShort-term borrowings\\n\\nBeneficial interests issued by consolidated VIEs\\n\\nProceeds from long-term borrowings\\n\\nPayments of long-term borrowings\\n\\nCash capital contribution from JPMorgan Chase & Co.\\n\\nDividends paid to JPMorgan Chase & Co.\\n\\nAll other financing activities, net\\n\\nNet cash provided by/(used in) financing activities\\n\\nEffect of exchange rate changes on cash and due from banks and deposits with banks\\n\\nNet increase/(decrease) in cash and due from banks and deposits with banks\\n\\nCash and due from banks and deposits with banks at the beginning of the period\\n\\nCash and due from banks and deposits with banks at the end of the period\\n\\nCash interest paid\\n\\nCash income taxes paid, net(a)\\n\\n48,626\\n\\n50,897\\n\\n21,360\\n\\n(33,676)\\n\\n(111,756)\\n\\n(12,400)\\n\\n39,048\\n\\n84,616\\n\\n49,505\\n\\n57,518\\n\\n162,642\\n\\n149,758\\n\\n(126,258)\\n\\n(248,784)\\n\\n(397,095)\\n\\n44,910\\n\\n35,843\\n\\n23,561\\n\\n(128,952)\\n\\n(91,019)\\n\\n(50,292)\\n\\n(8,017)\\n\\n(3,849)\\n\\n(2,609)\\n\\n(111,914)\\n\\n(39,827)\\n\\n(342,973)\\n\\n(111,772)\\n\\n274,351\\n\\n622,154\\n\\n(15,795)\\n\\n(33,459)\\n\\n49,262\\n\\n(2,122)\\n\\n1,886\\n\\n3,042\\n\\n(4,255)\\n\\n1,815\\n\\n1,329\\n\\n16,363\\n\\n29,783\\n\\n38,373\\n\\n(20,459)\\n\\n(29,389)\\n\\n(80,062)\\n\\n—\\n\\n3,000\\n\\n(15,500)\\n\\n576\\n\\n—\\n\\n(148)\\n\\n5,000\\n\\n(6,000)\\n\\n765\\n\\n(145,667)\\n\\n241,769\\n\\n632,636\\n\\n(16,605)\\n\\n(11,469)\\n\\n9,103\\n\\n(173,344)\\n\\n213,548\\n\\n263,652\\n\\n739,317\\n\\n525,769\\n\\n262,117\\n\\n$ 565,973\\n\\n$ 739,317\\n\\n$ 525,769\\n\\n$ 13,717\\n\\n$\\n\\n1,822\\n\\n$\\n\\n5,616\\n\\n9,586\\n\\n16,496\\n\\n9,848\\n\\n(a) Includes $12.5 billion, $13.3 billion and $7.4 billion paid to JPMorgan Chase & Co. in 2022, 2021 and 2020, respectively. Refer to Note 23 for discussion of income taxes.\\n\\nThe Notes to Consolidated Financial Statements are an integral part of these statements.\\n\\nJPMorgan Chase Bank, National Association/2022 Consolidated Financial Statements\\n\\n7\\n\\n134\\n\\nJPMorgan Chase Bank, National Association/2022 Consolidated Financial Statements', metadata={'source': 'files/JPMorgan_Chase_Bank_Annual_Consolidated_Financial_Statements_onlybalancesheet.pdf'}),\n",
       " Document(page_content='1Q23 Financial Results\\n\\nApril 14, 2023\\n\\n1Q23 Financial highlights\\n\\nROTCE1 23%\\n\\nCET1 capital ratios2 Std. 13.8% | Adv. 13.9% Total Loss-Absorbing Capacity2 $488B\\n\\nStd. RWA3 $1.7T Cash and marketable securities4 $1.4T Average loans $1.1T\\n\\nIncome statement\\n\\n⚫ 1Q23 net income of $12.6B and EPS of $4.10\\n\\n⚫ Managed revenue of $39.3B5\\n\\n– Included net investment securities losses of $868mm\\n\\n⚫ Expense of $20.1B and managed overhead ratio of 51%5\\n\\nBalance sheet\\n\\n⚫ Loans: average loans of $1.1T up 6% YoY and flat QoQ\\n\\n⚫ Deposits: average deposits of $2.3T down 8% YoY and down 3% QoQ\\n\\n⚫ CET1 capital of $227B2\\n\\n– Standardized CET1 capital ratio of 13.8%2; Advanced CET1 capital ratio of 13.9%2\\n\\nCapital distributed\\n\\n⚫ $1.9B of common stock net repurchases6\\n\\n⚫ Common dividend of $3.0B or $1.00 per share\\n\\n⚫ Net payout LTM of 33%7\\n\\nSIGNIFICANT ITEMS ($MM, EXCLUDING EPS)\\n\\n1 See note 3 on slide 10 2 Represents the estimated Basel III common equity Tier 1 (“CET1”) capital and ratio and Total Loss-Absorbing Capacity for the current period. See note 1 on slide 11 3 Standardized risk-weighted assets (“RWA”). Estimated for the current period. See note 1 on slide 11 4 Cash and marketable securities represents HQLA and unencumbered marketable securities. Estimated for the current period. See note 2 on slide 11 5 See note 1 on slide 10 6 Includes the net impact of employee issuances 7 Last twelve months (“LTM”). Net of stock issued to employees\\n\\n1\\n\\n1Q23 Financial results1\\n\\n$B, EXCEPT PER SHARE DATA\\n\\n1Q23 Tax rate Effective rate: 20.9% Managed rate: 25.6%1,6\\n\\nNote: Totals may not sum due to rounding 1 See note 1 on slide 10 2 Actual numbers for all periods, not over/(under) 3 See note 3 on slide 10 4 See note 2 on slide 10 5 See note 4 on slide 10 6 Reflects fully taxable-equivalent (“FTE”) adjustments of $987mm in 1Q23\\n\\n2\\n\\nFortress balance sheet\\n\\n$B, EXCEPT PER SHARE DATA\\n\\nSTANDARDIZED CET1 RATIO (%)1\\n\\n74 bps\\n\\n14 bps\\n\\n3 bps\\n\\n13.8%\\n\\n(29 bps)\\n\\n(9 bps)\\n\\n13.2%\\n\\nNet share repurchases: (12 bps)\\n\\n4Q22\\n\\nNet income5\\n\\nAOCI\\n\\n6\\n\\nCapital Distributions7\\n\\nRWA\\n\\nOther\\n\\n8\\n\\n1Q23\\n\\nSTANDARDIZED RISK-WEIGHTED ASSETS ($B)1\\n\\n1,654\\n\\n6\\n\\n1,650\\n\\n(6)\\n\\n(4)\\n\\n4Q22\\n\\nLoans\\n\\nMarket Risk\\n\\nCredit Risk ex. Loans\\n\\n1Q23\\n\\nNote: Totals may not sum due to rounding 1 Estimated for the current period. See note 1 on slide 11 2 Estimated for the current period. Represents the supplementary leverage ratio (“SLR”) 3 Estimated for the current period. Liquidity Coverage Ratio (“LCR”) represents the average LCR for the Firm and JPMorgan Chase Bank, N.A. (“Bank”). See note 2 on slide 11 4 See note 3 on slide 10 5 Reflects Net Income Applicable to Common Equity 6 Excludes AOCI on cash flow hedges and DVA related to structured notes 7 Includes net share repurchases and common dividends 8 Primarily CET1 capital deductions, including the impact of CECL. See note 1 on slide 11\\n\\n3\\n\\nConsumer & Community Banking1\\n\\nSELECTED INCOME STATEMENT DATA ($MM)\\n\\nFINANCIAL PERFORMANCE\\n\\nCCB\\n\\nCIB\\n\\nCB\\n\\nAWM\\n\\nCorp.\\n\\n⚫ Net income of $5.2B, up 80% YoY\\n\\n⚫ Revenue of $16.5B, up 35% YoY, driven by higher net interest income\\n\\n⚫ Expense of $8.1B, up 5% YoY, largely driven by higher compensation, including wage inflation and headcount growth, as well as investments in the business, largely offset by lower auto lease depreciation\\n\\n⚫ Credit costs of $1.4B\\n\\n⚫ NCOs of $1.1B, up $499mm YoY, predominantly driven by Card\\n\\nServices\\n\\n⚫ Reserve build of $300mm in Card Services and $50mm in Home\\n\\nLending\\n\\nKEY DRIVERS / STATISTICS ($B)3\\n\\nKEY DRIVERS / STATISTICS ($B) – DETAIL BY BUSINESS\\n\\n⚫ Average loans up 5% YoY and flat QoQ\\n\\n⚫ Average deposits down 4% YoY and 3% QoQ\\n\\n⚫ EOP deposits down 4% YoY and up 1% QoQ\\n\\n⚫ Active mobile customers up 9% YoY\\n\\n⚫ Debit & credit card sales volume up 10% YoY ⚫ Client investment assets down 1% YoY and up 7% QoQ\\n\\n1 See note 1 on slide 10 2 See note 3 on slide 11 For additional footnotes see slide 12\\n\\n4\\n\\nCorporate & Investment Bank1\\n\\nSELECTED INCOME STATEMENT DATA ($MM)\\n\\nFINANCIAL PERFORMANCE\\n\\nCCB\\n\\nCIB\\n\\nCB\\n\\nAWM\\n\\nCorp.\\n\\nKEY DRIVERS / STATISTICS ($B)3\\n\\n⚫ Net income of $4.4B, up 1% YoY; revenue of $13.6B, flat YoY\\n\\n⚫ Banking revenue\\n\\n⚫ IB revenue of $1.6B, down 24% YoY\\n\\n– IB fees down 19% YoY, predominantly driven by lower debt\\n\\nunderwriting fees\\n\\n⚫ Payments revenue of $2.4B, up 26% YoY\\n\\n– Excluding the net impact of equity investments, primarily a gain in the prior year, up 55%, predominantly driven by higher rates, partially offset by lower deposit balances\\n\\n⚫ Lending revenue of $267mm, down 17% YoY, predominantly driven by mark-to-market losses on hedges of retained loans, largely offset by higher net interest income on higher loan balances\\n\\n⚫ Markets & Securities Services revenue\\n\\n⚫ Markets revenue of $8.4B, down 4% YoY\\n\\n– Fixed Income Markets revenue of $5.7B, flat YoY, reflecting higher revenue in Rates and Credit and lower revenue in Currencies & Emerging Markets\\n\\n– Equity Markets revenue of $2.7B, down 12% YoY, against a\\n\\nstrong first quarter in the prior year\\n\\n⚫ Securities Services revenue of $1.1B, up 7% YoY, driven by higher rates, partially offset by lower deposit balances and market levels\\n\\n⚫ Expense of $7.5B, up 2% YoY, reflecting higher compensation,\\n\\nincluding headcount growth and wage inflation, largely offset by lower revenue-related compensation\\n\\n⚫ Credit costs of $58mm\\n\\n1 See note 1 on slide 10 2 See note 3 on slide 11 For additional footnotes see slide 12\\n\\n5\\n\\nCommercial Banking1\\n\\nSELECTED INCOME STATEMENT DATA ($MM)\\n\\nFINANCIAL PERFORMANCE\\n\\nCCB\\n\\nCIB\\n\\nCB\\n\\nAWM\\n\\nCorp.\\n\\n⚫ Net income of $1.3B, up 58% YoY\\n\\n⚫ Revenue of $3.5B, up 46% YoY, driven by higher deposit margins,\\n\\npartially offset by lower deposit-related fees ⚫ Payments revenue of $2.0B, up 98% YoY ⚫ Gross IB revenue of $881mm, up 21% YoY\\n\\n⚫ Expense of $1.3B, up 16% YoY, largely driven by higher\\n\\ncompensation, including headcount growth, as well as higher volume- related expense\\n\\n⚫ Credit costs of $417mm, reflecting a net reserve build\\n\\n⚫ Average loans of $238B, up 13% YoY and up 1% QoQ\\n\\n⚫ C&I7 up 18% YoY and up 1% QoQ ⚫ CRE7 up 8% YoY and up 1% QoQ\\n\\n⚫ Average deposits of $266B, down 16% YoY and 5% QoQ,\\n\\npredominantly driven by continued attrition in non-operating deposits as well as seasonally lower balances\\n\\nKEY DRIVERS / STATISTICS ($B)2\\n\\n1 See note 1 on slide 10 For additional footnotes see slide 12\\n\\n6\\n\\nAsset & Wealth Management1\\n\\nSELECTED INCOME STATEMENT DATA ($MM)\\n\\nFINANCIAL PERFORMANCE\\n\\nCCB\\n\\nCIB\\n\\nCB\\n\\nAWM\\n\\nCorp.\\n\\n⚫ Net income of $1.4B, up 36% YoY\\n\\n⚫ Revenue of $4.8B, up 11% YoY, driven by higher deposit margins on lower balances and a valuation gain of $339mm on the Firm’s initial investment in the Asset Management joint venture in China as a result of taking 100% ownership, partially offset by the impact of lower average market levels on management fees and lower performance fees\\n\\n⚫ Expense of $3.1B, up 8% YoY, predominantly driven by higher\\n\\ncompensation, including headcount growth, higher revenue-related compensation and the impact of acquisitions\\n\\n⚫ AUM of $3.0T was up 2% YoY and client assets of $4.3T were up\\n\\n6% YoY, driven by continued net inflows ⚫ For the quarter, AUM had long-term net inflows of $47B and\\n\\nliquidity net inflows of $93B\\n\\n⚫ Average loans of $211B, down 1% YoY and down 1% QoQ\\n\\n⚫ Average deposits of $224B, down 22% YoY and down 5% QoQ\\n\\nKEY DRIVERS / STATISTICS ($B)2\\n\\n1 See note 1 on slide 10 2 Actual numbers for all periods, not over/(under)\\n\\n7\\n\\nCorporate1\\n\\nSELECTED INCOME STATEMENT DATA ($MM)\\n\\nFINANCIAL PERFORMANCE\\n\\nCCB\\n\\nCIB\\n\\nCB\\n\\nAWM\\n\\nCorp.\\n\\n⚫ Revenue was $985mm, up $1.9B YoY\\n\\n⚫ Net interest income was $1.7B, compared with a loss of $536mm\\n\\nin the prior year, due to the impact of higher rates\\n\\n⚫ Noninterest revenue was a loss of $755mm, compared with a loss\\n\\nof $345mm in the prior year, and included net investment securities losses of $868mm\\n\\n⚫ Expense: Noninterest expense of $160mm, down $24mm YoY\\n\\n⚫ Credit costs of $370mm, reflecting a net reserve build, driven by\\n\\nsingle name exposures\\n\\n1 See note 1 on slide 10\\n\\n8\\n\\nOutlook1\\n\\nFIRMWIDE\\n\\nExpect FY2023 net interest income and net interest income excluding Markets of ~$81B, market dependent\\n\\nSIGNIFICANT SOURCES OF UNCERTAINTY\\n\\n⚫ Deposit reprice (magnitude and timing)\\n\\n⚫ Consumer behavior and competitive dynamics\\n\\n⚫ Hard vs. soft landing\\n\\n⚫ Impacts both rates and loan growth\\n\\n⚫ Loan growth, including card revolve\\n\\n⚫ Securities reinvestment strategy\\n\\n⚫ Impact of policy choices\\n\\n⚫ Pace of quantitative tightening ⚫ Path of Fed Funds rate ⚫ Size and terms of RRP\\n\\nNII EX. MARKETS\\n\\n$21B\\n\\n~$60B\\n\\nRun-rate:\\n\\n$84B\\n\\n~$80B\\n\\nmid-70s ($B)\\n\\n1Q23\\n\\n2Q23 – 4Q23\\n\\nMedium-term\\n\\nExpect FY2023 adjusted expense of ~$81B, market dependent\\n\\nExpect FY2023 Card Services NCO rate of ~2.60%\\n\\n1\\n\\n2\\n\\n3\\n\\n1 See notes 1, 2 and 4 on slide 10\\n\\n9\\n\\nNotes on non-GAAP financial measures\\n\\n1.\\n\\n2.\\n\\n3.\\n\\n4.\\n\\n5.\\n\\nIn addition to analyzing the Firm’s results on a reported basis, management reviews Firmwide results, including the overhead ratio, on a “managed” basis; these Firmwide managed basis results are non-GAAP financial measures. The Firm also reviews the results of the lines of business on a managed basis. The Firm’s definition of managed basis starts, in each case, with the reported U.S. GAAP results and includes certain reclassifications to present total net revenue for the Firm and each of the reportable business segments on a fully taxable-equivalent basis. Accordingly, revenue from investments that receive tax credits and tax-exempt securities is presented in the managed results on a basis comparable to taxable investments and securities. These financial measures allow management to assess the comparability of revenue from year-to-year arising from both taxable and tax-exempt sources. The corresponding income tax impact related to tax-exempt items is recorded within income tax expense. These adjustments have no impact on net income as reported by the Firm as a whole or by the lines of business. For a reconciliation of the Firm’s results from a reported to managed basis, refer to page 7 of the Earnings Release Financial Supplement\\n\\nIn addition to reviewing net interest income (“NII”) and noninterest revenue (“NIR”) on a managed basis, management also reviews these metrics excluding CIB Markets (“Markets”, which is composed of Fixed Income Markets and Equity Markets). Markets revenue consists of principal transactions, fees, commissions and other income, as well as net interest income. These metrics, which exclude Markets, are non-GAAP financial measures. Management reviews these metrics to assess the performance of the Firm’s lending, investing (including asset-liability management) and deposit-raising activities, apart from any volatility associated with Markets activities. In addition, management also assesses Markets business performance on a total revenue basis as offsets may occur across revenue lines. For example, securities that generate net interest income may be risk-managed by derivatives that are reflected at fair value in principal transactions revenue. Management believes these measures provide investors and analysts with alternative measures to analyze the revenue trends of the Firm. For a reconciliation of NII and NIR from reported to excluding Markets, refer to page 29 of the Earnings Release Financial Supplement. For additional information on Markets revenue, refer to page 70 of the Firm’s 2022 Form 10-K\\n\\nTangible common equity (“TCE”), return on tangible common equity (“ROTCE”) and tangible book value per share (“TBVPS”), are each non-GAAP financial measures. TCE represents the Firm’s common stockholders’ equity (i.e., total stockholders’ equity less preferred stock) less goodwill and identifiable intangible assets (other than mortgage servicing rights), net of related deferred tax liabilities. For a reconciliation from common stockholders’ equity to TCE, refer to page 10 of the Earnings Release Financial Supplement. ROTCE measures the Firm’s net income applicable to common equity as a percentage of average TCE. TBVPS represents the Firm’s TCE at period-end divided by common shares at period-end. Book value per share was $94.34, $90.29 and $86.16 at March 31, 2023, December 31, 2022 and March 31, 2022, respectively. TCE, ROTCE and TBVPS are utilized by the Firm, as well as investors and analysts, in assessing the Firm’s use of equity\\n\\nAdjusted expense and adjusted overhead ratio are each non-GAAP financial measures. Adjusted expense represents noninterest expense excluding Firmwide legal expense of $176mm, $27mm and $119mm for the three months ended March 31, 2023, December 31, 2022 and March 31, 2022, respectively. The adjusted overhead ratio measures the Firm’s adjusted expense as a percentage of managed net revenue. Management believes this information helps investors understand the effect of these items on reported results and provides an alternate presentation of the Firm’s performance\\n\\nCorporate & Investment Bank (“CIB”) calculates the ratio of the allowance for loan losses to end-of-period loans (“ALL/EOP”) excluding the impact of consolidated Firm-administered multi-seller conduits and trade finance loans, to provide a more meaningful assessment of CIB’s allowance coverage ratio\\n\\n10\\n\\nAdditional notes\\n\\n1.\\n\\n2.\\n\\n3.\\n\\nReflects the Current Expected Credit Losses (\"CECL\") capital transition provisions. Beginning January 1, 2022, the $2.9B CECL capital benefit is being phased out at 25% per year over a three-year period. As of March 31, 2023, CET1 capital and Total Loss-Absorbing Capacity reflected the remaining $1.4B CECL benefit; as of December 31, 2022 and March 31, 2022, CET1 capital reflected a $2.2B benefit. Refer to Capital Risk Management on pages 86-96 of the Firm’s 2022 Form 10-K for additional information\\n\\nTotal excess high-quality liquid assets (“HQLA”) represent the average eligible unencumbered liquid assets that are in excess of what is required to meet the estimated Firm and Bank total net cash outflows over a prospective 30 calendar-day period of significant stress under the LCR rule. HQLA and unencumbered marketable securities, includes the Firm’s average eligible HQLA, other end-of-period HQLA-eligible securities which are included as part of the excess liquidity at the Bank that are not transferable to non-bank affiliates and thus excluded from the Firm’s LCR under the LCR rule, and other end-of-period unencumbered marketable securities, such as equity and debt securities. Does not include borrowing capacity at Federal Home Loan Banks and the discount window at the Federal Reserve Bank. Refer to Liquidity Risk Management on pages 97-104 of the Firm’s 2022 Form 10-K for additional information\\n\\nIn the first quarter of 2023, the allocations of revenue and expense to CCB associated with a Merchant Services revenue sharing agreement were discontinued and are now retained in Payments in CIB. Prior-period amounts have been revised to conform with the current presentation\\n\\n11\\n\\nAdditional notes on slides 4-6\\n\\nSlide 4 – Consumer & Community Banking\\n\\n3.\\n\\n4.\\n\\n5.\\n\\n6.\\n\\n7.\\n\\nActual numbers for all periods, not over/(under)\\n\\nUsers of all mobile platforms who have logged in within the past 90 days\\n\\nExcludes Commercial Card\\n\\nIncludes the impact of loans originated under the PPP. For further information, refer to page 13 of the Earnings Release Financial Supplement\\n\\nFirmwide mortgage origination volume was $6.8B, $8.5B and $30.2B for the three months ended March 31, 2023, December 31, 2022 and March 31, 2022, respectively\\n\\nSlide 5 – Corporate & Investment Bank\\n\\n3.\\n\\n4.\\n\\n5.\\n\\n6.\\n\\nActual numbers for all periods, not over/(under)\\n\\nClient deposits and other third-party liabilities pertain to the Payments and Securities Services businesses\\n\\nRepresents total merchant processing volume across CIB, CCB and CB\\n\\nLoans held-for-sale and loans at fair value were excluded when calculating the loan loss coverage ratio and net charge-off/(recovery) rate. ALL/EOP loans as reported was 1.31%, 1.22%, and 1.01% at March 31, 2023, December 31, 2022 and March 31, 2022, respectively. See note 5 on slide 10\\n\\nSlide 6 – Commercial Banking\\n\\n2.\\n\\n3.\\n\\n4.\\n\\n5.\\n\\n6.\\n\\n7.\\n\\nActual numbers for all periods, not over/(under)\\n\\nIn the fourth quarter of 2022, certain revenue from CIB Markets products was reclassified from investment banking to payments. Prior-period amounts have been revised to conform with the current presentation\\n\\nIncludes gross revenues earned by the Firm, that are subject to a revenue sharing arrangement with the CIB, for products sold to CB clients through the Investment Banking, Markets or Payments businesses. This includes revenues related to fixed income and equity markets products. Refer to page 61 of the Firm’s 2022 Form 10- K for discussion of revenue sharing\\n\\nIncludes the impact of loans originated under the PPP. For further information, refer to page 20 of the Earnings Release Financial Supplement\\n\\nLoans held-for-sale and loans at fair value were excluded when calculating the net charge-off/(recovery) rate and loan loss coverage ratio\\n\\nCommercial and Industrial (“C&I”) and Commercial Real Estate (“CRE”) groupings for CB are generally based on client segments and do not align with regulatory definitions\\n\\n12\\n\\nForward-looking statements\\n\\nThis presentation contains forward-looking statements within the meaning of the Private Securities Litigation Reform Act of 1995. These statements are based on the current beliefs and expectations of JPMorgan Chase & Co.’s management and are subject to significant risks and uncertainties. Actual results may differ from those set forth in the forward-looking statements. Factors that could cause JPMorgan Chase & Co.’s actual results to differ materially from those described in the forward-looking statements can be found in JPMorgan Chase & Co.’s Annual Report on Form 10-K for the year ended December 31, 2022, which has been filed with the Securities and Exchange Commission and is available on JPMorgan Chase & Co.’s website (https://jpmorganchaseco.gcs- web.com/financial-information/sec-filings), and on the Securities and Exchange Commission’s website (www.sec.gov). JPMorgan Chase & Co. does not undertake to update any forward-looking statements.\\n\\n13', metadata={'source': 'files/JPM_FinancialResult.pdf'})]"
      ]
     },
     "execution_count": 95,
     "metadata": {},
     "output_type": "execute_result"
    }
   ],
   "source": [
    "documents = pdf_loader(path=\"files//\",loader=\"unstructured\")\n",
    "documents "
   ]
  },
  {
   "cell_type": "code",
   "execution_count": 96,
   "metadata": {},
   "outputs": [
    {
     "data": {
      "text/plain": [
       "2"
      ]
     },
     "execution_count": 96,
     "metadata": {},
     "output_type": "execute_result"
    }
   ],
   "source": [
    "len(documents)"
   ]
  },
  {
   "cell_type": "code",
   "execution_count": 97,
   "metadata": {},
   "outputs": [
    {
     "data": {
      "text/plain": [
       "[Document(page_content='JPMORGAN CHASE BANK, NATIONAL ASSOCIATION (a wholly-owned subsidiary of JPMorgan Chase & Co.)\\n\\nCONSOLIDATED FINANCIAL STATEMENTS For the three years ended December 31, 2022\\n\\nJPMorgan Chase Bank, National Association/2022 Consolidated Financial Statements\\n\\n2\\n\\nConsolidated statements of income JPMorgan Chase Bank, National Association (a wholly-owned subsidiary of JPMorgan Chase & Co.)\\n\\nYear ended December 31, (in millions)\\n\\n2022\\n\\n2021\\n\\n2020\\n\\nRevenue\\n\\nInvestment banking fees\\n\\nPrincipal transactions\\n\\nLending- and deposit-related fees\\n\\nAsset management, administration and commissions\\n\\nInvestment securities gains/(losses)\\n\\nMortgage fees and related income\\n\\nCard income\\n\\nOther income\\n\\nNoninterest revenue\\n\\nInterest income\\n\\nInterest expense\\n\\nNet interest income\\n\\nTotal net revenue\\n\\nProvision for credit losses\\n\\nNoninterest expense\\n\\nCompensation expense\\n\\nOccupancy expense\\n\\nTechnology, communications and equipment expense\\n\\nProfessional and outside services\\n\\nMarketing\\n\\nOther expense\\n\\nTotal noninterest expense\\n\\nIncome before income tax expense\\n\\nIncome tax expense\\n\\nNet income\\n\\n$\\n\\n2,955\\n\\n$\\n\\n5,232\\n\\n$\\n\\n17,895\\n\\n7,095\\n\\n13,935\\n\\n(2,380)\\n\\n1,250\\n\\n4,421\\n\\n5,384\\n\\n50,555\\n\\n84,097\\n\\n15,675\\n\\n68,422\\n\\n118,977\\n\\n13,677\\n\\n7,031\\n\\n14,021\\n\\n(345)\\n\\n2,170\\n\\n5,102\\n\\n5,511\\n\\n52,399\\n\\n53,870\\n\\n2,064\\n\\n51,806\\n\\n104,205\\n\\n3,527\\n\\n14,784\\n\\n6,510\\n\\n12,406\\n\\n802\\n\\n3,092\\n\\n4,435\\n\\n5,931\\n\\n51,487\\n\\n58,900\\n\\n4,987\\n\\n53,913\\n\\n105,400\\n\\n6,347\\n\\n(9,296)\\n\\n17,483\\n\\n34,000\\n\\n4,469\\n\\n8,646\\n\\n6,983\\n\\n3,877\\n\\n10,761\\n\\n68,736\\n\\n43,894\\n\\n9,552\\n\\n31,212\\n\\n4,313\\n\\n9,304\\n\\n6,510\\n\\n2,936\\n\\n10,170\\n\\n64,445\\n\\n49,056\\n\\n11,001\\n\\n$\\n\\n34,342 $\\n\\n38,055 $\\n\\n28,725\\n\\n4,249\\n\\n9,890\\n\\n5,692\\n\\n2,338', metadata={'source': 'files/JPMorgan_Chase_Bank_Annual_Consolidated_Financial_Statements_onlybalancesheet.pdf'}),\n",
       " Document(page_content='2,936\\n\\n10,170\\n\\n64,445\\n\\n49,056\\n\\n11,001\\n\\n$\\n\\n34,342 $\\n\\n38,055 $\\n\\n28,725\\n\\n4,249\\n\\n9,890\\n\\n5,692\\n\\n2,338\\n\\n9,821\\n\\n60,715\\n\\n27,202\\n\\n6,170\\n\\n21,032\\n\\nThe Notes to Consolidated Financial Statements are an integral part of these statements.\\n\\nJPMorgan Chase Bank, National Association/2022 Consolidated Financial Statements\\n\\n3\\n\\nConsolidated statements of comprehensive income JPMorgan Chase Bank, National Association (a wholly-owned subsidiary of JPMorgan Chase & Co.)\\n\\nYear ended December 31, (in millions)\\n\\nNet income\\n\\nOther comprehensive income/(loss), after–tax\\n\\nUnrealized gains/(losses) on investment securities\\n\\nTranslation adjustments, net of hedges\\n\\nCash flow hedges\\n\\nDefined benefit pension and OPEB plans\\n\\nDVA on fair value option elected liabilities\\n\\nTotal other comprehensive income/(loss), after–tax\\n\\nComprehensive income\\n\\n2022\\n\\n2021\\n\\n$\\n\\n34,342 $\\n\\n38,055 $\\n\\n(11,751)\\n\\n(555)\\n\\n(5,359)\\n\\n(742)\\n\\n265\\n\\n(18,142)\\n\\n(5,516)\\n\\n(442)\\n\\n(2,679)\\n\\n688\\n\\n(291)\\n\\n(8,240)\\n\\n$\\n\\n16,200 $\\n\\n29,815 $\\n\\n2020\\n\\n21,032\\n\\n4,146\\n\\n242\\n\\n2,322\\n\\n(3)\\n\\n(45)\\n\\n6,662\\n\\n27,694\\n\\nThe Notes to Consolidated Financial Statements are an integral part of these statements.\\n\\n4\\n\\nJPMorgan Chase Bank, National Association/2022 Consolidated Financial Statements\\n\\nConsolidated balance sheets JPMorgan Chase Bank, National Association (a wholly-owned subsidiary of JPMorgan Chase & Co.)\\n\\nDecember 31, (in millions, except share data) Assets\\n\\nCash and due from banks\\n\\nDeposits with banks', metadata={'source': 'files/JPMorgan_Chase_Bank_Annual_Consolidated_Financial_Statements_onlybalancesheet.pdf'}),\n",
       " Document(page_content='December 31, (in millions, except share data) Assets\\n\\nCash and due from banks\\n\\nDeposits with banks\\n\\nFederal funds sold and securities purchased under resale agreements (included $193,945 and $176,980 at fair value) Securities borrowed (included $22,454 and $32,112 at fair value) Trading assets (included assets pledged of $39,458 and $49,335(a)) Available-for-sale securities (amortized cost of $216,103 and $308,039, included assets pledged of $15,274 and $31,124(a)) Held-to-maturity securities\\n\\nInvestment securities, net of allowance for credit losses\\n\\nLoans (included $41,795 and $58,471 at fair value) Allowance for loan losses\\n\\nLoans, net of allowance for loan losses\\n\\nAccrued interest and accounts receivable\\n\\nPremises and equipment\\n\\nGoodwill, MSRs and other intangible assets Other assets (included $12,667 and $11,016 at fair value and assets pledged of $2,505 and $1,750) Total assets(b)\\n\\nLiabilities Deposits (included $28,742 and $11,479 at fair value) Federal funds purchased and securities loaned or sold under repurchase agreements (included $75,327 and $81,545 at fair value)\\n\\nShort-term borrowings (included $7,796 and $11,619 at fair value)\\n\\nTrading liabilities\\n\\nAccounts payable and other liabilities (included $7,760 and $7,366 at fair value)\\n\\nBeneficial interests issued by consolidated variable interest entities Long-term debt (included $27,145 and $35,633 at fair value) Total liabilities(b)\\n\\nCommitments and contingencies (refer to Notes 26, 27 and 28)\\n\\nStockholder’s equity\\n\\nPreferred stock ($1 par value; authorized 15,000,000 shares: issued 0 shares)\\n\\nCommon stock ($12 par value; authorized 200,000,000 shares; issued 168,971,750 shares)\\n\\nAdditional paid-in capital\\n\\nRetained earnings Accumulated other comprehensive income/(loss) Total stockholder’s equity Total liabilities and stockholder’s equity\\n\\n2022\\n\\n2021\\n\\n$\\n\\n27,258 $\\n\\n25,657\\n\\n538,715\\n\\n259,460 53,642 288,420\\n\\n205,790 425,305\\n\\n631,095\\n\\n713,660', metadata={'source': 'files/JPMorgan_Chase_Bank_Annual_Consolidated_Financial_Statements_onlybalancesheet.pdf'}),\n",
       " Document(page_content='2022\\n\\n2021\\n\\n$\\n\\n27,258 $\\n\\n25,657\\n\\n538,715\\n\\n259,460 53,642 288,420\\n\\n205,790 425,305\\n\\n631,095\\n\\n713,660\\n\\n227,457 65,111 293,428\\n\\n308,318 363,707\\n\\n672,025\\n\\n1,132,985 (19,714)\\n\\n1,075,106 (16,378)\\n\\n1,113,271\\n\\n1,058,728\\n\\n89,373\\n\\n26,347\\n\\n48,600 125,761\\n\\n76,345\\n\\n25,757\\n\\n45,831 102,983\\n\\n$ 3,201,942\\n\\n$ 3,306,982\\n\\n$ 2,440,722\\n\\n$ 2,549,631\\n\\n85,902\\n\\n10,074\\n\\n116,629\\n\\n156,433\\n\\n13,424 75,138\\n\\n102,266\\n\\n13,423\\n\\n111,017\\n\\n133,034\\n\\n10,721 84,042\\n\\n2,898,322\\n\\n3,004,134\\n\\n—\\n\\n2,028\\n\\n118,293\\n\\n—\\n\\n2,028\\n\\n118,221\\n\\n201,263 (17,964) 303,620 $ 3,201,942\\n\\n182,421 178 302,848 $ 3,306,982\\n\\n(a) Prior-period amounts have been revised to conform with the current presentation. (b) The following table presents information on assets and liabilities related to variable interest entities (“VIEs”) that are consolidated by the Bank at December 31, 2022 and 2021. The assets of the consolidated VIEs are used to settle the liabilities of those entities. The holders of the beneficial interests generally do not have recourse to the general credit of the Bank. The assets and liabilities in the table below include third-party assets and liabilities of consolidated VIEs (including balances with related parties) and exclude intercompany balances that eliminate in consolidation. Refer to Note 15 for a further discussion.\\n\\nDecember 31, (in millions)\\n\\nAssets\\n\\nTrading assets Loans All other assets Total assets\\n\\nLiabilities\\n\\nBeneficial interests issued by consolidated VIEs All other liabilities Total liabilities\\n\\n2022\\n\\n2021\\n\\n$\\n\\n2,089 34,394 290 36,773 $\\n\\n$\\n\\n13,424 132 13,556 $', metadata={'source': 'files/JPMorgan_Chase_Bank_Annual_Consolidated_Financial_Statements_onlybalancesheet.pdf'}),\n",
       " Document(page_content='Beneficial interests issued by consolidated VIEs All other liabilities Total liabilities\\n\\n2022\\n\\n2021\\n\\n$\\n\\n2,089 34,394 290 36,773 $\\n\\n$\\n\\n13,424 132 13,556 $\\n\\n1,990 33,001 207 35,198\\n\\n10,721 144 10,865\\n\\n$\\n\\n$\\n\\n$\\n\\n$\\n\\nThe Notes to Consolidated Financial Statements are an integral part of these statements.\\n\\nJPMorgan Chase Bank, National Association/2022 Consolidated Financial Statements\\n\\n5\\n\\nConsolidated statements of changes in stockholder’s equity JPMorgan Chase Bank, National Association (a wholly-owned subsidiary of JPMorgan Chase & Co.)\\n\\nYear ended December 31, (in millions)\\n\\nCommon stock\\n\\nBalance at January 1 and December 31\\n\\nAdditional paid-in capital\\n\\nBalance at January 1\\n\\nCash capital contribution from JPMorgan Chase & Co.\\n\\nOther\\n\\nBalance at December 31\\n\\nRetained earnings\\n\\nBalance at January 1\\n\\nCumulative effect of change in accounting principles\\n\\nNet income\\n\\nCash dividends paid to JPMorgan Chase & Co.\\n\\nBalance at December 31\\n\\nAccumulated other comprehensive income/(loss)\\n\\nBalance at January 1\\n\\nOther comprehensive income/(loss), after-tax\\n\\nBalance at December 31\\n\\nTotal stockholder’s equity\\n\\n2022\\n\\n2021\\n\\n2020\\n\\n$\\n\\n2,028\\n\\n$\\n\\n2,028\\n\\n$\\n\\n2,028\\n\\n118,221\\n\\n115,248\\n\\n110,297\\n\\n—\\n\\n72\\n\\n3,000\\n\\n(27)\\n\\n5,000\\n\\n(49)\\n\\n118,293\\n\\n118,221\\n\\n115,248\\n\\n182,421\\n\\n144,366\\n\\n132,016\\n\\n—\\n\\n—\\n\\n34,342\\n\\n38,055\\n\\n(15,500)\\n\\n—\\n\\n(2,682)\\n\\n21,032\\n\\n(6,000)\\n\\n201,263\\n\\n182,421\\n\\n144,366\\n\\n178\\n\\n(18,142)\\n\\n(17,964)\\n\\n8,418\\n\\n(8,240)\\n\\n178\\n\\n1,756\\n\\n6,662\\n\\n8,418\\n\\n$ 303,620 $ 302,848 $ 270,060\\n\\nEffective January 1, 2020, the Bank adopted the CECL accounting guidance. Refer to Note 1 for further information.\\n\\nThe Notes to Consolidated Financial Statements are an integral part of these statements.\\n\\n6', metadata={'source': 'files/JPMorgan_Chase_Bank_Annual_Consolidated_Financial_Statements_onlybalancesheet.pdf'}),\n",
       " Document(page_content='Effective January 1, 2020, the Bank adopted the CECL accounting guidance. Refer to Note 1 for further information.\\n\\nThe Notes to Consolidated Financial Statements are an integral part of these statements.\\n\\n6\\n\\nJPMorgan Chase Bank, National Association/2022 Consolidated Financial Statements\\n\\nConsolidated statements of cash flows JPMorgan Chase Bank, National Association (a wholly-owned subsidiary of JPMorgan Chase & Co.)\\n\\nYear ended December 31, (in millions)\\n\\nOperating activities\\n\\nNet income\\n\\nAdjustments to reconcile net income to net cash provided by/(used in) operating activities:\\n\\nProvision for credit losses\\n\\nDepreciation and amortization\\n\\nDeferred tax (benefit)/expense\\n\\nOther\\n\\nOriginations and purchases of loans held-for-sale\\n\\nProceeds from sales, securitizations and paydowns of loans held-for-sale\\n\\nNet change in:\\n\\nTrading assets\\n\\nSecurities borrowed\\n\\nAccrued interest and accounts receivable\\n\\nOther assets\\n\\nTrading liabilities\\n\\nAccounts payable and other liabilities\\n\\nOther operating adjustments\\n\\nNet cash provided by/(used in) operating activities\\n\\nInvesting activities\\n\\nNet change in:\\n\\n2022\\n\\n2021\\n\\n2020\\n\\n$ 34,342\\n\\n$ 38,055\\n\\n$ 21,032\\n\\n6,347\\n\\n6,590\\n\\n(3,542)\\n\\n2,380\\n\\n(9,296)\\n\\n17,483\\n\\n7,535\\n\\n2,147\\n\\n345\\n\\n8,355\\n\\n(3,819)\\n\\n(802)\\n\\n(149,091)\\n\\n(347,864)\\n\\n(166,499)\\n\\n167,713\\n\\n336,404\\n\\n175,426\\n\\n14,114\\n\\n10,973\\n\\n25,806\\n\\n(102,464)\\n\\n(20,978)\\n\\n(5,427)\\n\\n(13,088)\\n\\n(4,722)\\n\\n(17,569)\\n\\n(29,954)\\n\\n21,442\\n\\n(26,435)\\n\\n7,404\\n\\n(38,612)\\n\\n62,987\\n\\n46,646\\n\\n12,529\\n\\n8\\n\\n284\\n\\n1,455\\n\\n1,163\\n\\n100,842\\n\\n23,075\\n\\n(35,114)\\n\\nFederal funds sold and securities purchased under resale agreements\\n\\n(32,211)\\n\\n116,694\\n\\n(132,774)\\n\\nHeld-to-maturity securities:\\n\\nProceeds from paydowns and maturities\\n\\nPurchases\\n\\nAvailable-for-sale securities:', metadata={'source': 'files/JPMorgan_Chase_Bank_Annual_Consolidated_Financial_Statements_onlybalancesheet.pdf'}),\n",
       " Document(page_content='(32,211)\\n\\n116,694\\n\\n(132,774)\\n\\nHeld-to-maturity securities:\\n\\nProceeds from paydowns and maturities\\n\\nPurchases\\n\\nAvailable-for-sale securities:\\n\\nProceeds from paydowns and maturities\\n\\nProceeds from sales\\n\\nPurchases\\n\\nProceeds from sales and securitizations of loans held-for-investment\\n\\nOther changes in loans, net\\n\\nAll other investing activities, net\\n\\nNet cash (used in) investing activities\\n\\nFinancing activities\\n\\nNet change in:\\n\\nDeposits\\n\\nFederal funds purchased and securities loaned or sold under repurchase agreements\\n\\nShort-term borrowings\\n\\nBeneficial interests issued by consolidated VIEs\\n\\nProceeds from long-term borrowings\\n\\nPayments of long-term borrowings\\n\\nCash capital contribution from JPMorgan Chase & Co.\\n\\nDividends paid to JPMorgan Chase & Co.\\n\\nAll other financing activities, net\\n\\nNet cash provided by/(used in) financing activities\\n\\nEffect of exchange rate changes on cash and due from banks and deposits with banks\\n\\nNet increase/(decrease) in cash and due from banks and deposits with banks\\n\\nCash and due from banks and deposits with banks at the beginning of the period\\n\\nCash and due from banks and deposits with banks at the end of the period\\n\\nCash interest paid\\n\\nCash income taxes paid, net(a)\\n\\n48,626\\n\\n50,897\\n\\n21,360\\n\\n(33,676)\\n\\n(111,756)\\n\\n(12,400)\\n\\n39,048\\n\\n84,616\\n\\n49,505\\n\\n57,518\\n\\n162,642\\n\\n149,758\\n\\n(126,258)\\n\\n(248,784)\\n\\n(397,095)\\n\\n44,910\\n\\n35,843\\n\\n23,561\\n\\n(128,952)\\n\\n(91,019)\\n\\n(50,292)\\n\\n(8,017)\\n\\n(3,849)\\n\\n(2,609)\\n\\n(111,914)\\n\\n(39,827)\\n\\n(342,973)\\n\\n(111,772)\\n\\n274,351\\n\\n622,154\\n\\n(15,795)\\n\\n(33,459)\\n\\n49,262\\n\\n(2,122)\\n\\n1,886\\n\\n3,042\\n\\n(4,255)\\n\\n1,815\\n\\n1,329\\n\\n16,363\\n\\n29,783\\n\\n38,373\\n\\n(20,459)\\n\\n(29,389)\\n\\n(80,062)\\n\\n—\\n\\n3,000', metadata={'source': 'files/JPMorgan_Chase_Bank_Annual_Consolidated_Financial_Statements_onlybalancesheet.pdf'}),\n",
       " Document(page_content='(4,255)\\n\\n1,815\\n\\n1,329\\n\\n16,363\\n\\n29,783\\n\\n38,373\\n\\n(20,459)\\n\\n(29,389)\\n\\n(80,062)\\n\\n—\\n\\n3,000\\n\\n(15,500)\\n\\n576\\n\\n—\\n\\n(148)\\n\\n5,000\\n\\n(6,000)\\n\\n765\\n\\n(145,667)\\n\\n241,769\\n\\n632,636\\n\\n(16,605)\\n\\n(11,469)\\n\\n9,103\\n\\n(173,344)\\n\\n213,548\\n\\n263,652\\n\\n739,317\\n\\n525,769\\n\\n262,117\\n\\n$ 565,973\\n\\n$ 739,317\\n\\n$ 525,769\\n\\n$ 13,717\\n\\n$\\n\\n1,822\\n\\n$\\n\\n5,616\\n\\n9,586\\n\\n16,496\\n\\n9,848\\n\\n(a) Includes $12.5 billion, $13.3 billion and $7.4 billion paid to JPMorgan Chase & Co. in 2022, 2021 and 2020, respectively. Refer to Note 23 for discussion of income taxes.\\n\\nThe Notes to Consolidated Financial Statements are an integral part of these statements.\\n\\nJPMorgan Chase Bank, National Association/2022 Consolidated Financial Statements\\n\\n7\\n\\n134\\n\\nJPMorgan Chase Bank, National Association/2022 Consolidated Financial Statements', metadata={'source': 'files/JPMorgan_Chase_Bank_Annual_Consolidated_Financial_Statements_onlybalancesheet.pdf'}),\n",
       " Document(page_content='1Q23 Financial Results\\n\\nApril 14, 2023\\n\\n1Q23 Financial highlights\\n\\nROTCE1 23%\\n\\nCET1 capital ratios2 Std. 13.8% | Adv. 13.9% Total Loss-Absorbing Capacity2 $488B\\n\\nStd. RWA3 $1.7T Cash and marketable securities4 $1.4T Average loans $1.1T\\n\\nIncome statement\\n\\n⚫ 1Q23 net income of $12.6B and EPS of $4.10\\n\\n⚫ Managed revenue of $39.3B5\\n\\n– Included net investment securities losses of $868mm\\n\\n⚫ Expense of $20.1B and managed overhead ratio of 51%5\\n\\nBalance sheet\\n\\n⚫ Loans: average loans of $1.1T up 6% YoY and flat QoQ\\n\\n⚫ Deposits: average deposits of $2.3T down 8% YoY and down 3% QoQ\\n\\n⚫ CET1 capital of $227B2\\n\\n– Standardized CET1 capital ratio of 13.8%2; Advanced CET1 capital ratio of 13.9%2\\n\\nCapital distributed\\n\\n⚫ $1.9B of common stock net repurchases6\\n\\n⚫ Common dividend of $3.0B or $1.00 per share\\n\\n⚫ Net payout LTM of 33%7\\n\\nSIGNIFICANT ITEMS ($MM, EXCLUDING EPS)\\n\\n1 See note 3 on slide 10 2 Represents the estimated Basel III common equity Tier 1 (“CET1”) capital and ratio and Total Loss-Absorbing Capacity for the current period. See note 1 on slide 11 3 Standardized risk-weighted assets (“RWA”). Estimated for the current period. See note 1 on slide 11 4 Cash and marketable securities represents HQLA and unencumbered marketable securities. Estimated for the current period. See note 2 on slide 11 5 See note 1 on slide 10 6 Includes the net impact of employee issuances 7 Last twelve months (“LTM”). Net of stock issued to employees\\n\\n1\\n\\n1Q23 Financial results1\\n\\n$B, EXCEPT PER SHARE DATA\\n\\n1Q23 Tax rate Effective rate: 20.9% Managed rate: 25.6%1,6', metadata={'source': 'files/JPM_FinancialResult.pdf'}),\n",
       " Document(page_content='1\\n\\n1Q23 Financial results1\\n\\n$B, EXCEPT PER SHARE DATA\\n\\n1Q23 Tax rate Effective rate: 20.9% Managed rate: 25.6%1,6\\n\\nNote: Totals may not sum due to rounding 1 See note 1 on slide 10 2 Actual numbers for all periods, not over/(under) 3 See note 3 on slide 10 4 See note 2 on slide 10 5 See note 4 on slide 10 6 Reflects fully taxable-equivalent (“FTE”) adjustments of $987mm in 1Q23\\n\\n2\\n\\nFortress balance sheet\\n\\n$B, EXCEPT PER SHARE DATA\\n\\nSTANDARDIZED CET1 RATIO (%)1\\n\\n74 bps\\n\\n14 bps\\n\\n3 bps\\n\\n13.8%\\n\\n(29 bps)\\n\\n(9 bps)\\n\\n13.2%\\n\\nNet share repurchases: (12 bps)\\n\\n4Q22\\n\\nNet income5\\n\\nAOCI\\n\\n6\\n\\nCapital Distributions7\\n\\nRWA\\n\\nOther\\n\\n8\\n\\n1Q23\\n\\nSTANDARDIZED RISK-WEIGHTED ASSETS ($B)1\\n\\n1,654\\n\\n6\\n\\n1,650\\n\\n(6)\\n\\n(4)\\n\\n4Q22\\n\\nLoans\\n\\nMarket Risk\\n\\nCredit Risk ex. Loans\\n\\n1Q23\\n\\nNote: Totals may not sum due to rounding 1 Estimated for the current period. See note 1 on slide 11 2 Estimated for the current period. Represents the supplementary leverage ratio (“SLR”) 3 Estimated for the current period. Liquidity Coverage Ratio (“LCR”) represents the average LCR for the Firm and JPMorgan Chase Bank, N.A. (“Bank”). See note 2 on slide 11 4 See note 3 on slide 10 5 Reflects Net Income Applicable to Common Equity 6 Excludes AOCI on cash flow hedges and DVA related to structured notes 7 Includes net share repurchases and common dividends 8 Primarily CET1 capital deductions, including the impact of CECL. See note 1 on slide 11\\n\\n3\\n\\nConsumer & Community Banking1\\n\\nSELECTED INCOME STATEMENT DATA ($MM)\\n\\nFINANCIAL PERFORMANCE\\n\\nCCB\\n\\nCIB\\n\\nCB\\n\\nAWM\\n\\nCorp.\\n\\n⚫ Net income of $5.2B, up 80% YoY', metadata={'source': 'files/JPM_FinancialResult.pdf'}),\n",
       " Document(page_content='SELECTED INCOME STATEMENT DATA ($MM)\\n\\nFINANCIAL PERFORMANCE\\n\\nCCB\\n\\nCIB\\n\\nCB\\n\\nAWM\\n\\nCorp.\\n\\n⚫ Net income of $5.2B, up 80% YoY\\n\\n⚫ Revenue of $16.5B, up 35% YoY, driven by higher net interest income\\n\\n⚫ Expense of $8.1B, up 5% YoY, largely driven by higher compensation, including wage inflation and headcount growth, as well as investments in the business, largely offset by lower auto lease depreciation\\n\\n⚫ Credit costs of $1.4B\\n\\n⚫ NCOs of $1.1B, up $499mm YoY, predominantly driven by Card\\n\\nServices\\n\\n⚫ Reserve build of $300mm in Card Services and $50mm in Home\\n\\nLending\\n\\nKEY DRIVERS / STATISTICS ($B)3\\n\\nKEY DRIVERS / STATISTICS ($B) – DETAIL BY BUSINESS\\n\\n⚫ Average loans up 5% YoY and flat QoQ\\n\\n⚫ Average deposits down 4% YoY and 3% QoQ\\n\\n⚫ EOP deposits down 4% YoY and up 1% QoQ\\n\\n⚫ Active mobile customers up 9% YoY\\n\\n⚫ Debit & credit card sales volume up 10% YoY ⚫ Client investment assets down 1% YoY and up 7% QoQ\\n\\n1 See note 1 on slide 10 2 See note 3 on slide 11 For additional footnotes see slide 12\\n\\n4\\n\\nCorporate & Investment Bank1\\n\\nSELECTED INCOME STATEMENT DATA ($MM)\\n\\nFINANCIAL PERFORMANCE\\n\\nCCB\\n\\nCIB\\n\\nCB\\n\\nAWM\\n\\nCorp.\\n\\nKEY DRIVERS / STATISTICS ($B)3\\n\\n⚫ Net income of $4.4B, up 1% YoY; revenue of $13.6B, flat YoY\\n\\n⚫ Banking revenue\\n\\n⚫ IB revenue of $1.6B, down 24% YoY\\n\\n– IB fees down 19% YoY, predominantly driven by lower debt\\n\\nunderwriting fees\\n\\n⚫ Payments revenue of $2.4B, up 26% YoY', metadata={'source': 'files/JPM_FinancialResult.pdf'}),\n",
       " Document(page_content='– IB fees down 19% YoY, predominantly driven by lower debt\\n\\nunderwriting fees\\n\\n⚫ Payments revenue of $2.4B, up 26% YoY\\n\\n– Excluding the net impact of equity investments, primarily a gain in the prior year, up 55%, predominantly driven by higher rates, partially offset by lower deposit balances\\n\\n⚫ Lending revenue of $267mm, down 17% YoY, predominantly driven by mark-to-market losses on hedges of retained loans, largely offset by higher net interest income on higher loan balances\\n\\n⚫ Markets & Securities Services revenue\\n\\n⚫ Markets revenue of $8.4B, down 4% YoY\\n\\n– Fixed Income Markets revenue of $5.7B, flat YoY, reflecting higher revenue in Rates and Credit and lower revenue in Currencies & Emerging Markets\\n\\n– Equity Markets revenue of $2.7B, down 12% YoY, against a\\n\\nstrong first quarter in the prior year\\n\\n⚫ Securities Services revenue of $1.1B, up 7% YoY, driven by higher rates, partially offset by lower deposit balances and market levels\\n\\n⚫ Expense of $7.5B, up 2% YoY, reflecting higher compensation,\\n\\nincluding headcount growth and wage inflation, largely offset by lower revenue-related compensation\\n\\n⚫ Credit costs of $58mm\\n\\n1 See note 1 on slide 10 2 See note 3 on slide 11 For additional footnotes see slide 12\\n\\n5\\n\\nCommercial Banking1\\n\\nSELECTED INCOME STATEMENT DATA ($MM)\\n\\nFINANCIAL PERFORMANCE\\n\\nCCB\\n\\nCIB\\n\\nCB\\n\\nAWM\\n\\nCorp.\\n\\n⚫ Net income of $1.3B, up 58% YoY\\n\\n⚫ Revenue of $3.5B, up 46% YoY, driven by higher deposit margins,\\n\\npartially offset by lower deposit-related fees ⚫ Payments revenue of $2.0B, up 98% YoY ⚫ Gross IB revenue of $881mm, up 21% YoY\\n\\n⚫ Expense of $1.3B, up 16% YoY, largely driven by higher\\n\\ncompensation, including headcount growth, as well as higher volume- related expense\\n\\n⚫ Credit costs of $417mm, reflecting a net reserve build', metadata={'source': 'files/JPM_FinancialResult.pdf'}),\n",
       " Document(page_content='compensation, including headcount growth, as well as higher volume- related expense\\n\\n⚫ Credit costs of $417mm, reflecting a net reserve build\\n\\n⚫ Average loans of $238B, up 13% YoY and up 1% QoQ\\n\\n⚫ C&I7 up 18% YoY and up 1% QoQ ⚫ CRE7 up 8% YoY and up 1% QoQ\\n\\n⚫ Average deposits of $266B, down 16% YoY and 5% QoQ,\\n\\npredominantly driven by continued attrition in non-operating deposits as well as seasonally lower balances\\n\\nKEY DRIVERS / STATISTICS ($B)2\\n\\n1 See note 1 on slide 10 For additional footnotes see slide 12\\n\\n6\\n\\nAsset & Wealth Management1\\n\\nSELECTED INCOME STATEMENT DATA ($MM)\\n\\nFINANCIAL PERFORMANCE\\n\\nCCB\\n\\nCIB\\n\\nCB\\n\\nAWM\\n\\nCorp.\\n\\n⚫ Net income of $1.4B, up 36% YoY\\n\\n⚫ Revenue of $4.8B, up 11% YoY, driven by higher deposit margins on lower balances and a valuation gain of $339mm on the Firm’s initial investment in the Asset Management joint venture in China as a result of taking 100% ownership, partially offset by the impact of lower average market levels on management fees and lower performance fees\\n\\n⚫ Expense of $3.1B, up 8% YoY, predominantly driven by higher\\n\\ncompensation, including headcount growth, higher revenue-related compensation and the impact of acquisitions\\n\\n⚫ AUM of $3.0T was up 2% YoY and client assets of $4.3T were up\\n\\n6% YoY, driven by continued net inflows ⚫ For the quarter, AUM had long-term net inflows of $47B and\\n\\nliquidity net inflows of $93B\\n\\n⚫ Average loans of $211B, down 1% YoY and down 1% QoQ\\n\\n⚫ Average deposits of $224B, down 22% YoY and down 5% QoQ\\n\\nKEY DRIVERS / STATISTICS ($B)2\\n\\n1 See note 1 on slide 10 2 Actual numbers for all periods, not over/(under)\\n\\n7\\n\\nCorporate1', metadata={'source': 'files/JPM_FinancialResult.pdf'}),\n",
       " Document(page_content='KEY DRIVERS / STATISTICS ($B)2\\n\\n1 See note 1 on slide 10 2 Actual numbers for all periods, not over/(under)\\n\\n7\\n\\nCorporate1\\n\\nSELECTED INCOME STATEMENT DATA ($MM)\\n\\nFINANCIAL PERFORMANCE\\n\\nCCB\\n\\nCIB\\n\\nCB\\n\\nAWM\\n\\nCorp.\\n\\n⚫ Revenue was $985mm, up $1.9B YoY\\n\\n⚫ Net interest income was $1.7B, compared with a loss of $536mm\\n\\nin the prior year, due to the impact of higher rates\\n\\n⚫ Noninterest revenue was a loss of $755mm, compared with a loss\\n\\nof $345mm in the prior year, and included net investment securities losses of $868mm\\n\\n⚫ Expense: Noninterest expense of $160mm, down $24mm YoY\\n\\n⚫ Credit costs of $370mm, reflecting a net reserve build, driven by\\n\\nsingle name exposures\\n\\n1 See note 1 on slide 10\\n\\n8\\n\\nOutlook1\\n\\nFIRMWIDE\\n\\nExpect FY2023 net interest income and net interest income excluding Markets of ~$81B, market dependent\\n\\nSIGNIFICANT SOURCES OF UNCERTAINTY\\n\\n⚫ Deposit reprice (magnitude and timing)\\n\\n⚫ Consumer behavior and competitive dynamics\\n\\n⚫ Hard vs. soft landing\\n\\n⚫ Impacts both rates and loan growth\\n\\n⚫ Loan growth, including card revolve\\n\\n⚫ Securities reinvestment strategy\\n\\n⚫ Impact of policy choices\\n\\n⚫ Pace of quantitative tightening ⚫ Path of Fed Funds rate ⚫ Size and terms of RRP\\n\\nNII EX. MARKETS\\n\\n$21B\\n\\n~$60B\\n\\nRun-rate:\\n\\n$84B\\n\\n~$80B\\n\\nmid-70s ($B)\\n\\n1Q23\\n\\n2Q23 – 4Q23\\n\\nMedium-term\\n\\nExpect FY2023 adjusted expense of ~$81B, market dependent\\n\\nExpect FY2023 Card Services NCO rate of ~2.60%\\n\\n1\\n\\n2\\n\\n3\\n\\n1 See notes 1, 2 and 4 on slide 10\\n\\n9\\n\\nNotes on non-GAAP financial measures\\n\\n1.\\n\\n2.\\n\\n3.\\n\\n4.\\n\\n5.', metadata={'source': 'files/JPM_FinancialResult.pdf'}),\n",
       " Document(page_content='1\\n\\n2\\n\\n3\\n\\n1 See notes 1, 2 and 4 on slide 10\\n\\n9\\n\\nNotes on non-GAAP financial measures\\n\\n1.\\n\\n2.\\n\\n3.\\n\\n4.\\n\\n5.\\n\\nIn addition to analyzing the Firm’s results on a reported basis, management reviews Firmwide results, including the overhead ratio, on a “managed” basis; these Firmwide managed basis results are non-GAAP financial measures. The Firm also reviews the results of the lines of business on a managed basis. The Firm’s definition of managed basis starts, in each case, with the reported U.S. GAAP results and includes certain reclassifications to present total net revenue for the Firm and each of the reportable business segments on a fully taxable-equivalent basis. Accordingly, revenue from investments that receive tax credits and tax-exempt securities is presented in the managed results on a basis comparable to taxable investments and securities. These financial measures allow management to assess the comparability of revenue from year-to-year arising from both taxable and tax-exempt sources. The corresponding income tax impact related to tax-exempt items is recorded within income tax expense. These adjustments have no impact on net income as reported by the Firm as a whole or by the lines of business. For a reconciliation of the Firm’s results from a reported to managed basis, refer to page 7 of the Earnings Release Financial Supplement', metadata={'source': 'files/JPM_FinancialResult.pdf'}),\n",
       " Document(page_content='In addition to reviewing net interest income (“NII”) and noninterest revenue (“NIR”) on a managed basis, management also reviews these metrics excluding CIB Markets (“Markets”, which is composed of Fixed Income Markets and Equity Markets). Markets revenue consists of principal transactions, fees, commissions and other income, as well as net interest income. These metrics, which exclude Markets, are non-GAAP financial measures. Management reviews these metrics to assess the performance of the Firm’s lending, investing (including asset-liability management) and deposit-raising activities, apart from any volatility associated with Markets activities. In addition, management also assesses Markets business performance on a total revenue basis as offsets may occur across revenue lines. For example, securities that generate net interest income may be risk-managed by derivatives that are reflected at fair value in principal transactions revenue. Management believes these measures provide investors and analysts with alternative measures to analyze the revenue trends of the Firm. For a reconciliation of NII and NIR from reported to excluding Markets, refer to page 29 of the Earnings Release Financial Supplement. For additional information on Markets revenue, refer to page 70 of the Firm’s 2022 Form 10-K\\n\\nTangible common equity (“TCE”), return on tangible common equity (“ROTCE”) and tangible book value per share (“TBVPS”), are each non-GAAP financial measures. TCE represents the Firm’s common stockholders’ equity (i.e., total stockholders’ equity less preferred stock) less goodwill and identifiable intangible assets (other than mortgage servicing rights), net of related deferred tax liabilities. For a reconciliation from common stockholders’ equity to TCE, refer to page 10 of the Earnings Release Financial Supplement. ROTCE measures the Firm’s net income applicable to common equity as a percentage of average TCE. TBVPS represents the Firm’s TCE at period-end divided by common shares at period-end. Book value per share was $94.34, $90.29 and $86.16 at March 31, 2023, December 31, 2022 and March 31, 2022, respectively. TCE, ROTCE and TBVPS are utilized by the Firm, as well as investors and analysts, in assessing the Firm’s use of equity', metadata={'source': 'files/JPM_FinancialResult.pdf'}),\n",
       " Document(page_content='Adjusted expense and adjusted overhead ratio are each non-GAAP financial measures. Adjusted expense represents noninterest expense excluding Firmwide legal expense of $176mm, $27mm and $119mm for the three months ended March 31, 2023, December 31, 2022 and March 31, 2022, respectively. The adjusted overhead ratio measures the Firm’s adjusted expense as a percentage of managed net revenue. Management believes this information helps investors understand the effect of these items on reported results and provides an alternate presentation of the Firm’s performance\\n\\nCorporate & Investment Bank (“CIB”) calculates the ratio of the allowance for loan losses to end-of-period loans (“ALL/EOP”) excluding the impact of consolidated Firm-administered multi-seller conduits and trade finance loans, to provide a more meaningful assessment of CIB’s allowance coverage ratio\\n\\n10\\n\\nAdditional notes\\n\\n1.\\n\\n2.\\n\\n3.\\n\\nReflects the Current Expected Credit Losses (\"CECL\") capital transition provisions. Beginning January 1, 2022, the $2.9B CECL capital benefit is being phased out at 25% per year over a three-year period. As of March 31, 2023, CET1 capital and Total Loss-Absorbing Capacity reflected the remaining $1.4B CECL benefit; as of December 31, 2022 and March 31, 2022, CET1 capital reflected a $2.2B benefit. Refer to Capital Risk Management on pages 86-96 of the Firm’s 2022 Form 10-K for additional information', metadata={'source': 'files/JPM_FinancialResult.pdf'}),\n",
       " Document(page_content='Total excess high-quality liquid assets (“HQLA”) represent the average eligible unencumbered liquid assets that are in excess of what is required to meet the estimated Firm and Bank total net cash outflows over a prospective 30 calendar-day period of significant stress under the LCR rule. HQLA and unencumbered marketable securities, includes the Firm’s average eligible HQLA, other end-of-period HQLA-eligible securities which are included as part of the excess liquidity at the Bank that are not transferable to non-bank affiliates and thus excluded from the Firm’s LCR under the LCR rule, and other end-of-period unencumbered marketable securities, such as equity and debt securities. Does not include borrowing capacity at Federal Home Loan Banks and the discount window at the Federal Reserve Bank. Refer to Liquidity Risk Management on pages 97-104 of the Firm’s 2022 Form 10-K for additional information\\n\\nIn the first quarter of 2023, the allocations of revenue and expense to CCB associated with a Merchant Services revenue sharing agreement were discontinued and are now retained in Payments in CIB. Prior-period amounts have been revised to conform with the current presentation\\n\\n11\\n\\nAdditional notes on slides 4-6\\n\\nSlide 4 – Consumer & Community Banking\\n\\n3.\\n\\n4.\\n\\n5.\\n\\n6.\\n\\n7.\\n\\nActual numbers for all periods, not over/(under)\\n\\nUsers of all mobile platforms who have logged in within the past 90 days\\n\\nExcludes Commercial Card\\n\\nIncludes the impact of loans originated under the PPP. For further information, refer to page 13 of the Earnings Release Financial Supplement\\n\\nFirmwide mortgage origination volume was $6.8B, $8.5B and $30.2B for the three months ended March 31, 2023, December 31, 2022 and March 31, 2022, respectively\\n\\nSlide 5 – Corporate & Investment Bank\\n\\n3.\\n\\n4.\\n\\n5.\\n\\n6.\\n\\nActual numbers for all periods, not over/(under)\\n\\nClient deposits and other third-party liabilities pertain to the Payments and Securities Services businesses\\n\\nRepresents total merchant processing volume across CIB, CCB and CB', metadata={'source': 'files/JPM_FinancialResult.pdf'}),\n",
       " Document(page_content='5.\\n\\n6.\\n\\nActual numbers for all periods, not over/(under)\\n\\nClient deposits and other third-party liabilities pertain to the Payments and Securities Services businesses\\n\\nRepresents total merchant processing volume across CIB, CCB and CB\\n\\nLoans held-for-sale and loans at fair value were excluded when calculating the loan loss coverage ratio and net charge-off/(recovery) rate. ALL/EOP loans as reported was 1.31%, 1.22%, and 1.01% at March 31, 2023, December 31, 2022 and March 31, 2022, respectively. See note 5 on slide 10\\n\\nSlide 6 – Commercial Banking\\n\\n2.\\n\\n3.\\n\\n4.\\n\\n5.\\n\\n6.\\n\\n7.\\n\\nActual numbers for all periods, not over/(under)\\n\\nIn the fourth quarter of 2022, certain revenue from CIB Markets products was reclassified from investment banking to payments. Prior-period amounts have been revised to conform with the current presentation\\n\\nIncludes gross revenues earned by the Firm, that are subject to a revenue sharing arrangement with the CIB, for products sold to CB clients through the Investment Banking, Markets or Payments businesses. This includes revenues related to fixed income and equity markets products. Refer to page 61 of the Firm’s 2022 Form 10- K for discussion of revenue sharing\\n\\nIncludes the impact of loans originated under the PPP. For further information, refer to page 20 of the Earnings Release Financial Supplement\\n\\nLoans held-for-sale and loans at fair value were excluded when calculating the net charge-off/(recovery) rate and loan loss coverage ratio\\n\\nCommercial and Industrial (“C&I”) and Commercial Real Estate (“CRE”) groupings for CB are generally based on client segments and do not align with regulatory definitions\\n\\n12\\n\\nForward-looking statements', metadata={'source': 'files/JPM_FinancialResult.pdf'}),\n",
       " Document(page_content='Commercial and Industrial (“C&I”) and Commercial Real Estate (“CRE”) groupings for CB are generally based on client segments and do not align with regulatory definitions\\n\\n12\\n\\nForward-looking statements\\n\\nThis presentation contains forward-looking statements within the meaning of the Private Securities Litigation Reform Act of 1995. These statements are based on the current beliefs and expectations of JPMorgan Chase & Co.’s management and are subject to significant risks and uncertainties. Actual results may differ from those set forth in the forward-looking statements. Factors that could cause JPMorgan Chase & Co.’s actual results to differ materially from those described in the forward-looking statements can be found in JPMorgan Chase & Co.’s Annual Report on Form 10-K for the year ended December 31, 2022, which has been filed with the Securities and Exchange Commission and is available on JPMorgan Chase & Co.’s website (https://jpmorganchaseco.gcs- web.com/financial-information/sec-filings), and on the Securities and Exchange Commission’s website (www.sec.gov). JPMorgan Chase & Co. does not undertake to update any forward-looking statements.\\n\\n13', metadata={'source': 'files/JPM_FinancialResult.pdf'})]"
      ]
     },
     "execution_count": 97,
     "metadata": {},
     "output_type": "execute_result"
    }
   ],
   "source": [
    "chunks = pdf_2_chunks(documents)\n",
    "chunks"
   ]
  },
  {
   "cell_type": "code",
   "execution_count": 98,
   "metadata": {},
   "outputs": [
    {
     "name": "stdout",
     "output_type": "stream",
     "text": [
      "20\n"
     ]
    }
   ],
   "source": [
    "print(len(chunks))"
   ]
  },
  {
   "cell_type": "code",
   "execution_count": 99,
   "metadata": {},
   "outputs": [
    {
     "name": "stdout",
     "output_type": "stream",
     "text": [
      "Index status: \n",
      "\n",
      "{'dimension': 1536,\n",
      " 'index_fullness': 0.0,\n",
      " 'namespaces': {'': {'vector_count': 100}},\n",
      " 'total_vector_count': 100}\n"
     ]
    },
    {
     "data": {
      "text/plain": [
       "<pinecone.core.grpc.index_grpc.GRPCIndex at 0x14a0785d0>"
      ]
     },
     "execution_count": 99,
     "metadata": {},
     "output_type": "execute_result"
    }
   ],
   "source": [
    "index = pinecone_init(key_dict[\"PINECONE_API_KEY\"],key_dict[\"PINECONE_API_ENV\"],index_name=\"langchain-pdf-qna\",distance_metric=\"cosine\",embed_dimension=1536)\n",
    "index"
   ]
  },
  {
   "cell_type": "code",
   "execution_count": 100,
   "metadata": {},
   "outputs": [],
   "source": [
    "# delete_pinecone_index(index_name=\"langchain-pdf-qna\")"
   ]
  },
  {
   "cell_type": "code",
   "execution_count": 101,
   "metadata": {},
   "outputs": [
    {
     "name": "stdout",
     "output_type": "stream",
     "text": [
      "Index status: \n",
      "\n",
      "{'dimension': 1536,\n",
      " 'index_fullness': 0.0,\n",
      " 'namespaces': {'': {'vector_count': 100}},\n",
      " 'total_vector_count': 100}\n"
     ]
    }
   ],
   "source": [
    "pinecone_status(index)"
   ]
  },
  {
   "cell_type": "code",
   "execution_count": 102,
   "metadata": {},
   "outputs": [
    {
     "data": {
      "application/vnd.jupyter.widget-view+json": {
       "model_id": "7c86fc275e814267aa96e67b7d1f3803",
       "version_major": 2,
       "version_minor": 0
      },
      "text/plain": [
       "  0%|          | 0/20 [00:00<?, ?it/s]"
      ]
     },
     "metadata": {},
     "output_type": "display_data"
    }
   ],
   "source": [
    "load_chunks_2_pinecone(chunks,index,key_dict[\"OPENAI_API_KEY\"],embeddings_model_name='text-embedding-ada-002',batch_limit=100)"
   ]
  },
  {
   "cell_type": "code",
   "execution_count": 103,
   "metadata": {},
   "outputs": [
    {
     "name": "stdout",
     "output_type": "stream",
     "text": [
      "Index status: \n",
      "\n",
      "{'dimension': 1536,\n",
      " 'index_fullness': 0.0,\n",
      " 'namespaces': {'': {'vector_count': 120}},\n",
      " 'total_vector_count': 120}\n"
     ]
    }
   ],
   "source": [
    "pinecone_status(index)"
   ]
  },
  {
   "cell_type": "code",
   "execution_count": 104,
   "metadata": {},
   "outputs": [],
   "source": [
    "query = \"\"\"Write a comprehensive summary of this financial report. \n",
    "\n",
    "Divide it into,\n",
    "1. Financial highlights\n",
    "2. Analysis of Financial results\n",
    "3. Trends\n",
    "4. Risks\n",
    "5. Conclusion\n",
    "\n",
    "{text}\n",
    "\n",
    "SUMMARY:\"\"\""
   ]
  },
  {
   "cell_type": "code",
   "execution_count": 105,
   "metadata": {},
   "outputs": [
    {
     "data": {
      "text/plain": [
       "{'question': 'Write a comprehensive summary of this financial report. \\n\\nDivide it into,\\n1. Financial highlights\\n2. Analysis of Financial results\\n3. Trends\\n4. Risks\\n5. Conclusion\\n\\n{text}\\n\\nSUMMARY:',\n",
       " 'answer': 'Sorry, I cannot provide a comprehensive summary of this financial report as there is no clear context or content provided.',\n",
       " 'sources': ''}"
      ]
     },
     "execution_count": 105,
     "metadata": {},
     "output_type": "execute_result"
    }
   ],
   "source": [
    "query_pinecone(index_name=\"langchain-pdf-qna\",embed_model_api_key=key_dict[\"OPENAI_API_KEY\"],query=query,topk=3,embed_model_name='text-embedding-ada-002',qna_model=\"gpt-3.5-turbo\",temperature=0.0,chain_type=\"stuff\")"
   ]
  },
  {
   "cell_type": "code",
   "execution_count": null,
   "metadata": {},
   "outputs": [],
   "source": []
  },
  {
   "cell_type": "code",
   "execution_count": null,
   "metadata": {},
   "outputs": [],
   "source": []
  },
  {
   "cell_type": "code",
   "execution_count": null,
   "metadata": {},
   "outputs": [],
   "source": []
  }
 ],
 "metadata": {
  "kernelspec": {
   "display_name": "nlp_pip",
   "language": "python",
   "name": "python3"
  },
  "language_info": {
   "codemirror_mode": {
    "name": "ipython",
    "version": 3
   },
   "file_extension": ".py",
   "mimetype": "text/x-python",
   "name": "python",
   "nbconvert_exporter": "python",
   "pygments_lexer": "ipython3",
   "version": "3.11.3"
  },
  "orig_nbformat": 4
 },
 "nbformat": 4,
 "nbformat_minor": 2
}
