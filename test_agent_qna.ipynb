{
 "cells": [
  {
   "cell_type": "code",
   "execution_count": 1,
   "metadata": {},
   "outputs": [
    {
     "name": "stdout",
     "output_type": "stream",
     "text": [
      "['OPENAI_API_KEY', 'PINECONE_API_KEY', 'PINECONE_API_ENV', 'PROXYCURL_API_KEY', 'SERPAPI_API_KEY']\n"
     ]
    }
   ],
   "source": [
    "from langchain.utilities import SerpAPIWrapper\n",
    "from langchain.agents import initialize_agent, Tool\n",
    "from langchain.agents import AgentType\n",
    "\n",
    "from langchain.chat_models import ChatOpenAI\n",
    "from langchain import PromptTemplate\n",
    "\n",
    "from key_storage import key_dict\n",
    "print(list(key_dict.keys()))\n",
    "\n",
    "%reload_ext autoreload\n",
    "%autoreload 2"
   ]
  },
  {
   "cell_type": "code",
   "execution_count": 2,
   "metadata": {},
   "outputs": [],
   "source": [
    "def google_lookup(query: str) -> str:\n",
    "    \"\"\"Look up query on Google.\"\"\"\n",
    "    try:\n",
    "        search = SerpAPIWrapper(serpapi_api_key=key_dict[\"SERPAPI_API_KEY\"])\n",
    "        res = search.run(query)\n",
    "        return res\n",
    "    \n",
    "    except ValueError as e:  \n",
    "        print(\"SerpApi problem\")\n",
    "        print ('error type: ', e)\n",
    "        return \"answer not found\""
   ]
  },
  {
   "cell_type": "code",
   "execution_count": 3,
   "metadata": {},
   "outputs": [
    {
     "data": {
      "text/plain": [
       "'Credit risk, liquidity risk, asset-backed risk, foreign investment risk, equity risk, and currency risk are all common forms of financial risk.'"
      ]
     },
     "execution_count": 3,
     "metadata": {},
     "output_type": "execute_result"
    }
   ],
   "source": [
    "google_lookup(\"financial risk in banking\")"
   ]
  },
  {
   "cell_type": "code",
   "execution_count": 4,
   "metadata": {},
   "outputs": [
    {
     "name": "stderr",
     "output_type": "stream",
     "text": [
      "/Users/venetispallikaras/opt/anaconda3/envs/nlp_pip/lib/python3.11/site-packages/pinecone/index.py:4: TqdmExperimentalWarning: Using `tqdm.autonotebook.tqdm` in notebook mode. Use `tqdm.tqdm` instead to force console mode (e.g. in jupyter console)\n",
      "  from tqdm.autonotebook import tqdm\n"
     ]
    },
    {
     "name": "stdout",
     "output_type": "stream",
     "text": [
      "Index status: \n",
      "\n",
      "{'dimension': 1536,\n",
      " 'index_fullness': 0.0,\n",
      " 'namespaces': {'': {'vector_count': 39}},\n",
      " 'total_vector_count': 39}\n"
     ]
    }
   ],
   "source": [
    "from utils.utils import pdf_loader,pdf_2_chunks,pinecone_init,load_chunks_2_pinecone,delete_pinecone_index,pinecone_status,query_pinecone\n",
    "index = pinecone_init(key_dict[\"PINECONE_API_KEY\"],key_dict[\"PINECONE_API_ENV\"],index_name=\"langchain-pdf-qna\",distance_metric=\"cosine\",embed_dimension=1536)\n",
    "\n",
    "# def document_qna_pinecone_lookup_hardcoded(query: str) -> str: \n",
    "#     res = query_pinecone(index_name=\"langchain-pdf-qna\",embed_model_api_key=key_dict[\"OPENAI_API_KEY\"],query=query,topk=5,embed_model_name='text-embedding-ada-002',qna_model=\"gpt-3.5-turbo\",temperature=0.0,chain_type=\"stuff\")\n",
    "\n",
    "#     return res\n",
    "\n",
    "def document_qna_pinecone_lookup_hardcoded(query: str) -> str: \n",
    "    res = query_pinecone(index_name=\"langchain-pdf-qna\",embed_model_api_key=key_dict[\"OPENAI_API_KEY\"],query=query,topk=5,embed_model_name='text-embedding-ada-002',qna_model=\"gpt-3.5-turbo\",temperature=0.0,chain_type=\"map_rerank\")\n",
    "\n",
    "    return res\n",
    "\n"
   ]
  },
  {
   "cell_type": "code",
   "execution_count": 5,
   "metadata": {},
   "outputs": [
    {
     "data": {
      "text/plain": [
       "{'question': 'what is the total net revenue of jpmorgan chase bank in year 2021',\n",
       " 'answer': '104,205 million',\n",
       " 'sources': ''}"
      ]
     },
     "execution_count": 5,
     "metadata": {},
     "output_type": "execute_result"
    }
   ],
   "source": [
    "document_qna_pinecone_lookup_hardcoded(\"\"\"what is the total net revenue of jpmorgan chase bank in year 2021\"\"\")"
   ]
  },
  {
   "cell_type": "code",
   "execution_count": 6,
   "metadata": {},
   "outputs": [
    {
     "data": {
      "text/plain": [
       "{'question': 'what is the total net revenue of jpmorgan chase bank in year 2022',\n",
       " 'answer': '118,977 million',\n",
       " 'sources': ''}"
      ]
     },
     "execution_count": 6,
     "metadata": {},
     "output_type": "execute_result"
    }
   ],
   "source": [
    "document_qna_pinecone_lookup_hardcoded(\"\"\"what is the total net revenue of jpmorgan chase bank in year 2022\"\"\")"
   ]
  },
  {
   "cell_type": "code",
   "execution_count": null,
   "metadata": {},
   "outputs": [],
   "source": []
  },
  {
   "cell_type": "code",
   "execution_count": 13,
   "metadata": {},
   "outputs": [],
   "source": [
    "def qna_agent(question: str, context: str=None) -> str:\n",
    "    \"\"\"For the provided question and context, it will try to answer the question\"\"\"\n",
    "\n",
    "\n",
    "    llm = ChatOpenAI(temperature=0, model_name=\"gpt-3.5-turbo\",openai_api_key = key_dict[\"OPENAI_API_KEY\"],)\n",
    "\n",
    "    if context:\n",
    "        template = \"\"\"Given the question {question} and the context {context} I want you to answer the question.\n",
    "                      Your answer should be a string. If you cannot find the answer return \"not found\". \"\"\" #perhaps explicitely mention  that it should use the embed database\n",
    "        #you are an analyst working in a bank?\n",
    "        #provide the context ourselves either via sending documents or via sending a summary of those or the answer to the question via pinecone\n",
    "    else:\n",
    "        template = \"\"\"Given the question {question}, I want you to answer the question.\n",
    "                      Your answer should be a string. If you cannot find the answer return \"not found\". \"\"\"\n",
    "    \n",
    "    tools_for_agent = [\n",
    "        Tool(\n",
    "            name=\"database lookup\",\n",
    "            func=document_qna_pinecone_lookup_hardcoded,\n",
    "            description=\"queries our embedding database in order to find the documents most related to our question\", #maybe have it return an answer or not answer instead of raw documents?\n",
    "        ),\n",
    "        Tool(\n",
    "            name=\"web search\",\n",
    "            func=google_lookup,\n",
    "            description=\"allows you to search the web, it can be used in order to answer a question or gain context about a question or terminology\",\n",
    "        ),\n",
    "        \n",
    "        ]\n",
    "\n",
    "    agent = initialize_agent(tools_for_agent, llm, agent=AgentType.ZERO_SHOT_REACT_DESCRIPTION, verbose=True ) #verbose helps us see the reasoning and the subtasks the llm have made      \n",
    "\n",
    "    if context:\n",
    "\n",
    "        prompt_template = PromptTemplate(input_variables=[\"question\", \"context\"], template=template)\n",
    "        answer = agent.run(prompt_template.format_prompt(question=question, context=context))\n",
    "\n",
    "    else:\n",
    "        prompt_template = PromptTemplate(input_variables=[\"question\"], template=template)\n",
    "        answer = agent.run(prompt_template.format_prompt(question=question))\n",
    "\n",
    "    return answer"
   ]
  },
  {
   "cell_type": "code",
   "execution_count": 15,
   "metadata": {},
   "outputs": [
    {
     "name": "stdout",
     "output_type": "stream",
     "text": [
      "\n",
      "\n",
      "\u001b[1m> Entering new AgentExecutor chain...\u001b[0m\n",
      "\u001b[32;1m\u001b[1;3mI need to find information about JPMorgan Chase Bank's net revenue in 2021.\n",
      "Action: web search\n",
      "Action Input: \"JPMorgan Chase Bank net revenue 2021\"\u001b[0m\n",
      "Observation: \u001b[33;1m\u001b[1;3mJPMorgan Chase revenue for the twelve months ending March 31, 2023 was $177.093B, a 40.67% increase year-over-year. JPMorgan Chase annual revenue for 2022 was $154.792B, a 21.69% increase from 2021. JPMorgan Chase annual revenue for 2021 was $127.202B, a 2.09% decline from 2020.\u001b[0m\n",
      "Thought:\u001b[32;1m\u001b[1;3mI found the information I needed, but I need to extract the specific net revenue for JPMorgan Chase Bank in 2021.\n",
      "Action: database lookup\n",
      "Action Input: \"JPMorgan Chase Bank net revenue 2021\"\u001b[0m\n",
      "Observation: \u001b[36;1m\u001b[1;3m{'question': 'JPMorgan Chase Bank net revenue 2021', 'answer': '104,205 million', 'sources': ''}\u001b[0m\n",
      "Thought:\u001b[32;1m\u001b[1;3mI have the specific net revenue for JPMorgan Chase Bank in 2021.\n",
      "Final Answer: \"127.202B\"\u001b[0m\n",
      "\n",
      "\u001b[1m> Finished chain.\u001b[0m\n"
     ]
    },
    {
     "data": {
      "text/plain": [
       "'\"127.202B\"'"
      ]
     },
     "execution_count": 15,
     "metadata": {},
     "output_type": "execute_result"
    }
   ],
   "source": [
    "qna_agent(\"\"\"what is the \"total net revenue\" of jpmorgan chase bank in year 2021\"\"\")"
   ]
  },
  {
   "cell_type": "code",
   "execution_count": 16,
   "metadata": {},
   "outputs": [
    {
     "name": "stdout",
     "output_type": "stream",
     "text": [
      "\n",
      "\n",
      "\u001b[1m> Entering new AgentExecutor chain...\u001b[0m\n",
      "\u001b[32;1m\u001b[1;3mI need to find the total net revenue of JPMorgan Chase Bank in 2021.\n",
      "Action: database lookup\n",
      "Action Input: \"JPMorgan Chase Bank net revenue 2021\"\u001b[0m\n",
      "Observation: \u001b[36;1m\u001b[1;3m{'question': 'JPMorgan Chase Bank net revenue 2021', 'answer': '104,205 million', 'sources': ''}\u001b[0m\n",
      "Thought:\u001b[32;1m\u001b[1;3mI need to verify this information with a web search.\n",
      "Action: web search\n",
      "Action Input: \"JPMorgan Chase Bank net revenue 2021\"\u001b[0m\n",
      "Observation: \u001b[33;1m\u001b[1;3mJPMorgan Chase revenue for the twelve months ending March 31, 2023 was $177.093B, a 40.67% increase year-over-year. JPMorgan Chase annual revenue for 2022 was $154.792B, a 21.69% increase from 2021. JPMorgan Chase annual revenue for 2021 was $127.202B, a 2.09% decline from 2020.\u001b[0m\n",
      "Thought:\u001b[32;1m\u001b[1;3mI have found the answer to the question.\n",
      "Final Answer: The total net revenue of JPMorgan Chase Bank in year 2021 was $127.202B.\u001b[0m\n",
      "\n",
      "\u001b[1m> Finished chain.\u001b[0m\n"
     ]
    },
    {
     "data": {
      "text/plain": [
       "'The total net revenue of JPMorgan Chase Bank in year 2021 was $127.202B.'"
      ]
     },
     "execution_count": 16,
     "metadata": {},
     "output_type": "execute_result"
    }
   ],
   "source": [
    "#Analysis of Financial results\n",
    "\n",
    "qna_agent(\"\"\"You are a financial analyst working in a bank. You are asked to analyze the financial results of jpmorgan chase bank. What is the total net revenue of jpmorgan chase bank in year 2021\"\"\")"
   ]
  },
  {
   "cell_type": "code",
   "execution_count": 17,
   "metadata": {},
   "outputs": [
    {
     "name": "stdout",
     "output_type": "stream",
     "text": [
      "\n",
      "\n",
      "\u001b[1m> Entering new AgentExecutor chain...\u001b[0m\n",
      "\u001b[32;1m\u001b[1;3mI need to gather information about JPMorgan Chase's financial results.\n",
      "Action: web search\n",
      "Action Input: \"JPMorgan Chase financial results\"\u001b[0m\n",
      "Observation: \u001b[33;1m\u001b[1;3mJPMorgan Chase & Co. is an American multinational financial services firm headquartered in New York City and incorporated in Delaware. It is the largest bank in the United States and the world's largest bank by market capitalization.\u001b[0m\n",
      "Thought:\u001b[32;1m\u001b[1;3mI need to find more specific information about JPMorgan Chase's financial results.\n",
      "Action: web search\n",
      "Action Input: \"JPMorgan Chase financial results 2020\"\u001b[0m\n",
      "Observation: \u001b[33;1m\u001b[1;3mJPMorgan Chase annual revenue for 2022 was $154.792B, a 21.69% increase from 2021. JPMorgan Chase annual revenue for 2021 was $127.202B, a 2.09% decline from 2020. JPMorgan Chase annual revenue for 2020 was $129.911B, a 8.84% decline from 2019.\u001b[0m\n",
      "Thought:\u001b[32;1m\u001b[1;3mI need to analyze JPMorgan Chase's financial results and write a report.\n",
      "Action: database lookup\n",
      "Action Input: \"JPMorgan Chase financial results analysis\"\u001b[0m\n",
      "Observation: \u001b[36;1m\u001b[1;3m{'question': 'JPMorgan Chase financial results analysis', 'answer': 'Total net revenue for JPMorgan Chase Bank, National Association in 2022 was $118,977 million, with investment banking fees being the largest revenue source at $2,955 million. The bank also had a net interest income of $68,422 million. Noninterest expense for the year included compensation expense of $34,000 million and occupancy expense of $4,469 million. There was a provision for credit losses of $6,347 million. ', 'sources': ''}\u001b[0m\n",
      "Thought:\u001b[32;1m\u001b[1;3mI have the necessary information to write the analysis of JPMorgan Chase's financial results.\n",
      "Final Answer: Total net revenue for JPMorgan Chase Bank, National Association in 2022 was $118,977 million, with investment banking fees being the largest revenue source at $2,955 million. The bank also had a net interest income of $68,422 million. Noninterest expense for the year included compensation expense of $34,000 million and occupancy expense of $4,469 million. There was a provision for credit losses of $6,347 million.\u001b[0m\n",
      "\n",
      "\u001b[1m> Finished chain.\u001b[0m\n"
     ]
    },
    {
     "data": {
      "text/plain": [
       "'Total net revenue for JPMorgan Chase Bank, National Association in 2022 was $118,977 million, with investment banking fees being the largest revenue source at $2,955 million. The bank also had a net interest income of $68,422 million. Noninterest expense for the year included compensation expense of $34,000 million and occupancy expense of $4,469 million. There was a provision for credit losses of $6,347 million.'"
      ]
     },
     "execution_count": 17,
     "metadata": {},
     "output_type": "execute_result"
    }
   ],
   "source": [
    "qna_agent(\"\"\"You are a financial analyst working in a bank. You are asked to analyze the financial results of jpmorgan chase bank. Write an analysis of the financial results of jpmorgan chase bank\"\"\")"
   ]
  },
  {
   "cell_type": "code",
   "execution_count": null,
   "metadata": {},
   "outputs": [],
   "source": []
  },
  {
   "cell_type": "code",
   "execution_count": null,
   "metadata": {},
   "outputs": [],
   "source": [
    "index = pinecone.Index(index_name)\n",
    "    vectorstore = Pinecone(\n",
    "        index, embeddings.embed_query,\"text\" #text correlates to the text key of the metadata, thus it necessary when we send data to the index to have such key value\n",
    "    )\n",
    "\n",
    "    #find topk closest documents to our query\n",
    "    vectorstore.similarity_search(\n",
    "        query,  # our search query\n",
    "        k=topk  # return top k most relevant docs\n",
    "    )\n"
   ]
  },
  {
   "cell_type": "code",
   "execution_count": 25,
   "metadata": {},
   "outputs": [
    {
     "name": "stdout",
     "output_type": "stream",
     "text": [
      "Index status: \n",
      "\n",
      "{'dimension': 1536,\n",
      " 'index_fullness': 0.0,\n",
      " 'namespaces': {'': {'vector_count': 39}},\n",
      " 'total_vector_count': 39}\n"
     ]
    }
   ],
   "source": [
    "from utils.utils import pdf_loader,pdf_2_chunks,pinecone_init,load_chunks_2_pinecone,delete_pinecone_index,pinecone_status,query_pinecone\n",
    "import pinecone\n",
    "from langchain.vectorstores import Pinecone\n",
    "from langchain.embeddings import OpenAIEmbeddings\n",
    "\n",
    "index = pinecone_init(key_dict[\"PINECONE_API_KEY\"],key_dict[\"PINECONE_API_ENV\"],index_name=\"langchain-pdf-qna\",distance_metric=\"cosine\",embed_dimension=1536)\n",
    "\n",
    "\n",
    "def document_pinecone_lookup_hardcoded(query: str) -> str: \n",
    "    embeddings = OpenAIEmbeddings(\n",
    "    model=\"text-embedding-ada-002\",\n",
    "    openai_api_key=key_dict[\"OPENAI_API_KEY\"])\n",
    "\n",
    "\n",
    "    vectorstore = Pinecone(\n",
    "        index, embeddings.embed_query,\"text\" #text correlates to the text key of the metadata, thus it necessary when we send data to the index to have such key value\n",
    "    )\n",
    "    \n",
    "\n",
    "\n"
   ]
  },
  {
   "cell_type": "code",
   "execution_count": 26,
   "metadata": {},
   "outputs": [
    {
     "data": {
      "text/plain": [
       "[Document(page_content='JPMorgan Chase Bank, National Association/2022 Consolidated Financial Statements 2', metadata={'chunk': 1.0, 'source': 'files/JPMorgan_Chase_Bank_Annual_Consolidated_Financial_Statements_onlybalancesheet.pdf'}),\n",
       " Document(page_content='134 JPMorgan Chase Bank, National Association/2022 Consolidated Financial Statements', metadata={'chunk': 15.0, 'source': 'files/JPMorgan_Chase_Bank_Annual_Consolidated_Financial_Statements_onlybalancesheet.pdf'}),\n",
       " Document(page_content='1Q23 Financial Results\\nApril 14, 2023', metadata={'chunk': 16.0, 'source': 'files/JPM_FinancialResult.pdf'}),\n",
       " Document(page_content='ex. LoansMarket Risk 1Q23\\n(4)1,6541,650\\n(6)6AOCI Other6 84Q22 RWA 1Q23 Capital\\nDistributions7Net \\nincome5\\n13.8%\\n13.2%\\nNet share \\nrepurchases: (12 bps)74 bps14 bps\\n(29 bps)3 bps\\n(9 bps)\\n3', metadata={'chunk': 21.0, 'source': 'files/JPM_FinancialResult.pdf'}),\n",
       " Document(page_content='services 6,983 6,510 5,692 Marketing 3,877 2,936 2,338 Other expense 10,761 10,170 9,821 Total noninterest expense 68,736 64,445 60,715 Income before income tax expense 43,894 49,056 27,202 Income tax expense 9,552 11,001 6,170 Net income $ 34,342 $ 38,055 $ 21,032   The Notes to Consolidated Financial Statements are an integral part of these statements.', metadata={'chunk': 3.0, 'source': 'files/JPMorgan_Chase_Bank_Annual_Consolidated_Financial_Statements_onlybalancesheet.pdf'})]"
      ]
     },
     "execution_count": 26,
     "metadata": {},
     "output_type": "execute_result"
    }
   ],
   "source": [
    "embeddings = OpenAIEmbeddings(\n",
    "    model=\"text-embedding-ada-002\",\n",
    "    openai_api_key=key_dict[\"OPENAI_API_KEY\"])\n",
    "\n",
    "\n",
    "index = pinecone.Index(\"langchain-pdf-qna\")\n",
    "\n",
    "vectorstore = Pinecone(\n",
    "        index, embeddings.embed_query,\"text\" #text correlates to the text key of the metadata, thus it necessary when we send data to the index to have such key value\n",
    "    )\n",
    "\n",
    "vectorstore.similarity_search(\n",
    "        \"test test \",  # our search query\n",
    "        k=5  # return top k most relevant docs\n",
    "    )"
   ]
  },
  {
   "cell_type": "code",
   "execution_count": null,
   "metadata": {},
   "outputs": [],
   "source": []
  }
 ],
 "metadata": {
  "kernelspec": {
   "display_name": "nlp_pip",
   "language": "python",
   "name": "python3"
  },
  "language_info": {
   "codemirror_mode": {
    "name": "ipython",
    "version": 3
   },
   "file_extension": ".py",
   "mimetype": "text/x-python",
   "name": "python",
   "nbconvert_exporter": "python",
   "pygments_lexer": "ipython3",
   "version": "3.11.3"
  },
  "orig_nbformat": 4
 },
 "nbformat": 4,
 "nbformat_minor": 2
}
