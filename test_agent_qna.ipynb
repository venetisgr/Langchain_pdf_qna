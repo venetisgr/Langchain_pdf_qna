{
 "cells": [
  {
   "cell_type": "code",
   "execution_count": 8,
   "metadata": {},
   "outputs": [
    {
     "name": "stdout",
     "output_type": "stream",
     "text": [
      "['OPENAI_API_KEY', 'PINECONE_API_KEY', 'PINECONE_API_ENV', 'PROXYCURL_API_KEY', 'SERPAPI_API_KEY']\n"
     ]
    }
   ],
   "source": [
    "from langchain.utilities import SerpAPIWrapper\n",
    "from langchain.agents import initialize_agent, Tool\n",
    "from langchain.agents import AgentType\n",
    "\n",
    "from langchain.chat_models import ChatOpenAI\n",
    "from langchain import PromptTemplate\n",
    "\n",
    "from key_storage import key_dict\n",
    "print(list(key_dict.keys()))\n",
    "\n",
    "%reload_ext autoreload\n",
    "%autoreload 2"
   ]
  },
  {
   "cell_type": "code",
   "execution_count": 6,
   "metadata": {},
   "outputs": [],
   "source": [
    "def google_lookup(query: str) -> str:\n",
    "    \"\"\"Look up query on Google.\"\"\"\n",
    "    try:\n",
    "        search = SerpAPIWrapper(serpapi_api_key=key_dict[\"SERPAPI_API_KEY\"])\n",
    "        res = search.run(query)\n",
    "        return res\n",
    "    \n",
    "    except ValueError as e:  \n",
    "        print(\"SerpApi problem\")\n",
    "        print ('error type: ', e)\n",
    "        return \"answer not found\""
   ]
  },
  {
   "cell_type": "code",
   "execution_count": 7,
   "metadata": {},
   "outputs": [
    {
     "data": {
      "text/plain": [
       "'These risks are: Credit, Interest Rate, Liquidity, Price, Foreign Exchange, Transaction, Compliance, Strategic and Reputation. These categories are not mutually exclusive; any product or service may expose the bank to multiple risks.'"
      ]
     },
     "execution_count": 7,
     "metadata": {},
     "output_type": "execute_result"
    }
   ],
   "source": [
    "google_lookup(\"financial risk in banking\")"
   ]
  },
  {
   "cell_type": "code",
   "execution_count": 11,
   "metadata": {},
   "outputs": [
    {
     "name": "stdout",
     "output_type": "stream",
     "text": [
      "Index status: \n",
      "\n",
      "{'dimension': 1536,\n",
      " 'index_fullness': 0.0,\n",
      " 'namespaces': {'': {'vector_count': 39}},\n",
      " 'total_vector_count': 39}\n"
     ]
    }
   ],
   "source": [
    "from utils.utils import pdf_loader,pdf_2_chunks,pinecone_init,load_chunks_2_pinecone,delete_pinecone_index,pinecone_status,query_pinecone\n",
    "index = pinecone_init(key_dict[\"PINECONE_API_KEY\"],key_dict[\"PINECONE_API_ENV\"],index_name=\"langchain-pdf-qna\",distance_metric=\"cosine\",embed_dimension=1536)\n",
    "\n",
    "def document_pinecone_lookup_hardcoded(query: str) -> str: \n",
    "    res = query_pinecone(index_name=\"langchain-pdf-qna\",embed_model_api_key=key_dict[\"OPENAI_API_KEY\"],query=query,topk=3,embed_model_name='text-embedding-ada-002',qna_model=\"gpt-3.5-turbo\",temperature=0.0,chain_type=\"stuff\")\n",
    "\n",
    "    return res\n"
   ]
  },
  {
   "cell_type": "code",
   "execution_count": 12,
   "metadata": {},
   "outputs": [
    {
     "data": {
      "text/plain": [
       "{'question': 'what is the total net revenue of jpmorgan chase bank in year 2021',\n",
       " 'answer': 'The total net revenue of JPMorgan Chase Bank in 2021 was $104,205 million.\\n',\n",
       " 'sources': 'files/JPMorgan_Chase_Bank_Annual_Consolidated_Financial_Statements_onlybalancesheet.pdf'}"
      ]
     },
     "execution_count": 12,
     "metadata": {},
     "output_type": "execute_result"
    }
   ],
   "source": [
    "document_pinecone_lookup_hardcoded(\"\"\"what is the total net revenue of jpmorgan chase bank in year 2021\"\"\")"
   ]
  },
  {
   "cell_type": "code",
   "execution_count": 13,
   "metadata": {},
   "outputs": [
    {
     "data": {
      "text/plain": [
       "{'question': 'what is the total net revenue of jpmorgan chase bank in year 2022',\n",
       " 'answer': 'The total net revenue of JPMorgan Chase Bank in year 2022 was $118,977 million.\\n',\n",
       " 'sources': 'files/JPMorgan_Chase_Bank_Annual_Consolidated_Financial_Statements_onlybalancesheet.pdf'}"
      ]
     },
     "execution_count": 13,
     "metadata": {},
     "output_type": "execute_result"
    }
   ],
   "source": [
    "document_pinecone_lookup_hardcoded(\"\"\"what is the total net revenue of jpmorgan chase bank in year 2022\"\"\")"
   ]
  },
  {
   "cell_type": "code",
   "execution_count": null,
   "metadata": {},
   "outputs": [],
   "source": []
  },
  {
   "cell_type": "code",
   "execution_count": null,
   "metadata": {},
   "outputs": [],
   "source": [
    "def qna_agent(question: str, context: str=None) -> str:\n",
    "    \"\"\"For the provided question and context, it will try to answer the question\"\"\"\n",
    "\n",
    "\n",
    "    llm = ChatOpenAI(temperature=0, model_name=\"gpt-3.5-turbo\",openai_api_key = key_dict[\"OPENAI_API_KEY\"],)\n",
    "\n",
    "    if context:\n",
    "        template = \"\"\"Given the question {question} and the context {context} I want you to answer the question.\n",
    "                      Your answer should be a string. If you cannot find the answer return \"not found\". \"\"\" #perhaps explicitely mention  that it should use the embed database\n",
    "        #you are an analyst working in a bank?\n",
    "        #provide the context ourselves either via sending documents or via sending a summary of those or the answer to the question via pinecone\n",
    "    else:\n",
    "        template = \"\"\"Given the question {question}, I want you to answer the question.\n",
    "                      Your answer should be a string. If you cannot find the answer return \"not found\". \"\"\"\n",
    "    \n",
    "    tools_for_agent = [\n",
    "        Tool(\n",
    "            name=\"database lookup\",\n",
    "            func=document_pinecone_lookup_hardcoded,\n",
    "            description=\"queries our embedding database in order to find the documents most related to our question\", #maybe have it return an answer or not answer instead of raw documents?\n",
    "        ),\n",
    "        Tool(\n",
    "            name=\"web search\",\n",
    "            func=google_lookup,\n",
    "            description=\"allows you to search the web, it can be used in order to answer a question or gain context about a question or terminology\",\n",
    "        ),\n",
    "        \n",
    "        ]\n",
    "\n",
    "    agent = initialize_agent(tools_for_agent, llm, agent=AgentType.ZERO_SHOT_REACT_DESCRIPTION, verbose=True ) #verbose helps us see the reasoning and the subtasks the llm have made      \n",
    "\n",
    "    if context:\n",
    "\n",
    "        prompt_template = PromptTemplate(input_variables=[\"question\", \"context\"], template=template)\n",
    "        answer = agent.run(prompt_template.format_prompt(question=question, context=context))\n",
    "\n",
    "    else:\n",
    "        prompt_template = PromptTemplate(input_variables=[\"question\"], template=template)\n",
    "        answer = agent.run(prompt_template.format_prompt(question=question))\n",
    "\n",
    "    return answer"
   ]
  },
  {
   "cell_type": "code",
   "execution_count": null,
   "metadata": {},
   "outputs": [],
   "source": []
  },
  {
   "cell_type": "code",
   "execution_count": null,
   "metadata": {},
   "outputs": [],
   "source": []
  }
 ],
 "metadata": {
  "kernelspec": {
   "display_name": "nlp_pip",
   "language": "python",
   "name": "python3"
  },
  "language_info": {
   "codemirror_mode": {
    "name": "ipython",
    "version": 3
   },
   "file_extension": ".py",
   "mimetype": "text/x-python",
   "name": "python",
   "nbconvert_exporter": "python",
   "pygments_lexer": "ipython3",
   "version": "3.11.3"
  },
  "orig_nbformat": 4
 },
 "nbformat": 4,
 "nbformat_minor": 2
}
